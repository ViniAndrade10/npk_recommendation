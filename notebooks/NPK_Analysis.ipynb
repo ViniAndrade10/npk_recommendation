{
 "cells": [
  {
   "cell_type": "markdown",
   "metadata": {},
   "source": [
    "# NPK - Analysis and Prediction"
   ]
  },
  {
   "cell_type": "markdown",
   "metadata": {},
   "source": [
    "### Importing Packages"
   ]
  },
  {
   "cell_type": "code",
   "execution_count": 1,
   "metadata": {},
   "outputs": [],
   "source": [
    "import pandas as pd\n",
    "import numpy as np\n",
    "import os\n",
    "from pathlib import Path\n",
    "import seaborn as sns\n",
    "import matplotlib.pyplot as plt\n",
    "\n",
    "from sklearn.model_selection import train_test_split, GridSearchCV\n",
    "from sklearn.preprocessing import MinMaxScaler\n",
    "from sklearn.metrics import r2_score\n",
    "from sklearn.linear_model import LinearRegression\n",
    "from sklearn.ensemble import RandomForestRegressor\n",
    "from sklearn.tree import DecisionTreeRegressor\n",
    "import xgboost as xgb\n",
    "\n",
    "import plotly.graph_objects as go\n",
    "\n",
    "import statsmodels.api as sm\n",
    "\n",
    "import warnings\n",
    "\n",
    "warnings.filterwarnings(\"ignore\")"
   ]
  },
  {
   "cell_type": "markdown",
   "metadata": {},
   "source": [
    "### Importing Data"
   ]
  },
  {
   "cell_type": "code",
   "execution_count": 2,
   "metadata": {},
   "outputs": [],
   "source": [
    "__ROOT_PATH__ = Path().resolve().parent\n",
    "file = \"Crop_recommendation.csv\"\n",
    "\n",
    "data_path = os.path.join(__ROOT_PATH__, \"data\", file)"
   ]
  },
  {
   "cell_type": "code",
   "execution_count": 3,
   "metadata": {},
   "outputs": [
    {
     "data": {
      "text/html": [
       "<div>\n",
       "<style scoped>\n",
       "    .dataframe tbody tr th:only-of-type {\n",
       "        vertical-align: middle;\n",
       "    }\n",
       "\n",
       "    .dataframe tbody tr th {\n",
       "        vertical-align: top;\n",
       "    }\n",
       "\n",
       "    .dataframe thead th {\n",
       "        text-align: right;\n",
       "    }\n",
       "</style>\n",
       "<table border=\"1\" class=\"dataframe\">\n",
       "  <thead>\n",
       "    <tr style=\"text-align: right;\">\n",
       "      <th></th>\n",
       "      <th>N</th>\n",
       "      <th>P</th>\n",
       "      <th>K</th>\n",
       "      <th>temperature</th>\n",
       "      <th>humidity</th>\n",
       "      <th>ph</th>\n",
       "      <th>rainfall</th>\n",
       "      <th>label</th>\n",
       "    </tr>\n",
       "  </thead>\n",
       "  <tbody>\n",
       "    <tr>\n",
       "      <th>0</th>\n",
       "      <td>90</td>\n",
       "      <td>42</td>\n",
       "      <td>43</td>\n",
       "      <td>20.879744</td>\n",
       "      <td>82.002744</td>\n",
       "      <td>6.502985</td>\n",
       "      <td>202.935536</td>\n",
       "      <td>rice</td>\n",
       "    </tr>\n",
       "    <tr>\n",
       "      <th>1</th>\n",
       "      <td>85</td>\n",
       "      <td>58</td>\n",
       "      <td>41</td>\n",
       "      <td>21.770462</td>\n",
       "      <td>80.319644</td>\n",
       "      <td>7.038096</td>\n",
       "      <td>226.655537</td>\n",
       "      <td>rice</td>\n",
       "    </tr>\n",
       "    <tr>\n",
       "      <th>2</th>\n",
       "      <td>60</td>\n",
       "      <td>55</td>\n",
       "      <td>44</td>\n",
       "      <td>23.004459</td>\n",
       "      <td>82.320763</td>\n",
       "      <td>7.840207</td>\n",
       "      <td>263.964248</td>\n",
       "      <td>rice</td>\n",
       "    </tr>\n",
       "    <tr>\n",
       "      <th>3</th>\n",
       "      <td>74</td>\n",
       "      <td>35</td>\n",
       "      <td>40</td>\n",
       "      <td>26.491096</td>\n",
       "      <td>80.158363</td>\n",
       "      <td>6.980401</td>\n",
       "      <td>242.864034</td>\n",
       "      <td>rice</td>\n",
       "    </tr>\n",
       "    <tr>\n",
       "      <th>4</th>\n",
       "      <td>78</td>\n",
       "      <td>42</td>\n",
       "      <td>42</td>\n",
       "      <td>20.130175</td>\n",
       "      <td>81.604873</td>\n",
       "      <td>7.628473</td>\n",
       "      <td>262.717340</td>\n",
       "      <td>rice</td>\n",
       "    </tr>\n",
       "  </tbody>\n",
       "</table>\n",
       "</div>"
      ],
      "text/plain": [
       "    N   P   K  temperature   humidity        ph    rainfall label\n",
       "0  90  42  43    20.879744  82.002744  6.502985  202.935536  rice\n",
       "1  85  58  41    21.770462  80.319644  7.038096  226.655537  rice\n",
       "2  60  55  44    23.004459  82.320763  7.840207  263.964248  rice\n",
       "3  74  35  40    26.491096  80.158363  6.980401  242.864034  rice\n",
       "4  78  42  42    20.130175  81.604873  7.628473  262.717340  rice"
      ]
     },
     "execution_count": 3,
     "metadata": {},
     "output_type": "execute_result"
    }
   ],
   "source": [
    "df_main = pd.read_csv(data_path, sep=\",\")\n",
    "df_main.head()"
   ]
  },
  {
   "cell_type": "code",
   "execution_count": 4,
   "metadata": {},
   "outputs": [
    {
     "data": {
      "text/html": [
       "<div>\n",
       "<style scoped>\n",
       "    .dataframe tbody tr th:only-of-type {\n",
       "        vertical-align: middle;\n",
       "    }\n",
       "\n",
       "    .dataframe tbody tr th {\n",
       "        vertical-align: top;\n",
       "    }\n",
       "\n",
       "    .dataframe thead th {\n",
       "        text-align: right;\n",
       "    }\n",
       "</style>\n",
       "<table border=\"1\" class=\"dataframe\">\n",
       "  <thead>\n",
       "    <tr style=\"text-align: right;\">\n",
       "      <th></th>\n",
       "      <th>N</th>\n",
       "      <th>P</th>\n",
       "      <th>K</th>\n",
       "      <th>temperature</th>\n",
       "      <th>humidity</th>\n",
       "      <th>ph</th>\n",
       "      <th>rainfall</th>\n",
       "    </tr>\n",
       "  </thead>\n",
       "  <tbody>\n",
       "    <tr>\n",
       "      <th>count</th>\n",
       "      <td>2200.000000</td>\n",
       "      <td>2200.000000</td>\n",
       "      <td>2200.000000</td>\n",
       "      <td>2200.000000</td>\n",
       "      <td>2200.000000</td>\n",
       "      <td>2200.000000</td>\n",
       "      <td>2200.000000</td>\n",
       "    </tr>\n",
       "    <tr>\n",
       "      <th>mean</th>\n",
       "      <td>50.551818</td>\n",
       "      <td>53.362727</td>\n",
       "      <td>48.149091</td>\n",
       "      <td>25.616244</td>\n",
       "      <td>71.481779</td>\n",
       "      <td>6.469480</td>\n",
       "      <td>103.463655</td>\n",
       "    </tr>\n",
       "    <tr>\n",
       "      <th>std</th>\n",
       "      <td>36.917334</td>\n",
       "      <td>32.985883</td>\n",
       "      <td>50.647931</td>\n",
       "      <td>5.063749</td>\n",
       "      <td>22.263812</td>\n",
       "      <td>0.773938</td>\n",
       "      <td>54.958389</td>\n",
       "    </tr>\n",
       "    <tr>\n",
       "      <th>min</th>\n",
       "      <td>0.000000</td>\n",
       "      <td>5.000000</td>\n",
       "      <td>5.000000</td>\n",
       "      <td>8.825675</td>\n",
       "      <td>14.258040</td>\n",
       "      <td>3.504752</td>\n",
       "      <td>20.211267</td>\n",
       "    </tr>\n",
       "    <tr>\n",
       "      <th>25%</th>\n",
       "      <td>21.000000</td>\n",
       "      <td>28.000000</td>\n",
       "      <td>20.000000</td>\n",
       "      <td>22.769375</td>\n",
       "      <td>60.261953</td>\n",
       "      <td>5.971693</td>\n",
       "      <td>64.551686</td>\n",
       "    </tr>\n",
       "    <tr>\n",
       "      <th>50%</th>\n",
       "      <td>37.000000</td>\n",
       "      <td>51.000000</td>\n",
       "      <td>32.000000</td>\n",
       "      <td>25.598693</td>\n",
       "      <td>80.473146</td>\n",
       "      <td>6.425045</td>\n",
       "      <td>94.867624</td>\n",
       "    </tr>\n",
       "    <tr>\n",
       "      <th>75%</th>\n",
       "      <td>84.250000</td>\n",
       "      <td>68.000000</td>\n",
       "      <td>49.000000</td>\n",
       "      <td>28.561654</td>\n",
       "      <td>89.948771</td>\n",
       "      <td>6.923643</td>\n",
       "      <td>124.267508</td>\n",
       "    </tr>\n",
       "    <tr>\n",
       "      <th>max</th>\n",
       "      <td>140.000000</td>\n",
       "      <td>145.000000</td>\n",
       "      <td>205.000000</td>\n",
       "      <td>43.675493</td>\n",
       "      <td>99.981876</td>\n",
       "      <td>9.935091</td>\n",
       "      <td>298.560117</td>\n",
       "    </tr>\n",
       "  </tbody>\n",
       "</table>\n",
       "</div>"
      ],
      "text/plain": [
       "                 N            P            K  temperature     humidity   \n",
       "count  2200.000000  2200.000000  2200.000000  2200.000000  2200.000000  \\\n",
       "mean     50.551818    53.362727    48.149091    25.616244    71.481779   \n",
       "std      36.917334    32.985883    50.647931     5.063749    22.263812   \n",
       "min       0.000000     5.000000     5.000000     8.825675    14.258040   \n",
       "25%      21.000000    28.000000    20.000000    22.769375    60.261953   \n",
       "50%      37.000000    51.000000    32.000000    25.598693    80.473146   \n",
       "75%      84.250000    68.000000    49.000000    28.561654    89.948771   \n",
       "max     140.000000   145.000000   205.000000    43.675493    99.981876   \n",
       "\n",
       "                ph     rainfall  \n",
       "count  2200.000000  2200.000000  \n",
       "mean      6.469480   103.463655  \n",
       "std       0.773938    54.958389  \n",
       "min       3.504752    20.211267  \n",
       "25%       5.971693    64.551686  \n",
       "50%       6.425045    94.867624  \n",
       "75%       6.923643   124.267508  \n",
       "max       9.935091   298.560117  "
      ]
     },
     "execution_count": 4,
     "metadata": {},
     "output_type": "execute_result"
    }
   ],
   "source": [
    "df_main.describe()"
   ]
  },
  {
   "cell_type": "code",
   "execution_count": 5,
   "metadata": {},
   "outputs": [
    {
     "data": {
      "text/plain": [
       "N              0\n",
       "P              0\n",
       "K              0\n",
       "temperature    0\n",
       "humidity       0\n",
       "ph             0\n",
       "rainfall       0\n",
       "label          0\n",
       "dtype: int64"
      ]
     },
     "execution_count": 5,
     "metadata": {},
     "output_type": "execute_result"
    }
   ],
   "source": [
    "df_main.isnull().sum()"
   ]
  },
  {
   "cell_type": "code",
   "execution_count": 6,
   "metadata": {},
   "outputs": [
    {
     "data": {
      "text/plain": [
       "N                int64\n",
       "P                int64\n",
       "K                int64\n",
       "temperature    float64\n",
       "humidity       float64\n",
       "ph             float64\n",
       "rainfall       float64\n",
       "label           object\n",
       "dtype: object"
      ]
     },
     "execution_count": 6,
     "metadata": {},
     "output_type": "execute_result"
    }
   ],
   "source": [
    "df_main.dtypes"
   ]
  },
  {
   "cell_type": "code",
   "execution_count": 7,
   "metadata": {},
   "outputs": [
    {
     "data": {
      "image/png": "[encoded data removed]",
      "text/plain": [
       "<Figure size 800x600 with 7 Axes>"
      ]
     },
     "metadata": {},
     "output_type": "display_data"
    }
   ],
   "source": [
    "cols_df = [col for col in df_main.columns if df_main[col].dtype==np.float64 or df_main[col].dtype==np.int64]\n",
    "\n",
    "nrows_ = int(len(df_main.columns) / 2)\n",
    "ncols_ = int(nrows_ / 2)\n",
    "\n",
    "\n",
    "plt.figure(figsize=(8, 6))\n",
    "for i, col in enumerate(cols_df):\n",
    "    plt.subplot(nrows_, ncols_, i+1)\n",
    "    plt.hist(x=df_main[col], bins=40, linewidth=0.5, edgecolor=\"white\")\n",
    "    plt.title(f\"{col.title()}\")\n",
    "\n",
    "plt.tight_layout()\n",
    "plt.show()"
   ]
  },
  {
   "cell_type": "code",
   "execution_count": 8,
   "metadata": {},
   "outputs": [
    {
     "data": {
      "image/png": "[encoded data removed]",
      "text/plain": [
       "<Figure size 1000x6000 with 22 Axes>"
      ]
     },
     "metadata": {},
     "output_type": "display_data"
    }
   ],
   "source": [
    "crop_types = df_main[\"label\"].unique()\n",
    "\n",
    "plt.figure(figsize=(10, 60))\n",
    "for i, crop in enumerate(crop_types):\n",
    "    base = list()\n",
    "    df_base = df_main.query(f\"label == '{crop}'\").describe()\n",
    "    for col in df_base.columns:\n",
    "        base.append(df_base[col])\n",
    "\n",
    "    plt.subplot(len(crop_types), 4, i+1)\n",
    "    plt.boxplot(x=base, showfliers=False, labels=df_main.columns[:-1])\n",
    "    plt.title(f\"Platation of {crop}\", fontdict={\"size\":\"8\"})\n",
    "    plt.tick_params(axis=\"x\", labelsize=7)\n",
    "    plt.xticks(rotation=50)\n",
    "\n",
    "plt.tight_layout()\n",
    "plt.show()"
   ]
  },
  {
   "cell_type": "code",
   "execution_count": 9,
   "metadata": {},
   "outputs": [
    {
     "data": {
      "image/png": "[encoded data removed]",
      "text/plain": [
       "<Figure size 600x400 with 2 Axes>"
      ]
     },
     "metadata": {},
     "output_type": "display_data"
    }
   ],
   "source": [
    "correlation = df_main.drop([\"label\"], axis=1).corr()\n",
    "plt.figure(figsize=(6, 4))\n",
    "sns.heatmap(correlation, annot=True, vmax=1, vmin=-1,cmap=\"crest\")\n",
    "plt.title(\"Correlação com dados iniciais\", fontdict={\"size\":\"18\"}, loc=\"left\")\n",
    "plt.tight_layout()\n",
    "plt.show()"
   ]
  },
  {
   "cell_type": "code",
   "execution_count": 10,
   "metadata": {},
   "outputs": [],
   "source": [
    "# n_factor = df_main.copy()\n",
    "# n_factor[\"factor_N_temperature\"] = n_factor[\"N\"] / n_factor[\"temperature\"]\n",
    "# n_factor[\"factor_N_humidity\"] = n_factor[\"N\"] / n_factor[\"humidity\"]\n",
    "# n_factor[\"factor_N_ph\"] = n_factor[\"N\"] / n_factor[\"ph\"]\n",
    "# n_factor[\"factor_N\"] = n_factor[\"N\"] / n_factor[\"rainfall\"]\n",
    "\n",
    "# p_factor = df_main.copy()\n",
    "# p_factor[\"factor_P_temperature\"] = p_factor[\"P\"] / p_factor[\"temperature\"]\n",
    "# p_factor[\"factor_P_humidity\"] = p_factor[\"P\"] / p_factor[\"humidity\"]\n",
    "# p_factor[\"factor_P_ph\"] = p_factor[\"P\"] / p_factor[\"ph\"]\n",
    "# p_factor[\"factor_P\"] = p_factor[\"P\"] / p_factor[\"rainfall\"]\n",
    "\n",
    "# k_factor = df_main.copy()\n",
    "# k_factor[\"factor_K_temperature\"] = k_factor[\"K\"] / k_factor[\"temperature\"]\n",
    "# k_factor[\"factor_K_humidity\"] = k_factor[\"K\"] / k_factor[\"humidity\"]\n",
    "# k_factor[\"factor_K_ph\"] = k_factor[\"K\"] / k_factor[\"ph\"]\n",
    "# k_factor[\"factor_K\"] = k_factor[\"K\"] / k_factor[\"rainfall\"]"
   ]
  },
  {
   "cell_type": "markdown",
   "metadata": {},
   "source": [
    "### Plotting each variable with its target"
   ]
  },
  {
   "cell_type": "code",
   "execution_count": 11,
   "metadata": {},
   "outputs": [
    {
     "data": {
      "image/png": "[encoded data removed]",
      "text/plain": [
       "<Figure size 800x500 with 4 Axes>"
      ]
     },
     "metadata": {},
     "output_type": "display_data"
    }
   ],
   "source": [
    "df_nitrate = df_main.drop([\"P\", \"K\"], axis=1)\n",
    "plt.figure(figsize=(8, 5))\n",
    "for i, col in enumerate(df_nitrate.drop([\"N\", \"label\"], axis=1).columns):\n",
    "    plt.subplot(2, 3, i+1)\n",
    "    plt.scatter(x=df_nitrate[\"N\"], y=df_nitrate[col])\n",
    "    plt.title(f\"N x {col}\")\n",
    "\n",
    "plt.tight_layout()\n",
    "plt.show()"
   ]
  },
  {
   "cell_type": "code",
   "execution_count": 12,
   "metadata": {},
   "outputs": [
    {
     "data": {
      "image/png": "[encoded data removed]",
      "text/plain": [
       "<Figure size 800x500 with 4 Axes>"
      ]
     },
     "metadata": {},
     "output_type": "display_data"
    }
   ],
   "source": [
    "df_phosphate = df_main.drop([\"N\", \"K\"], axis=1)\n",
    "plt.figure(figsize=(8, 5))\n",
    "for i, col in enumerate(df_phosphate.drop([\"P\", \"label\"], axis=1).columns):\n",
    "    plt.subplot(2, 3, i+1)\n",
    "    plt.scatter(x=df_phosphate[\"P\"], y=df_phosphate[col])\n",
    "    plt.title(f\"P x {col}\")\n",
    "\n",
    "plt.tight_layout()\n",
    "plt.show()"
   ]
  },
  {
   "cell_type": "code",
   "execution_count": 13,
   "metadata": {},
   "outputs": [
    {
     "data": {
      "image/png": "[encoded data removed]",
      "text/plain": [
       "<Figure size 800x500 with 4 Axes>"
      ]
     },
     "metadata": {},
     "output_type": "display_data"
    }
   ],
   "source": [
    "df_potassium = df_main.drop([\"N\", \"P\"], axis=1)\n",
    "plt.figure(figsize=(8, 5))\n",
    "for i, col in enumerate(df_potassium.drop([\"K\", \"label\"], axis=1).columns):\n",
    "    plt.subplot(2, 3, i+1)\n",
    "    plt.scatter(x=df_potassium[\"K\"], y=df_potassium[col])\n",
    "    plt.title(f\"K x {col}\")\n",
    "\n",
    "plt.tight_layout()\n",
    "plt.show()"
   ]
  },
  {
   "cell_type": "markdown",
   "metadata": {},
   "source": [
    "It's clear that there are no linear relations among the variables and the targets"
   ]
  },
  {
   "cell_type": "markdown",
   "metadata": {},
   "source": [
    "In this case, I'll try to make a log transformation or even a squared transoformation in case the log is not enough"
   ]
  },
  {
   "cell_type": "markdown",
   "metadata": {},
   "source": [
    "#### LOG Transformation"
   ]
  },
  {
   "cell_type": "code",
   "execution_count": 14,
   "metadata": {},
   "outputs": [],
   "source": [
    "df_log = df_main.copy()\n",
    "df_log[\"temperature\"] = np.log(df_log[\"temperature\"])\n",
    "df_log[\"humidity\"] = np.log(df_log[\"humidity\"])\n",
    "df_log[\"ph\"] = np.log(df_log[\"ph\"])\n",
    "df_log[\"rainfall\"] = np.log(df_log[\"rainfall\"])"
   ]
  },
  {
   "cell_type": "code",
   "execution_count": 15,
   "metadata": {},
   "outputs": [
    {
     "data": {
      "image/png": "[encoded data removed]",
      "text/plain": [
       "<Figure size 600x400 with 2 Axes>"
      ]
     },
     "metadata": {},
     "output_type": "display_data"
    }
   ],
   "source": [
    "correlation_log = df_log.drop([\"label\"], axis=1).corr()\n",
    "plt.figure(figsize=(6, 4))\n",
    "sns.heatmap(correlation_log, annot=True, vmax=1, vmin=-1,cmap=\"crest\")\n",
    "plt.title(\"Correlação com dados em Logarítimo\", fontdict={\"size\":\"18\"}, loc=\"left\")\n",
    "plt.tight_layout()\n",
    "plt.show()"
   ]
  },
  {
   "cell_type": "markdown",
   "metadata": {},
   "source": [
    "The log tranformation improved the relation among the variables, but it's got a small increase\\\n",
    "It'll be required making the exponential analysis."
   ]
  },
  {
   "cell_type": "markdown",
   "metadata": {},
   "source": [
    "#### Exponential Transformation"
   ]
  },
  {
   "cell_type": "code",
   "execution_count": 16,
   "metadata": {},
   "outputs": [],
   "source": [
    "df_sqr = df_main.copy()\n",
    "df_sqr[\"temperature\"] = np.square(df_sqr[\"temperature\"])\n",
    "df_sqr[\"humidity\"] = np.square(df_sqr[\"humidity\"])\n",
    "df_sqr[\"ph\"] = np.square(df_sqr[\"ph\"])\n",
    "df_sqr[\"rainfall\"] = np.square(df_sqr[\"rainfall\"])"
   ]
  },
  {
   "cell_type": "code",
   "execution_count": 17,
   "metadata": {},
   "outputs": [
    {
     "data": {
      "image/png": "[encoded data removed]",
      "text/plain": [
       "<Figure size 600x400 with 2 Axes>"
      ]
     },
     "metadata": {},
     "output_type": "display_data"
    }
   ],
   "source": [
    "correlation_sqr = df_sqr.drop([\"label\"], axis=1).corr()\n",
    "plt.figure(figsize=(6, 4))\n",
    "sns.heatmap(correlation_sqr, annot=True, vmax=1, vmin=-1,cmap=\"crest\")\n",
    "plt.title(\"Correlação com dados ao Quadrado\", fontdict={\"size\":\"18\"}, loc=\"left\")\n",
    "plt.tight_layout()\n",
    "plt.show()"
   ]
  },
  {
   "cell_type": "markdown",
   "metadata": {},
   "source": [
    "### Separating data for data"
   ]
  },
  {
   "cell_type": "markdown",
   "metadata": {},
   "source": [
    "#### Current Data"
   ]
  },
  {
   "cell_type": "code",
   "execution_count": 18,
   "metadata": {},
   "outputs": [],
   "source": [
    "cols_descriptive = [\"temperature\", \"humidity\", \"ph\", \"rainfall\"]\n",
    "\n",
    "X = df_main.loc[:, cols_descriptive]\n",
    "y_N = df_main.loc[:, \"N\"]\n",
    "y_P = df_main.loc[:, \"P\"]\n",
    "y_K = df_main.loc[:, \"K\"]"
   ]
  },
  {
   "cell_type": "code",
   "execution_count": 19,
   "metadata": {},
   "outputs": [],
   "source": [
    "model_analysis_base_N = sm.OLS(y_N, X)\n",
    "model_analysis_base_P = sm.OLS(y_P, X)\n",
    "model_analysis_base_K = sm.OLS(y_K, X)\n",
    "\n",
    "results_base_N = model_analysis_base_N.fit()\n",
    "results_base_P = model_analysis_base_P.fit()\n",
    "results_base_K = model_analysis_base_K.fit()"
   ]
  },
  {
   "cell_type": "code",
   "execution_count": 20,
   "metadata": {},
   "outputs": [
    {
     "data": {
      "text/html": [
       "<table class=\"simpletable\">\n",
       "<caption>OLS Regression Results</caption>\n",
       "<tr>\n",
       "  <th>Dep. Variable:</th>            <td>N</td>        <th>  R-squared (uncentered):</th>      <td>   0.669</td> \n",
       "</tr>\n",
       "<tr>\n",
       "  <th>Model:</th>                   <td>OLS</td>       <th>  Adj. R-squared (uncentered):</th> <td>   0.669</td> \n",
       "</tr>\n",
       "<tr>\n",
       "  <th>Method:</th>             <td>Least Squares</td>  <th>  F-statistic:       </th>          <td>   1111.</td> \n",
       "</tr>\n",
       "<tr>\n",
       "  <th>Date:</th>             <td>Thu, 23 Nov 2023</td> <th>  Prob (F-statistic):</th>           <td>  0.00</td>  \n",
       "</tr>\n",
       "<tr>\n",
       "  <th>Time:</th>                 <td>19:42:18</td>     <th>  Log-Likelihood:    </th>          <td> -11005.</td> \n",
       "</tr>\n",
       "<tr>\n",
       "  <th>No. Observations:</th>      <td>  2200</td>      <th>  AIC:               </th>          <td>2.202e+04</td>\n",
       "</tr>\n",
       "<tr>\n",
       "  <th>Df Residuals:</th>          <td>  2196</td>      <th>  BIC:               </th>          <td>2.204e+04</td>\n",
       "</tr>\n",
       "<tr>\n",
       "  <th>Df Model:</th>              <td>     4</td>      <th>                     </th>              <td> </td>    \n",
       "</tr>\n",
       "<tr>\n",
       "  <th>Covariance Type:</th>      <td>nonrobust</td>    <th>                     </th>              <td> </td>    \n",
       "</tr>\n",
       "</table>\n",
       "<table class=\"simpletable\">\n",
       "<tr>\n",
       "       <td></td>          <th>coef</th>     <th>std err</th>      <th>t</th>      <th>P>|t|</th>  <th>[0.025</th>    <th>0.975]</th>  \n",
       "</tr>\n",
       "<tr>\n",
       "  <th>temperature</th> <td>   -0.1146</td> <td>    0.138</td> <td>   -0.828</td> <td> 0.408</td> <td>   -0.386</td> <td>    0.157</td>\n",
       "</tr>\n",
       "<tr>\n",
       "  <th>humidity</th>    <td>    0.3077</td> <td>    0.035</td> <td>    8.834</td> <td> 0.000</td> <td>    0.239</td> <td>    0.376</td>\n",
       "</tr>\n",
       "<tr>\n",
       "  <th>ph</th>          <td>    4.3572</td> <td>    0.560</td> <td>    7.778</td> <td> 0.000</td> <td>    3.259</td> <td>    5.456</td>\n",
       "</tr>\n",
       "<tr>\n",
       "  <th>rainfall</th>    <td>    0.0325</td> <td>    0.014</td> <td>    2.377</td> <td> 0.018</td> <td>    0.006</td> <td>    0.059</td>\n",
       "</tr>\n",
       "</table>\n",
       "<table class=\"simpletable\">\n",
       "<tr>\n",
       "  <th>Omnibus:</th>       <td>536.390</td> <th>  Durbin-Watson:     </th> <td>   0.246</td>\n",
       "</tr>\n",
       "<tr>\n",
       "  <th>Prob(Omnibus):</th> <td> 0.000</td>  <th>  Jarque-Bera (JB):  </th> <td> 154.275</td>\n",
       "</tr>\n",
       "<tr>\n",
       "  <th>Skew:</th>          <td> 0.416</td>  <th>  Prob(JB):          </th> <td>3.16e-34</td>\n",
       "</tr>\n",
       "<tr>\n",
       "  <th>Kurtosis:</th>      <td> 2.004</td>  <th>  Cond. No.          </th> <td>    102.</td>\n",
       "</tr>\n",
       "</table><br/><br/>Notes:<br/>[1] R² is computed without centering (uncentered) since the model does not contain a constant.<br/>[2] Standard Errors assume that the covariance matrix of the errors is correctly specified."
      ],
      "text/latex": [
       "\\begin{center}\n",
       "\\begin{tabular}{lclc}\n",
       "\\toprule\n",
       "\\textbf{Dep. Variable:}    &        N         & \\textbf{  R-squared (uncentered):}      &     0.669   \\\\\n",
       "\\textbf{Model:}            &       OLS        & \\textbf{  Adj. R-squared (uncentered):} &     0.669   \\\\\n",
       "\\textbf{Method:}           &  Least Squares   & \\textbf{  F-statistic:       }          &     1111.   \\\\\n",
       "\\textbf{Date:}             & Thu, 23 Nov 2023 & \\textbf{  Prob (F-statistic):}          &     0.00    \\\\\n",
       "\\textbf{Time:}             &     19:42:18     & \\textbf{  Log-Likelihood:    }          &   -11005.   \\\\\n",
       "\\textbf{No. Observations:} &        2200      & \\textbf{  AIC:               }          & 2.202e+04   \\\\\n",
       "\\textbf{Df Residuals:}     &        2196      & \\textbf{  BIC:               }          & 2.204e+04   \\\\\n",
       "\\textbf{Df Model:}         &           4      & \\textbf{                     }          &             \\\\\n",
       "\\textbf{Covariance Type:}  &    nonrobust     & \\textbf{                     }          &             \\\\\n",
       "\\bottomrule\n",
       "\\end{tabular}\n",
       "\\begin{tabular}{lcccccc}\n",
       "                     & \\textbf{coef} & \\textbf{std err} & \\textbf{t} & \\textbf{P$> |$t$|$} & \\textbf{[0.025} & \\textbf{0.975]}  \\\\\n",
       "\\midrule\n",
       "\\textbf{temperature} &      -0.1146  &        0.138     &    -0.828  &         0.408        &       -0.386    &        0.157     \\\\\n",
       "\\textbf{humidity}    &       0.3077  &        0.035     &     8.834  &         0.000        &        0.239    &        0.376     \\\\\n",
       "\\textbf{ph}          &       4.3572  &        0.560     &     7.778  &         0.000        &        3.259    &        5.456     \\\\\n",
       "\\textbf{rainfall}    &       0.0325  &        0.014     &     2.377  &         0.018        &        0.006    &        0.059     \\\\\n",
       "\\bottomrule\n",
       "\\end{tabular}\n",
       "\\begin{tabular}{lclc}\n",
       "\\textbf{Omnibus:}       & 536.390 & \\textbf{  Durbin-Watson:     } &    0.246  \\\\\n",
       "\\textbf{Prob(Omnibus):} &   0.000 & \\textbf{  Jarque-Bera (JB):  } &  154.275  \\\\\n",
       "\\textbf{Skew:}          &   0.416 & \\textbf{  Prob(JB):          } & 3.16e-34  \\\\\n",
       "\\textbf{Kurtosis:}      &   2.004 & \\textbf{  Cond. No.          } &     102.  \\\\\n",
       "\\bottomrule\n",
       "\\end{tabular}\n",
       "%\\caption{OLS Regression Results}\n",
       "\\end{center}\n",
       "\n",
       "Notes: \\newline\n",
       " [1] R² is computed without centering (uncentered) since the model does not contain a constant. \\newline\n",
       " [2] Standard Errors assume that the covariance matrix of the errors is correctly specified."
      ],
      "text/plain": [
       "<class 'statsmodels.iolib.summary.Summary'>\n",
       "\"\"\"\n",
       "                                 OLS Regression Results                                \n",
       "=======================================================================================\n",
       "Dep. Variable:                      N   R-squared (uncentered):                   0.669\n",
       "Model:                            OLS   Adj. R-squared (uncentered):              0.669\n",
       "Method:                 Least Squares   F-statistic:                              1111.\n",
       "Date:                Thu, 23 Nov 2023   Prob (F-statistic):                        0.00\n",
       "Time:                        19:42:18   Log-Likelihood:                         -11005.\n",
       "No. Observations:                2200   AIC:                                  2.202e+04\n",
       "Df Residuals:                    2196   BIC:                                  2.204e+04\n",
       "Df Model:                           4                                                  \n",
       "Covariance Type:            nonrobust                                                  \n",
       "===============================================================================\n",
       "                  coef    std err          t      P>|t|      [0.025      0.975]\n",
       "-------------------------------------------------------------------------------\n",
       "temperature    -0.1146      0.138     -0.828      0.408      -0.386       0.157\n",
       "humidity        0.3077      0.035      8.834      0.000       0.239       0.376\n",
       "ph              4.3572      0.560      7.778      0.000       3.259       5.456\n",
       "rainfall        0.0325      0.014      2.377      0.018       0.006       0.059\n",
       "==============================================================================\n",
       "Omnibus:                      536.390   Durbin-Watson:                   0.246\n",
       "Prob(Omnibus):                  0.000   Jarque-Bera (JB):              154.275\n",
       "Skew:                           0.416   Prob(JB):                     3.16e-34\n",
       "Kurtosis:                       2.004   Cond. No.                         102.\n",
       "==============================================================================\n",
       "\n",
       "Notes:\n",
       "[1] R² is computed without centering (uncentered) since the model does not contain a constant.\n",
       "[2] Standard Errors assume that the covariance matrix of the errors is correctly specified.\n",
       "\"\"\""
      ]
     },
     "execution_count": 20,
     "metadata": {},
     "output_type": "execute_result"
    }
   ],
   "source": [
    "results_base_N.summary()"
   ]
  },
  {
   "cell_type": "code",
   "execution_count": 21,
   "metadata": {},
   "outputs": [
    {
     "data": {
      "text/html": [
       "<table class=\"simpletable\">\n",
       "<caption>OLS Regression Results</caption>\n",
       "<tr>\n",
       "  <th>Dep. Variable:</th>            <td>P</td>        <th>  R-squared (uncentered):</th>      <td>   0.700</td> \n",
       "</tr>\n",
       "<tr>\n",
       "  <th>Model:</th>                   <td>OLS</td>       <th>  Adj. R-squared (uncentered):</th> <td>   0.700</td> \n",
       "</tr>\n",
       "<tr>\n",
       "  <th>Method:</th>             <td>Least Squares</td>  <th>  F-statistic:       </th>          <td>   1282.</td> \n",
       "</tr>\n",
       "<tr>\n",
       "  <th>Date:</th>             <td>Thu, 23 Nov 2023</td> <th>  Prob (F-statistic):</th>           <td>  0.00</td>  \n",
       "</tr>\n",
       "<tr>\n",
       "  <th>Time:</th>                 <td>19:42:18</td>     <th>  Log-Likelihood:    </th>          <td> -10902.</td> \n",
       "</tr>\n",
       "<tr>\n",
       "  <th>No. Observations:</th>      <td>  2200</td>      <th>  AIC:               </th>          <td>2.181e+04</td>\n",
       "</tr>\n",
       "<tr>\n",
       "  <th>Df Residuals:</th>          <td>  2196</td>      <th>  BIC:               </th>          <td>2.183e+04</td>\n",
       "</tr>\n",
       "<tr>\n",
       "  <th>Df Model:</th>              <td>     4</td>      <th>                     </th>              <td> </td>    \n",
       "</tr>\n",
       "<tr>\n",
       "  <th>Covariance Type:</th>      <td>nonrobust</td>    <th>                     </th>              <td> </td>    \n",
       "</tr>\n",
       "</table>\n",
       "<table class=\"simpletable\">\n",
       "<tr>\n",
       "       <td></td>          <th>coef</th>     <th>std err</th>      <th>t</th>      <th>P>|t|</th>  <th>[0.025</th>    <th>0.975]</th>  \n",
       "</tr>\n",
       "<tr>\n",
       "  <th>temperature</th> <td>    0.3685</td> <td>    0.132</td> <td>    2.791</td> <td> 0.005</td> <td>    0.110</td> <td>    0.627</td>\n",
       "</tr>\n",
       "<tr>\n",
       "  <th>humidity</th>    <td>   -0.0281</td> <td>    0.033</td> <td>   -0.846</td> <td> 0.398</td> <td>   -0.093</td> <td>    0.037</td>\n",
       "</tr>\n",
       "<tr>\n",
       "  <th>ph</th>          <td>    6.7053</td> <td>    0.534</td> <td>   12.547</td> <td> 0.000</td> <td>    5.657</td> <td>    7.753</td>\n",
       "</tr>\n",
       "<tr>\n",
       "  <th>rainfall</th>    <td>    0.0136</td> <td>    0.013</td> <td>    1.041</td> <td> 0.298</td> <td>   -0.012</td> <td>    0.039</td>\n",
       "</tr>\n",
       "</table>\n",
       "<table class=\"simpletable\">\n",
       "<tr>\n",
       "  <th>Omnibus:</th>       <td>362.904</td> <th>  Durbin-Watson:     </th> <td>   0.147</td> \n",
       "</tr>\n",
       "<tr>\n",
       "  <th>Prob(Omnibus):</th> <td> 0.000</td>  <th>  Jarque-Bera (JB):  </th> <td> 572.346</td> \n",
       "</tr>\n",
       "<tr>\n",
       "  <th>Skew:</th>          <td> 1.132</td>  <th>  Prob(JB):          </th> <td>5.21e-125</td>\n",
       "</tr>\n",
       "<tr>\n",
       "  <th>Kurtosis:</th>      <td> 4.057</td>  <th>  Cond. No.          </th> <td>    102.</td> \n",
       "</tr>\n",
       "</table><br/><br/>Notes:<br/>[1] R² is computed without centering (uncentered) since the model does not contain a constant.<br/>[2] Standard Errors assume that the covariance matrix of the errors is correctly specified."
      ],
      "text/latex": [
       "\\begin{center}\n",
       "\\begin{tabular}{lclc}\n",
       "\\toprule\n",
       "\\textbf{Dep. Variable:}    &        P         & \\textbf{  R-squared (uncentered):}      &     0.700   \\\\\n",
       "\\textbf{Model:}            &       OLS        & \\textbf{  Adj. R-squared (uncentered):} &     0.700   \\\\\n",
       "\\textbf{Method:}           &  Least Squares   & \\textbf{  F-statistic:       }          &     1282.   \\\\\n",
       "\\textbf{Date:}             & Thu, 23 Nov 2023 & \\textbf{  Prob (F-statistic):}          &     0.00    \\\\\n",
       "\\textbf{Time:}             &     19:42:18     & \\textbf{  Log-Likelihood:    }          &   -10902.   \\\\\n",
       "\\textbf{No. Observations:} &        2200      & \\textbf{  AIC:               }          & 2.181e+04   \\\\\n",
       "\\textbf{Df Residuals:}     &        2196      & \\textbf{  BIC:               }          & 2.183e+04   \\\\\n",
       "\\textbf{Df Model:}         &           4      & \\textbf{                     }          &             \\\\\n",
       "\\textbf{Covariance Type:}  &    nonrobust     & \\textbf{                     }          &             \\\\\n",
       "\\bottomrule\n",
       "\\end{tabular}\n",
       "\\begin{tabular}{lcccccc}\n",
       "                     & \\textbf{coef} & \\textbf{std err} & \\textbf{t} & \\textbf{P$> |$t$|$} & \\textbf{[0.025} & \\textbf{0.975]}  \\\\\n",
       "\\midrule\n",
       "\\textbf{temperature} &       0.3685  &        0.132     &     2.791  &         0.005        &        0.110    &        0.627     \\\\\n",
       "\\textbf{humidity}    &      -0.0281  &        0.033     &    -0.846  &         0.398        &       -0.093    &        0.037     \\\\\n",
       "\\textbf{ph}          &       6.7053  &        0.534     &    12.547  &         0.000        &        5.657    &        7.753     \\\\\n",
       "\\textbf{rainfall}    &       0.0136  &        0.013     &     1.041  &         0.298        &       -0.012    &        0.039     \\\\\n",
       "\\bottomrule\n",
       "\\end{tabular}\n",
       "\\begin{tabular}{lclc}\n",
       "\\textbf{Omnibus:}       & 362.904 & \\textbf{  Durbin-Watson:     } &     0.147  \\\\\n",
       "\\textbf{Prob(Omnibus):} &   0.000 & \\textbf{  Jarque-Bera (JB):  } &   572.346  \\\\\n",
       "\\textbf{Skew:}          &   1.132 & \\textbf{  Prob(JB):          } & 5.21e-125  \\\\\n",
       "\\textbf{Kurtosis:}      &   4.057 & \\textbf{  Cond. No.          } &      102.  \\\\\n",
       "\\bottomrule\n",
       "\\end{tabular}\n",
       "%\\caption{OLS Regression Results}\n",
       "\\end{center}\n",
       "\n",
       "Notes: \\newline\n",
       " [1] R² is computed without centering (uncentered) since the model does not contain a constant. \\newline\n",
       " [2] Standard Errors assume that the covariance matrix of the errors is correctly specified."
      ],
      "text/plain": [
       "<class 'statsmodels.iolib.summary.Summary'>\n",
       "\"\"\"\n",
       "                                 OLS Regression Results                                \n",
       "=======================================================================================\n",
       "Dep. Variable:                      P   R-squared (uncentered):                   0.700\n",
       "Model:                            OLS   Adj. R-squared (uncentered):              0.700\n",
       "Method:                 Least Squares   F-statistic:                              1282.\n",
       "Date:                Thu, 23 Nov 2023   Prob (F-statistic):                        0.00\n",
       "Time:                        19:42:18   Log-Likelihood:                         -10902.\n",
       "No. Observations:                2200   AIC:                                  2.181e+04\n",
       "Df Residuals:                    2196   BIC:                                  2.183e+04\n",
       "Df Model:                           4                                                  \n",
       "Covariance Type:            nonrobust                                                  \n",
       "===============================================================================\n",
       "                  coef    std err          t      P>|t|      [0.025      0.975]\n",
       "-------------------------------------------------------------------------------\n",
       "temperature     0.3685      0.132      2.791      0.005       0.110       0.627\n",
       "humidity       -0.0281      0.033     -0.846      0.398      -0.093       0.037\n",
       "ph              6.7053      0.534     12.547      0.000       5.657       7.753\n",
       "rainfall        0.0136      0.013      1.041      0.298      -0.012       0.039\n",
       "==============================================================================\n",
       "Omnibus:                      362.904   Durbin-Watson:                   0.147\n",
       "Prob(Omnibus):                  0.000   Jarque-Bera (JB):              572.346\n",
       "Skew:                           1.132   Prob(JB):                    5.21e-125\n",
       "Kurtosis:                       4.057   Cond. No.                         102.\n",
       "==============================================================================\n",
       "\n",
       "Notes:\n",
       "[1] R² is computed without centering (uncentered) since the model does not contain a constant.\n",
       "[2] Standard Errors assume that the covariance matrix of the errors is correctly specified.\n",
       "\"\"\""
      ]
     },
     "execution_count": 21,
     "metadata": {},
     "output_type": "execute_result"
    }
   ],
   "source": [
    "results_base_P.summary()"
   ]
  },
  {
   "cell_type": "code",
   "execution_count": 22,
   "metadata": {},
   "outputs": [
    {
     "data": {
      "text/html": [
       "<table class=\"simpletable\">\n",
       "<caption>OLS Regression Results</caption>\n",
       "<tr>\n",
       "  <th>Dep. Variable:</th>            <td>K</td>        <th>  R-squared (uncentered):</th>      <td>   0.494</td> \n",
       "</tr>\n",
       "<tr>\n",
       "  <th>Model:</th>                   <td>OLS</td>       <th>  Adj. R-squared (uncentered):</th> <td>   0.493</td> \n",
       "</tr>\n",
       "<tr>\n",
       "  <th>Method:</th>             <td>Least Squares</td>  <th>  F-statistic:       </th>          <td>   536.8</td> \n",
       "</tr>\n",
       "<tr>\n",
       "  <th>Date:</th>             <td>Thu, 23 Nov 2023</td> <th>  Prob (F-statistic):</th>          <td>3.46e-323</td>\n",
       "</tr>\n",
       "<tr>\n",
       "  <th>Time:</th>                 <td>19:42:18</td>     <th>  Log-Likelihood:    </th>          <td> -11714.</td> \n",
       "</tr>\n",
       "<tr>\n",
       "  <th>No. Observations:</th>      <td>  2200</td>      <th>  AIC:               </th>          <td>2.344e+04</td>\n",
       "</tr>\n",
       "<tr>\n",
       "  <th>Df Residuals:</th>          <td>  2196</td>      <th>  BIC:               </th>          <td>2.346e+04</td>\n",
       "</tr>\n",
       "<tr>\n",
       "  <th>Df Model:</th>              <td>     4</td>      <th>                     </th>              <td> </td>    \n",
       "</tr>\n",
       "<tr>\n",
       "  <th>Covariance Type:</th>      <td>nonrobust</td>    <th>                     </th>              <td> </td>    \n",
       "</tr>\n",
       "</table>\n",
       "<table class=\"simpletable\">\n",
       "<tr>\n",
       "       <td></td>          <th>coef</th>     <th>std err</th>      <th>t</th>      <th>P>|t|</th>  <th>[0.025</th>    <th>0.975]</th>  \n",
       "</tr>\n",
       "<tr>\n",
       "  <th>temperature</th> <td>   -0.8511</td> <td>    0.191</td> <td>   -4.456</td> <td> 0.000</td> <td>   -1.226</td> <td>   -0.477</td>\n",
       "</tr>\n",
       "<tr>\n",
       "  <th>humidity</th>    <td>    0.6777</td> <td>    0.048</td> <td>   14.099</td> <td> 0.000</td> <td>    0.583</td> <td>    0.772</td>\n",
       "</tr>\n",
       "<tr>\n",
       "  <th>ph</th>          <td>    3.5195</td> <td>    0.773</td> <td>    4.552</td> <td> 0.000</td> <td>    2.003</td> <td>    5.036</td>\n",
       "</tr>\n",
       "<tr>\n",
       "  <th>rainfall</th>    <td>   -0.0254</td> <td>    0.019</td> <td>   -1.348</td> <td> 0.178</td> <td>   -0.062</td> <td>    0.012</td>\n",
       "</tr>\n",
       "</table>\n",
       "<table class=\"simpletable\">\n",
       "<tr>\n",
       "  <th>Omnibus:</th>       <td>827.162</td> <th>  Durbin-Watson:     </th> <td>   0.046</td>\n",
       "</tr>\n",
       "<tr>\n",
       "  <th>Prob(Omnibus):</th> <td> 0.000</td>  <th>  Jarque-Bera (JB):  </th> <td>2406.980</td>\n",
       "</tr>\n",
       "<tr>\n",
       "  <th>Skew:</th>          <td> 2.006</td>  <th>  Prob(JB):          </th> <td>    0.00</td>\n",
       "</tr>\n",
       "<tr>\n",
       "  <th>Kurtosis:</th>      <td> 6.187</td>  <th>  Cond. No.          </th> <td>    102.</td>\n",
       "</tr>\n",
       "</table><br/><br/>Notes:<br/>[1] R² is computed without centering (uncentered) since the model does not contain a constant.<br/>[2] Standard Errors assume that the covariance matrix of the errors is correctly specified."
      ],
      "text/latex": [
       "\\begin{center}\n",
       "\\begin{tabular}{lclc}\n",
       "\\toprule\n",
       "\\textbf{Dep. Variable:}    &        K         & \\textbf{  R-squared (uncentered):}      &     0.494   \\\\\n",
       "\\textbf{Model:}            &       OLS        & \\textbf{  Adj. R-squared (uncentered):} &     0.493   \\\\\n",
       "\\textbf{Method:}           &  Least Squares   & \\textbf{  F-statistic:       }          &     536.8   \\\\\n",
       "\\textbf{Date:}             & Thu, 23 Nov 2023 & \\textbf{  Prob (F-statistic):}          & 3.46e-323   \\\\\n",
       "\\textbf{Time:}             &     19:42:18     & \\textbf{  Log-Likelihood:    }          &   -11714.   \\\\\n",
       "\\textbf{No. Observations:} &        2200      & \\textbf{  AIC:               }          & 2.344e+04   \\\\\n",
       "\\textbf{Df Residuals:}     &        2196      & \\textbf{  BIC:               }          & 2.346e+04   \\\\\n",
       "\\textbf{Df Model:}         &           4      & \\textbf{                     }          &             \\\\\n",
       "\\textbf{Covariance Type:}  &    nonrobust     & \\textbf{                     }          &             \\\\\n",
       "\\bottomrule\n",
       "\\end{tabular}\n",
       "\\begin{tabular}{lcccccc}\n",
       "                     & \\textbf{coef} & \\textbf{std err} & \\textbf{t} & \\textbf{P$> |$t$|$} & \\textbf{[0.025} & \\textbf{0.975]}  \\\\\n",
       "\\midrule\n",
       "\\textbf{temperature} &      -0.8511  &        0.191     &    -4.456  &         0.000        &       -1.226    &       -0.477     \\\\\n",
       "\\textbf{humidity}    &       0.6777  &        0.048     &    14.099  &         0.000        &        0.583    &        0.772     \\\\\n",
       "\\textbf{ph}          &       3.5195  &        0.773     &     4.552  &         0.000        &        2.003    &        5.036     \\\\\n",
       "\\textbf{rainfall}    &      -0.0254  &        0.019     &    -1.348  &         0.178        &       -0.062    &        0.012     \\\\\n",
       "\\bottomrule\n",
       "\\end{tabular}\n",
       "\\begin{tabular}{lclc}\n",
       "\\textbf{Omnibus:}       & 827.162 & \\textbf{  Durbin-Watson:     } &    0.046  \\\\\n",
       "\\textbf{Prob(Omnibus):} &   0.000 & \\textbf{  Jarque-Bera (JB):  } & 2406.980  \\\\\n",
       "\\textbf{Skew:}          &   2.006 & \\textbf{  Prob(JB):          } &     0.00  \\\\\n",
       "\\textbf{Kurtosis:}      &   6.187 & \\textbf{  Cond. No.          } &     102.  \\\\\n",
       "\\bottomrule\n",
       "\\end{tabular}\n",
       "%\\caption{OLS Regression Results}\n",
       "\\end{center}\n",
       "\n",
       "Notes: \\newline\n",
       " [1] R² is computed without centering (uncentered) since the model does not contain a constant. \\newline\n",
       " [2] Standard Errors assume that the covariance matrix of the errors is correctly specified."
      ],
      "text/plain": [
       "<class 'statsmodels.iolib.summary.Summary'>\n",
       "\"\"\"\n",
       "                                 OLS Regression Results                                \n",
       "=======================================================================================\n",
       "Dep. Variable:                      K   R-squared (uncentered):                   0.494\n",
       "Model:                            OLS   Adj. R-squared (uncentered):              0.493\n",
       "Method:                 Least Squares   F-statistic:                              536.8\n",
       "Date:                Thu, 23 Nov 2023   Prob (F-statistic):                   3.46e-323\n",
       "Time:                        19:42:18   Log-Likelihood:                         -11714.\n",
       "No. Observations:                2200   AIC:                                  2.344e+04\n",
       "Df Residuals:                    2196   BIC:                                  2.346e+04\n",
       "Df Model:                           4                                                  \n",
       "Covariance Type:            nonrobust                                                  \n",
       "===============================================================================\n",
       "                  coef    std err          t      P>|t|      [0.025      0.975]\n",
       "-------------------------------------------------------------------------------\n",
       "temperature    -0.8511      0.191     -4.456      0.000      -1.226      -0.477\n",
       "humidity        0.6777      0.048     14.099      0.000       0.583       0.772\n",
       "ph              3.5195      0.773      4.552      0.000       2.003       5.036\n",
       "rainfall       -0.0254      0.019     -1.348      0.178      -0.062       0.012\n",
       "==============================================================================\n",
       "Omnibus:                      827.162   Durbin-Watson:                   0.046\n",
       "Prob(Omnibus):                  0.000   Jarque-Bera (JB):             2406.980\n",
       "Skew:                           2.006   Prob(JB):                         0.00\n",
       "Kurtosis:                       6.187   Cond. No.                         102.\n",
       "==============================================================================\n",
       "\n",
       "Notes:\n",
       "[1] R² is computed without centering (uncentered) since the model does not contain a constant.\n",
       "[2] Standard Errors assume that the covariance matrix of the errors is correctly specified.\n",
       "\"\"\""
      ]
     },
     "execution_count": 22,
     "metadata": {},
     "output_type": "execute_result"
    }
   ],
   "source": [
    "results_base_K.summary()"
   ]
  },
  {
   "cell_type": "markdown",
   "metadata": {},
   "source": [
    "#### Log Data"
   ]
  },
  {
   "cell_type": "code",
   "execution_count": 23,
   "metadata": {},
   "outputs": [],
   "source": [
    "cols_descriptive = [\"temperature\", \"humidity\", \"ph\", \"rainfall\"]\n",
    "\n",
    "X_log = df_log.loc[:, cols_descriptive]\n",
    "y_N = df_log.loc[:, \"N\"]\n",
    "y_P = df_log.loc[:, \"P\"]\n",
    "y_K = df_log.loc[:, \"K\"]"
   ]
  },
  {
   "cell_type": "code",
   "execution_count": 24,
   "metadata": {},
   "outputs": [],
   "source": [
    "model_analysis_base_N = sm.OLS(y_N, X_log)\n",
    "model_analysis_base_P = sm.OLS(y_P, X_log)\n",
    "model_analysis_base_K = sm.OLS(y_K, X_log)\n",
    "\n",
    "results_base_N = model_analysis_base_N.fit()\n",
    "results_base_P = model_analysis_base_P.fit()\n",
    "results_base_K = model_analysis_base_K.fit()"
   ]
  },
  {
   "cell_type": "code",
   "execution_count": 25,
   "metadata": {},
   "outputs": [
    {
     "data": {
      "text/html": [
       "<table class=\"simpletable\">\n",
       "<caption>OLS Regression Results</caption>\n",
       "<tr>\n",
       "  <th>Dep. Variable:</th>            <td>N</td>        <th>  R-squared (uncentered):</th>      <td>   0.669</td> \n",
       "</tr>\n",
       "<tr>\n",
       "  <th>Model:</th>                   <td>OLS</td>       <th>  Adj. R-squared (uncentered):</th> <td>   0.668</td> \n",
       "</tr>\n",
       "<tr>\n",
       "  <th>Method:</th>             <td>Least Squares</td>  <th>  F-statistic:       </th>          <td>   1109.</td> \n",
       "</tr>\n",
       "<tr>\n",
       "  <th>Date:</th>             <td>Thu, 23 Nov 2023</td> <th>  Prob (F-statistic):</th>           <td>  0.00</td>  \n",
       "</tr>\n",
       "<tr>\n",
       "  <th>Time:</th>                 <td>19:42:18</td>     <th>  Log-Likelihood:    </th>          <td> -11006.</td> \n",
       "</tr>\n",
       "<tr>\n",
       "  <th>No. Observations:</th>      <td>  2200</td>      <th>  AIC:               </th>          <td>2.202e+04</td>\n",
       "</tr>\n",
       "<tr>\n",
       "  <th>Df Residuals:</th>          <td>  2196</td>      <th>  BIC:               </th>          <td>2.204e+04</td>\n",
       "</tr>\n",
       "<tr>\n",
       "  <th>Df Model:</th>              <td>     4</td>      <th>                     </th>              <td> </td>    \n",
       "</tr>\n",
       "<tr>\n",
       "  <th>Covariance Type:</th>      <td>nonrobust</td>    <th>                     </th>              <td> </td>    \n",
       "</tr>\n",
       "</table>\n",
       "<table class=\"simpletable\">\n",
       "<tr>\n",
       "       <td></td>          <th>coef</th>     <th>std err</th>      <th>t</th>      <th>P>|t|</th>  <th>[0.025</th>    <th>0.975]</th>  \n",
       "</tr>\n",
       "<tr>\n",
       "  <th>temperature</th> <td>   -7.5866</td> <td>    3.109</td> <td>   -2.440</td> <td> 0.015</td> <td>  -13.683</td> <td>   -1.490</td>\n",
       "</tr>\n",
       "<tr>\n",
       "  <th>humidity</th>    <td>   14.9516</td> <td>    1.731</td> <td>    8.637</td> <td> 0.000</td> <td>   11.557</td> <td>   18.346</td>\n",
       "</tr>\n",
       "<tr>\n",
       "  <th>ph</th>          <td>   15.4073</td> <td>    4.765</td> <td>    3.233</td> <td> 0.001</td> <td>    6.063</td> <td>   24.752</td>\n",
       "</tr>\n",
       "<tr>\n",
       "  <th>rainfall</th>    <td>   -3.5978</td> <td>    1.258</td> <td>   -2.860</td> <td> 0.004</td> <td>   -6.065</td> <td>   -1.131</td>\n",
       "</tr>\n",
       "</table>\n",
       "<table class=\"simpletable\">\n",
       "<tr>\n",
       "  <th>Omnibus:</th>       <td>746.487</td> <th>  Durbin-Watson:     </th> <td>   0.240</td>\n",
       "</tr>\n",
       "<tr>\n",
       "  <th>Prob(Omnibus):</th> <td> 0.000</td>  <th>  Jarque-Bera (JB):  </th> <td> 157.028</td>\n",
       "</tr>\n",
       "<tr>\n",
       "  <th>Skew:</th>          <td> 0.381</td>  <th>  Prob(JB):          </th> <td>7.97e-35</td>\n",
       "</tr>\n",
       "<tr>\n",
       "  <th>Kurtosis:</th>      <td> 1.936</td>  <th>  Cond. No.          </th> <td>    48.8</td>\n",
       "</tr>\n",
       "</table><br/><br/>Notes:<br/>[1] R² is computed without centering (uncentered) since the model does not contain a constant.<br/>[2] Standard Errors assume that the covariance matrix of the errors is correctly specified."
      ],
      "text/latex": [
       "\\begin{center}\n",
       "\\begin{tabular}{lclc}\n",
       "\\toprule\n",
       "\\textbf{Dep. Variable:}    &        N         & \\textbf{  R-squared (uncentered):}      &     0.669   \\\\\n",
       "\\textbf{Model:}            &       OLS        & \\textbf{  Adj. R-squared (uncentered):} &     0.668   \\\\\n",
       "\\textbf{Method:}           &  Least Squares   & \\textbf{  F-statistic:       }          &     1109.   \\\\\n",
       "\\textbf{Date:}             & Thu, 23 Nov 2023 & \\textbf{  Prob (F-statistic):}          &     0.00    \\\\\n",
       "\\textbf{Time:}             &     19:42:18     & \\textbf{  Log-Likelihood:    }          &   -11006.   \\\\\n",
       "\\textbf{No. Observations:} &        2200      & \\textbf{  AIC:               }          & 2.202e+04   \\\\\n",
       "\\textbf{Df Residuals:}     &        2196      & \\textbf{  BIC:               }          & 2.204e+04   \\\\\n",
       "\\textbf{Df Model:}         &           4      & \\textbf{                     }          &             \\\\\n",
       "\\textbf{Covariance Type:}  &    nonrobust     & \\textbf{                     }          &             \\\\\n",
       "\\bottomrule\n",
       "\\end{tabular}\n",
       "\\begin{tabular}{lcccccc}\n",
       "                     & \\textbf{coef} & \\textbf{std err} & \\textbf{t} & \\textbf{P$> |$t$|$} & \\textbf{[0.025} & \\textbf{0.975]}  \\\\\n",
       "\\midrule\n",
       "\\textbf{temperature} &      -7.5866  &        3.109     &    -2.440  &         0.015        &      -13.683    &       -1.490     \\\\\n",
       "\\textbf{humidity}    &      14.9516  &        1.731     &     8.637  &         0.000        &       11.557    &       18.346     \\\\\n",
       "\\textbf{ph}          &      15.4073  &        4.765     &     3.233  &         0.001        &        6.063    &       24.752     \\\\\n",
       "\\textbf{rainfall}    &      -3.5978  &        1.258     &    -2.860  &         0.004        &       -6.065    &       -1.131     \\\\\n",
       "\\bottomrule\n",
       "\\end{tabular}\n",
       "\\begin{tabular}{lclc}\n",
       "\\textbf{Omnibus:}       & 746.487 & \\textbf{  Durbin-Watson:     } &    0.240  \\\\\n",
       "\\textbf{Prob(Omnibus):} &   0.000 & \\textbf{  Jarque-Bera (JB):  } &  157.028  \\\\\n",
       "\\textbf{Skew:}          &   0.381 & \\textbf{  Prob(JB):          } & 7.97e-35  \\\\\n",
       "\\textbf{Kurtosis:}      &   1.936 & \\textbf{  Cond. No.          } &     48.8  \\\\\n",
       "\\bottomrule\n",
       "\\end{tabular}\n",
       "%\\caption{OLS Regression Results}\n",
       "\\end{center}\n",
       "\n",
       "Notes: \\newline\n",
       " [1] R² is computed without centering (uncentered) since the model does not contain a constant. \\newline\n",
       " [2] Standard Errors assume that the covariance matrix of the errors is correctly specified."
      ],
      "text/plain": [
       "<class 'statsmodels.iolib.summary.Summary'>\n",
       "\"\"\"\n",
       "                                 OLS Regression Results                                \n",
       "=======================================================================================\n",
       "Dep. Variable:                      N   R-squared (uncentered):                   0.669\n",
       "Model:                            OLS   Adj. R-squared (uncentered):              0.668\n",
       "Method:                 Least Squares   F-statistic:                              1109.\n",
       "Date:                Thu, 23 Nov 2023   Prob (F-statistic):                        0.00\n",
       "Time:                        19:42:18   Log-Likelihood:                         -11006.\n",
       "No. Observations:                2200   AIC:                                  2.202e+04\n",
       "Df Residuals:                    2196   BIC:                                  2.204e+04\n",
       "Df Model:                           4                                                  \n",
       "Covariance Type:            nonrobust                                                  \n",
       "===============================================================================\n",
       "                  coef    std err          t      P>|t|      [0.025      0.975]\n",
       "-------------------------------------------------------------------------------\n",
       "temperature    -7.5866      3.109     -2.440      0.015     -13.683      -1.490\n",
       "humidity       14.9516      1.731      8.637      0.000      11.557      18.346\n",
       "ph             15.4073      4.765      3.233      0.001       6.063      24.752\n",
       "rainfall       -3.5978      1.258     -2.860      0.004      -6.065      -1.131\n",
       "==============================================================================\n",
       "Omnibus:                      746.487   Durbin-Watson:                   0.240\n",
       "Prob(Omnibus):                  0.000   Jarque-Bera (JB):              157.028\n",
       "Skew:                           0.381   Prob(JB):                     7.97e-35\n",
       "Kurtosis:                       1.936   Cond. No.                         48.8\n",
       "==============================================================================\n",
       "\n",
       "Notes:\n",
       "[1] R² is computed without centering (uncentered) since the model does not contain a constant.\n",
       "[2] Standard Errors assume that the covariance matrix of the errors is correctly specified.\n",
       "\"\"\""
      ]
     },
     "execution_count": 25,
     "metadata": {},
     "output_type": "execute_result"
    }
   ],
   "source": [
    "results_base_N.summary()"
   ]
  },
  {
   "cell_type": "code",
   "execution_count": 26,
   "metadata": {},
   "outputs": [
    {
     "data": {
      "text/html": [
       "<table class=\"simpletable\">\n",
       "<caption>OLS Regression Results</caption>\n",
       "<tr>\n",
       "  <th>Dep. Variable:</th>            <td>P</td>        <th>  R-squared (uncentered):</th>      <td>   0.718</td> \n",
       "</tr>\n",
       "<tr>\n",
       "  <th>Model:</th>                   <td>OLS</td>       <th>  Adj. R-squared (uncentered):</th> <td>   0.718</td> \n",
       "</tr>\n",
       "<tr>\n",
       "  <th>Method:</th>             <td>Least Squares</td>  <th>  F-statistic:       </th>          <td>   1399.</td> \n",
       "</tr>\n",
       "<tr>\n",
       "  <th>Date:</th>             <td>Thu, 23 Nov 2023</td> <th>  Prob (F-statistic):</th>           <td>  0.00</td>  \n",
       "</tr>\n",
       "<tr>\n",
       "  <th>Time:</th>                 <td>19:42:18</td>     <th>  Log-Likelihood:    </th>          <td> -10834.</td> \n",
       "</tr>\n",
       "<tr>\n",
       "  <th>No. Observations:</th>      <td>  2200</td>      <th>  AIC:               </th>          <td>2.168e+04</td>\n",
       "</tr>\n",
       "<tr>\n",
       "  <th>Df Residuals:</th>          <td>  2196</td>      <th>  BIC:               </th>          <td>2.170e+04</td>\n",
       "</tr>\n",
       "<tr>\n",
       "  <th>Df Model:</th>              <td>     4</td>      <th>                     </th>              <td> </td>    \n",
       "</tr>\n",
       "<tr>\n",
       "  <th>Covariance Type:</th>      <td>nonrobust</td>    <th>                     </th>              <td> </td>    \n",
       "</tr>\n",
       "</table>\n",
       "<table class=\"simpletable\">\n",
       "<tr>\n",
       "       <td></td>          <th>coef</th>     <th>std err</th>      <th>t</th>      <th>P>|t|</th>  <th>[0.025</th>    <th>0.975]</th>  \n",
       "</tr>\n",
       "<tr>\n",
       "  <th>temperature</th> <td>    3.6564</td> <td>    2.875</td> <td>    1.272</td> <td> 0.204</td> <td>   -1.981</td> <td>    9.294</td>\n",
       "</tr>\n",
       "<tr>\n",
       "  <th>humidity</th>    <td>   -2.4152</td> <td>    1.601</td> <td>   -1.509</td> <td> 0.131</td> <td>   -5.554</td> <td>    0.724</td>\n",
       "</tr>\n",
       "<tr>\n",
       "  <th>ph</th>          <td>   10.8995</td> <td>    4.406</td> <td>    2.474</td> <td> 0.013</td> <td>    2.259</td> <td>   19.540</td>\n",
       "</tr>\n",
       "<tr>\n",
       "  <th>rainfall</th>    <td>    6.9129</td> <td>    1.163</td> <td>    5.943</td> <td> 0.000</td> <td>    4.632</td> <td>    9.194</td>\n",
       "</tr>\n",
       "</table>\n",
       "<table class=\"simpletable\">\n",
       "<tr>\n",
       "  <th>Omnibus:</th>       <td>344.752</td> <th>  Durbin-Watson:     </th> <td>   0.128</td> \n",
       "</tr>\n",
       "<tr>\n",
       "  <th>Prob(Omnibus):</th> <td> 0.000</td>  <th>  Jarque-Bera (JB):  </th> <td> 533.228</td> \n",
       "</tr>\n",
       "<tr>\n",
       "  <th>Skew:</th>          <td> 1.092</td>  <th>  Prob(JB):          </th> <td>1.63e-116</td>\n",
       "</tr>\n",
       "<tr>\n",
       "  <th>Kurtosis:</th>      <td> 4.025</td>  <th>  Cond. No.          </th> <td>    48.8</td> \n",
       "</tr>\n",
       "</table><br/><br/>Notes:<br/>[1] R² is computed without centering (uncentered) since the model does not contain a constant.<br/>[2] Standard Errors assume that the covariance matrix of the errors is correctly specified."
      ],
      "text/latex": [
       "\\begin{center}\n",
       "\\begin{tabular}{lclc}\n",
       "\\toprule\n",
       "\\textbf{Dep. Variable:}    &        P         & \\textbf{  R-squared (uncentered):}      &     0.718   \\\\\n",
       "\\textbf{Model:}            &       OLS        & \\textbf{  Adj. R-squared (uncentered):} &     0.718   \\\\\n",
       "\\textbf{Method:}           &  Least Squares   & \\textbf{  F-statistic:       }          &     1399.   \\\\\n",
       "\\textbf{Date:}             & Thu, 23 Nov 2023 & \\textbf{  Prob (F-statistic):}          &     0.00    \\\\\n",
       "\\textbf{Time:}             &     19:42:18     & \\textbf{  Log-Likelihood:    }          &   -10834.   \\\\\n",
       "\\textbf{No. Observations:} &        2200      & \\textbf{  AIC:               }          & 2.168e+04   \\\\\n",
       "\\textbf{Df Residuals:}     &        2196      & \\textbf{  BIC:               }          & 2.170e+04   \\\\\n",
       "\\textbf{Df Model:}         &           4      & \\textbf{                     }          &             \\\\\n",
       "\\textbf{Covariance Type:}  &    nonrobust     & \\textbf{                     }          &             \\\\\n",
       "\\bottomrule\n",
       "\\end{tabular}\n",
       "\\begin{tabular}{lcccccc}\n",
       "                     & \\textbf{coef} & \\textbf{std err} & \\textbf{t} & \\textbf{P$> |$t$|$} & \\textbf{[0.025} & \\textbf{0.975]}  \\\\\n",
       "\\midrule\n",
       "\\textbf{temperature} &       3.6564  &        2.875     &     1.272  &         0.204        &       -1.981    &        9.294     \\\\\n",
       "\\textbf{humidity}    &      -2.4152  &        1.601     &    -1.509  &         0.131        &       -5.554    &        0.724     \\\\\n",
       "\\textbf{ph}          &      10.8995  &        4.406     &     2.474  &         0.013        &        2.259    &       19.540     \\\\\n",
       "\\textbf{rainfall}    &       6.9129  &        1.163     &     5.943  &         0.000        &        4.632    &        9.194     \\\\\n",
       "\\bottomrule\n",
       "\\end{tabular}\n",
       "\\begin{tabular}{lclc}\n",
       "\\textbf{Omnibus:}       & 344.752 & \\textbf{  Durbin-Watson:     } &     0.128  \\\\\n",
       "\\textbf{Prob(Omnibus):} &   0.000 & \\textbf{  Jarque-Bera (JB):  } &   533.228  \\\\\n",
       "\\textbf{Skew:}          &   1.092 & \\textbf{  Prob(JB):          } & 1.63e-116  \\\\\n",
       "\\textbf{Kurtosis:}      &   4.025 & \\textbf{  Cond. No.          } &      48.8  \\\\\n",
       "\\bottomrule\n",
       "\\end{tabular}\n",
       "%\\caption{OLS Regression Results}\n",
       "\\end{center}\n",
       "\n",
       "Notes: \\newline\n",
       " [1] R² is computed without centering (uncentered) since the model does not contain a constant. \\newline\n",
       " [2] Standard Errors assume that the covariance matrix of the errors is correctly specified."
      ],
      "text/plain": [
       "<class 'statsmodels.iolib.summary.Summary'>\n",
       "\"\"\"\n",
       "                                 OLS Regression Results                                \n",
       "=======================================================================================\n",
       "Dep. Variable:                      P   R-squared (uncentered):                   0.718\n",
       "Model:                            OLS   Adj. R-squared (uncentered):              0.718\n",
       "Method:                 Least Squares   F-statistic:                              1399.\n",
       "Date:                Thu, 23 Nov 2023   Prob (F-statistic):                        0.00\n",
       "Time:                        19:42:18   Log-Likelihood:                         -10834.\n",
       "No. Observations:                2200   AIC:                                  2.168e+04\n",
       "Df Residuals:                    2196   BIC:                                  2.170e+04\n",
       "Df Model:                           4                                                  \n",
       "Covariance Type:            nonrobust                                                  \n",
       "===============================================================================\n",
       "                  coef    std err          t      P>|t|      [0.025      0.975]\n",
       "-------------------------------------------------------------------------------\n",
       "temperature     3.6564      2.875      1.272      0.204      -1.981       9.294\n",
       "humidity       -2.4152      1.601     -1.509      0.131      -5.554       0.724\n",
       "ph             10.8995      4.406      2.474      0.013       2.259      19.540\n",
       "rainfall        6.9129      1.163      5.943      0.000       4.632       9.194\n",
       "==============================================================================\n",
       "Omnibus:                      344.752   Durbin-Watson:                   0.128\n",
       "Prob(Omnibus):                  0.000   Jarque-Bera (JB):              533.228\n",
       "Skew:                           1.092   Prob(JB):                    1.63e-116\n",
       "Kurtosis:                       4.025   Cond. No.                         48.8\n",
       "==============================================================================\n",
       "\n",
       "Notes:\n",
       "[1] R² is computed without centering (uncentered) since the model does not contain a constant.\n",
       "[2] Standard Errors assume that the covariance matrix of the errors is correctly specified.\n",
       "\"\"\""
      ]
     },
     "execution_count": 26,
     "metadata": {},
     "output_type": "execute_result"
    }
   ],
   "source": [
    "results_base_P.summary()"
   ]
  },
  {
   "cell_type": "code",
   "execution_count": 27,
   "metadata": {},
   "outputs": [
    {
     "data": {
      "text/html": [
       "<table class=\"simpletable\">\n",
       "<caption>OLS Regression Results</caption>\n",
       "<tr>\n",
       "  <th>Dep. Variable:</th>            <td>K</td>        <th>  R-squared (uncentered):</th>      <td>   0.496</td> \n",
       "</tr>\n",
       "<tr>\n",
       "  <th>Model:</th>                   <td>OLS</td>       <th>  Adj. R-squared (uncentered):</th> <td>   0.495</td> \n",
       "</tr>\n",
       "<tr>\n",
       "  <th>Method:</th>             <td>Least Squares</td>  <th>  F-statistic:       </th>          <td>   540.7</td> \n",
       "</tr>\n",
       "<tr>\n",
       "  <th>Date:</th>             <td>Thu, 23 Nov 2023</td> <th>  Prob (F-statistic):</th>           <td>  0.00</td>  \n",
       "</tr>\n",
       "<tr>\n",
       "  <th>Time:</th>                 <td>19:42:18</td>     <th>  Log-Likelihood:    </th>          <td> -11710.</td> \n",
       "</tr>\n",
       "<tr>\n",
       "  <th>No. Observations:</th>      <td>  2200</td>      <th>  AIC:               </th>          <td>2.343e+04</td>\n",
       "</tr>\n",
       "<tr>\n",
       "  <th>Df Residuals:</th>          <td>  2196</td>      <th>  BIC:               </th>          <td>2.345e+04</td>\n",
       "</tr>\n",
       "<tr>\n",
       "  <th>Df Model:</th>              <td>     4</td>      <th>                     </th>              <td> </td>    \n",
       "</tr>\n",
       "<tr>\n",
       "  <th>Covariance Type:</th>      <td>nonrobust</td>    <th>                     </th>              <td> </td>    \n",
       "</tr>\n",
       "</table>\n",
       "<table class=\"simpletable\">\n",
       "<tr>\n",
       "       <td></td>          <th>coef</th>     <th>std err</th>      <th>t</th>      <th>P>|t|</th>  <th>[0.025</th>    <th>0.975]</th>  \n",
       "</tr>\n",
       "<tr>\n",
       "  <th>temperature</th> <td>  -25.9065</td> <td>    4.281</td> <td>   -6.051</td> <td> 0.000</td> <td>  -34.302</td> <td>  -17.511</td>\n",
       "</tr>\n",
       "<tr>\n",
       "  <th>humidity</th>    <td>   26.6108</td> <td>    2.384</td> <td>   11.163</td> <td> 0.000</td> <td>   21.936</td> <td>   31.285</td>\n",
       "</tr>\n",
       "<tr>\n",
       "  <th>ph</th>          <td>   -2.3161</td> <td>    6.562</td> <td>   -0.353</td> <td> 0.724</td> <td>  -15.184</td> <td>   10.552</td>\n",
       "</tr>\n",
       "<tr>\n",
       "  <th>rainfall</th>    <td>    5.3214</td> <td>    1.732</td> <td>    3.072</td> <td> 0.002</td> <td>    1.924</td> <td>    8.719</td>\n",
       "</tr>\n",
       "</table>\n",
       "<table class=\"simpletable\">\n",
       "<tr>\n",
       "  <th>Omnibus:</th>       <td>863.394</td> <th>  Durbin-Watson:     </th> <td>   0.044</td>\n",
       "</tr>\n",
       "<tr>\n",
       "  <th>Prob(Omnibus):</th> <td> 0.000</td>  <th>  Jarque-Bera (JB):  </th> <td>2619.089</td>\n",
       "</tr>\n",
       "<tr>\n",
       "  <th>Skew:</th>          <td> 2.082</td>  <th>  Prob(JB):          </th> <td>    0.00</td>\n",
       "</tr>\n",
       "<tr>\n",
       "  <th>Kurtosis:</th>      <td> 6.351</td>  <th>  Cond. No.          </th> <td>    48.8</td>\n",
       "</tr>\n",
       "</table><br/><br/>Notes:<br/>[1] R² is computed without centering (uncentered) since the model does not contain a constant.<br/>[2] Standard Errors assume that the covariance matrix of the errors is correctly specified."
      ],
      "text/latex": [
       "\\begin{center}\n",
       "\\begin{tabular}{lclc}\n",
       "\\toprule\n",
       "\\textbf{Dep. Variable:}    &        K         & \\textbf{  R-squared (uncentered):}      &     0.496   \\\\\n",
       "\\textbf{Model:}            &       OLS        & \\textbf{  Adj. R-squared (uncentered):} &     0.495   \\\\\n",
       "\\textbf{Method:}           &  Least Squares   & \\textbf{  F-statistic:       }          &     540.7   \\\\\n",
       "\\textbf{Date:}             & Thu, 23 Nov 2023 & \\textbf{  Prob (F-statistic):}          &     0.00    \\\\\n",
       "\\textbf{Time:}             &     19:42:18     & \\textbf{  Log-Likelihood:    }          &   -11710.   \\\\\n",
       "\\textbf{No. Observations:} &        2200      & \\textbf{  AIC:               }          & 2.343e+04   \\\\\n",
       "\\textbf{Df Residuals:}     &        2196      & \\textbf{  BIC:               }          & 2.345e+04   \\\\\n",
       "\\textbf{Df Model:}         &           4      & \\textbf{                     }          &             \\\\\n",
       "\\textbf{Covariance Type:}  &    nonrobust     & \\textbf{                     }          &             \\\\\n",
       "\\bottomrule\n",
       "\\end{tabular}\n",
       "\\begin{tabular}{lcccccc}\n",
       "                     & \\textbf{coef} & \\textbf{std err} & \\textbf{t} & \\textbf{P$> |$t$|$} & \\textbf{[0.025} & \\textbf{0.975]}  \\\\\n",
       "\\midrule\n",
       "\\textbf{temperature} &     -25.9065  &        4.281     &    -6.051  &         0.000        &      -34.302    &      -17.511     \\\\\n",
       "\\textbf{humidity}    &      26.6108  &        2.384     &    11.163  &         0.000        &       21.936    &       31.285     \\\\\n",
       "\\textbf{ph}          &      -2.3161  &        6.562     &    -0.353  &         0.724        &      -15.184    &       10.552     \\\\\n",
       "\\textbf{rainfall}    &       5.3214  &        1.732     &     3.072  &         0.002        &        1.924    &        8.719     \\\\\n",
       "\\bottomrule\n",
       "\\end{tabular}\n",
       "\\begin{tabular}{lclc}\n",
       "\\textbf{Omnibus:}       & 863.394 & \\textbf{  Durbin-Watson:     } &    0.044  \\\\\n",
       "\\textbf{Prob(Omnibus):} &   0.000 & \\textbf{  Jarque-Bera (JB):  } & 2619.089  \\\\\n",
       "\\textbf{Skew:}          &   2.082 & \\textbf{  Prob(JB):          } &     0.00  \\\\\n",
       "\\textbf{Kurtosis:}      &   6.351 & \\textbf{  Cond. No.          } &     48.8  \\\\\n",
       "\\bottomrule\n",
       "\\end{tabular}\n",
       "%\\caption{OLS Regression Results}\n",
       "\\end{center}\n",
       "\n",
       "Notes: \\newline\n",
       " [1] R² is computed without centering (uncentered) since the model does not contain a constant. \\newline\n",
       " [2] Standard Errors assume that the covariance matrix of the errors is correctly specified."
      ],
      "text/plain": [
       "<class 'statsmodels.iolib.summary.Summary'>\n",
       "\"\"\"\n",
       "                                 OLS Regression Results                                \n",
       "=======================================================================================\n",
       "Dep. Variable:                      K   R-squared (uncentered):                   0.496\n",
       "Model:                            OLS   Adj. R-squared (uncentered):              0.495\n",
       "Method:                 Least Squares   F-statistic:                              540.7\n",
       "Date:                Thu, 23 Nov 2023   Prob (F-statistic):                        0.00\n",
       "Time:                        19:42:18   Log-Likelihood:                         -11710.\n",
       "No. Observations:                2200   AIC:                                  2.343e+04\n",
       "Df Residuals:                    2196   BIC:                                  2.345e+04\n",
       "Df Model:                           4                                                  \n",
       "Covariance Type:            nonrobust                                                  \n",
       "===============================================================================\n",
       "                  coef    std err          t      P>|t|      [0.025      0.975]\n",
       "-------------------------------------------------------------------------------\n",
       "temperature   -25.9065      4.281     -6.051      0.000     -34.302     -17.511\n",
       "humidity       26.6108      2.384     11.163      0.000      21.936      31.285\n",
       "ph             -2.3161      6.562     -0.353      0.724     -15.184      10.552\n",
       "rainfall        5.3214      1.732      3.072      0.002       1.924       8.719\n",
       "==============================================================================\n",
       "Omnibus:                      863.394   Durbin-Watson:                   0.044\n",
       "Prob(Omnibus):                  0.000   Jarque-Bera (JB):             2619.089\n",
       "Skew:                           2.082   Prob(JB):                         0.00\n",
       "Kurtosis:                       6.351   Cond. No.                         48.8\n",
       "==============================================================================\n",
       "\n",
       "Notes:\n",
       "[1] R² is computed without centering (uncentered) since the model does not contain a constant.\n",
       "[2] Standard Errors assume that the covariance matrix of the errors is correctly specified.\n",
       "\"\"\""
      ]
     },
     "execution_count": 27,
     "metadata": {},
     "output_type": "execute_result"
    }
   ],
   "source": [
    "results_base_K.summary()"
   ]
  },
  {
   "cell_type": "markdown",
   "metadata": {},
   "source": [
    "#### Squared Data"
   ]
  },
  {
   "cell_type": "code",
   "execution_count": 28,
   "metadata": {},
   "outputs": [],
   "source": [
    "cols_descriptive = [\"temperature\", \"humidity\", \"ph\", \"rainfall\"]\n",
    "\n",
    "X_sqr = df_sqr.loc[:, cols_descriptive]\n",
    "y_N = df_sqr.loc[:, \"N\"]\n",
    "y_P = df_sqr.loc[:, \"P\"]\n",
    "y_K = df_sqr.loc[:, \"K\"]"
   ]
  },
  {
   "cell_type": "code",
   "execution_count": 29,
   "metadata": {},
   "outputs": [],
   "source": [
    "model_analysis_base_N = sm.OLS(y_N, X_sqr)\n",
    "model_analysis_base_P = sm.OLS(y_P, X_sqr)\n",
    "model_analysis_base_K = sm.OLS(y_K, X_sqr)\n",
    "\n",
    "results_base_N = model_analysis_base_N.fit()\n",
    "results_base_P = model_analysis_base_P.fit()\n",
    "results_base_K = model_analysis_base_K.fit()"
   ]
  },
  {
   "cell_type": "code",
   "execution_count": 30,
   "metadata": {},
   "outputs": [
    {
     "data": {
      "text/html": [
       "<table class=\"simpletable\">\n",
       "<caption>OLS Regression Results</caption>\n",
       "<tr>\n",
       "  <th>Dep. Variable:</th>            <td>N</td>        <th>  R-squared (uncentered):</th>      <td>   0.660</td> \n",
       "</tr>\n",
       "<tr>\n",
       "  <th>Model:</th>                   <td>OLS</td>       <th>  Adj. R-squared (uncentered):</th> <td>   0.660</td> \n",
       "</tr>\n",
       "<tr>\n",
       "  <th>Method:</th>             <td>Least Squares</td>  <th>  F-statistic:       </th>          <td>   1068.</td> \n",
       "</tr>\n",
       "<tr>\n",
       "  <th>Date:</th>             <td>Thu, 23 Nov 2023</td> <th>  Prob (F-statistic):</th>           <td>  0.00</td>  \n",
       "</tr>\n",
       "<tr>\n",
       "  <th>Time:</th>                 <td>19:42:18</td>     <th>  Log-Likelihood:    </th>          <td> -11034.</td> \n",
       "</tr>\n",
       "<tr>\n",
       "  <th>No. Observations:</th>      <td>  2200</td>      <th>  AIC:               </th>          <td>2.208e+04</td>\n",
       "</tr>\n",
       "<tr>\n",
       "  <th>Df Residuals:</th>          <td>  2196</td>      <th>  BIC:               </th>          <td>2.210e+04</td>\n",
       "</tr>\n",
       "<tr>\n",
       "  <th>Df Model:</th>              <td>     4</td>      <th>                     </th>              <td> </td>    \n",
       "</tr>\n",
       "<tr>\n",
       "  <th>Covariance Type:</th>      <td>nonrobust</td>    <th>                     </th>              <td> </td>    \n",
       "</tr>\n",
       "</table>\n",
       "<table class=\"simpletable\">\n",
       "<tr>\n",
       "       <td></td>          <th>coef</th>     <th>std err</th>      <th>t</th>      <th>P>|t|</th>  <th>[0.025</th>    <th>0.975]</th>  \n",
       "</tr>\n",
       "<tr>\n",
       "  <th>temperature</th> <td>    0.0029</td> <td>    0.003</td> <td>    1.080</td> <td> 0.280</td> <td>   -0.002</td> <td>    0.008</td>\n",
       "</tr>\n",
       "<tr>\n",
       "  <th>humidity</th>    <td>    0.0026</td> <td>    0.000</td> <td>    9.355</td> <td> 0.000</td> <td>    0.002</td> <td>    0.003</td>\n",
       "</tr>\n",
       "<tr>\n",
       "  <th>ph</th>          <td>    0.6839</td> <td>    0.046</td> <td>   14.787</td> <td> 0.000</td> <td>    0.593</td> <td>    0.775</td>\n",
       "</tr>\n",
       "<tr>\n",
       "  <th>rainfall</th>    <td>    0.0003</td> <td> 5.23e-05</td> <td>    5.623</td> <td> 0.000</td> <td>    0.000</td> <td>    0.000</td>\n",
       "</tr>\n",
       "</table>\n",
       "<table class=\"simpletable\">\n",
       "<tr>\n",
       "  <th>Omnibus:</th>       <td>386.840</td> <th>  Durbin-Watson:     </th> <td>   0.276</td>\n",
       "</tr>\n",
       "<tr>\n",
       "  <th>Prob(Omnibus):</th> <td> 0.000</td>  <th>  Jarque-Bera (JB):  </th> <td> 143.714</td>\n",
       "</tr>\n",
       "<tr>\n",
       "  <th>Skew:</th>          <td> 0.425</td>  <th>  Prob(JB):          </th> <td>6.21e-32</td>\n",
       "</tr>\n",
       "<tr>\n",
       "  <th>Kurtosis:</th>      <td> 2.080</td>  <th>  Cond. No.          </th> <td>1.23e+03</td>\n",
       "</tr>\n",
       "</table><br/><br/>Notes:<br/>[1] R² is computed without centering (uncentered) since the model does not contain a constant.<br/>[2] Standard Errors assume that the covariance matrix of the errors is correctly specified.<br/>[3] The condition number is large, 1.23e+03. This might indicate that there are<br/>strong multicollinearity or other numerical problems."
      ],
      "text/latex": [
       "\\begin{center}\n",
       "\\begin{tabular}{lclc}\n",
       "\\toprule\n",
       "\\textbf{Dep. Variable:}    &        N         & \\textbf{  R-squared (uncentered):}      &     0.660   \\\\\n",
       "\\textbf{Model:}            &       OLS        & \\textbf{  Adj. R-squared (uncentered):} &     0.660   \\\\\n",
       "\\textbf{Method:}           &  Least Squares   & \\textbf{  F-statistic:       }          &     1068.   \\\\\n",
       "\\textbf{Date:}             & Thu, 23 Nov 2023 & \\textbf{  Prob (F-statistic):}          &     0.00    \\\\\n",
       "\\textbf{Time:}             &     19:42:18     & \\textbf{  Log-Likelihood:    }          &   -11034.   \\\\\n",
       "\\textbf{No. Observations:} &        2200      & \\textbf{  AIC:               }          & 2.208e+04   \\\\\n",
       "\\textbf{Df Residuals:}     &        2196      & \\textbf{  BIC:               }          & 2.210e+04   \\\\\n",
       "\\textbf{Df Model:}         &           4      & \\textbf{                     }          &             \\\\\n",
       "\\textbf{Covariance Type:}  &    nonrobust     & \\textbf{                     }          &             \\\\\n",
       "\\bottomrule\n",
       "\\end{tabular}\n",
       "\\begin{tabular}{lcccccc}\n",
       "                     & \\textbf{coef} & \\textbf{std err} & \\textbf{t} & \\textbf{P$> |$t$|$} & \\textbf{[0.025} & \\textbf{0.975]}  \\\\\n",
       "\\midrule\n",
       "\\textbf{temperature} &       0.0029  &        0.003     &     1.080  &         0.280        &       -0.002    &        0.008     \\\\\n",
       "\\textbf{humidity}    &       0.0026  &        0.000     &     9.355  &         0.000        &        0.002    &        0.003     \\\\\n",
       "\\textbf{ph}          &       0.6839  &        0.046     &    14.787  &         0.000        &        0.593    &        0.775     \\\\\n",
       "\\textbf{rainfall}    &       0.0003  &     5.23e-05     &     5.623  &         0.000        &        0.000    &        0.000     \\\\\n",
       "\\bottomrule\n",
       "\\end{tabular}\n",
       "\\begin{tabular}{lclc}\n",
       "\\textbf{Omnibus:}       & 386.840 & \\textbf{  Durbin-Watson:     } &    0.276  \\\\\n",
       "\\textbf{Prob(Omnibus):} &   0.000 & \\textbf{  Jarque-Bera (JB):  } &  143.714  \\\\\n",
       "\\textbf{Skew:}          &   0.425 & \\textbf{  Prob(JB):          } & 6.21e-32  \\\\\n",
       "\\textbf{Kurtosis:}      &   2.080 & \\textbf{  Cond. No.          } & 1.23e+03  \\\\\n",
       "\\bottomrule\n",
       "\\end{tabular}\n",
       "%\\caption{OLS Regression Results}\n",
       "\\end{center}\n",
       "\n",
       "Notes: \\newline\n",
       " [1] R² is computed without centering (uncentered) since the model does not contain a constant. \\newline\n",
       " [2] Standard Errors assume that the covariance matrix of the errors is correctly specified. \\newline\n",
       " [3] The condition number is large, 1.23e+03. This might indicate that there are \\newline\n",
       " strong multicollinearity or other numerical problems."
      ],
      "text/plain": [
       "<class 'statsmodels.iolib.summary.Summary'>\n",
       "\"\"\"\n",
       "                                 OLS Regression Results                                \n",
       "=======================================================================================\n",
       "Dep. Variable:                      N   R-squared (uncentered):                   0.660\n",
       "Model:                            OLS   Adj. R-squared (uncentered):              0.660\n",
       "Method:                 Least Squares   F-statistic:                              1068.\n",
       "Date:                Thu, 23 Nov 2023   Prob (F-statistic):                        0.00\n",
       "Time:                        19:42:18   Log-Likelihood:                         -11034.\n",
       "No. Observations:                2200   AIC:                                  2.208e+04\n",
       "Df Residuals:                    2196   BIC:                                  2.210e+04\n",
       "Df Model:                           4                                                  \n",
       "Covariance Type:            nonrobust                                                  \n",
       "===============================================================================\n",
       "                  coef    std err          t      P>|t|      [0.025      0.975]\n",
       "-------------------------------------------------------------------------------\n",
       "temperature     0.0029      0.003      1.080      0.280      -0.002       0.008\n",
       "humidity        0.0026      0.000      9.355      0.000       0.002       0.003\n",
       "ph              0.6839      0.046     14.787      0.000       0.593       0.775\n",
       "rainfall        0.0003   5.23e-05      5.623      0.000       0.000       0.000\n",
       "==============================================================================\n",
       "Omnibus:                      386.840   Durbin-Watson:                   0.276\n",
       "Prob(Omnibus):                  0.000   Jarque-Bera (JB):              143.714\n",
       "Skew:                           0.425   Prob(JB):                     6.21e-32\n",
       "Kurtosis:                       2.080   Cond. No.                     1.23e+03\n",
       "==============================================================================\n",
       "\n",
       "Notes:\n",
       "[1] R² is computed without centering (uncentered) since the model does not contain a constant.\n",
       "[2] Standard Errors assume that the covariance matrix of the errors is correctly specified.\n",
       "[3] The condition number is large, 1.23e+03. This might indicate that there are\n",
       "strong multicollinearity or other numerical problems.\n",
       "\"\"\""
      ]
     },
     "execution_count": 30,
     "metadata": {},
     "output_type": "execute_result"
    }
   ],
   "source": [
    "results_base_N.summary()"
   ]
  },
  {
   "cell_type": "code",
   "execution_count": 31,
   "metadata": {},
   "outputs": [
    {
     "data": {
      "text/html": [
       "<table class=\"simpletable\">\n",
       "<caption>OLS Regression Results</caption>\n",
       "<tr>\n",
       "  <th>Dep. Variable:</th>            <td>P</td>        <th>  R-squared (uncentered):</th>      <td>   0.668</td> \n",
       "</tr>\n",
       "<tr>\n",
       "  <th>Model:</th>                   <td>OLS</td>       <th>  Adj. R-squared (uncentered):</th> <td>   0.667</td> \n",
       "</tr>\n",
       "<tr>\n",
       "  <th>Method:</th>             <td>Least Squares</td>  <th>  F-statistic:       </th>          <td>   1104.</td> \n",
       "</tr>\n",
       "<tr>\n",
       "  <th>Date:</th>             <td>Thu, 23 Nov 2023</td> <th>  Prob (F-statistic):</th>           <td>  0.00</td>  \n",
       "</tr>\n",
       "<tr>\n",
       "  <th>Time:</th>                 <td>19:42:18</td>     <th>  Log-Likelihood:    </th>          <td> -11015.</td> \n",
       "</tr>\n",
       "<tr>\n",
       "  <th>No. Observations:</th>      <td>  2200</td>      <th>  AIC:               </th>          <td>2.204e+04</td>\n",
       "</tr>\n",
       "<tr>\n",
       "  <th>Df Residuals:</th>          <td>  2196</td>      <th>  BIC:               </th>          <td>2.206e+04</td>\n",
       "</tr>\n",
       "<tr>\n",
       "  <th>Df Model:</th>              <td>     4</td>      <th>                     </th>              <td> </td>    \n",
       "</tr>\n",
       "<tr>\n",
       "  <th>Covariance Type:</th>      <td>nonrobust</td>    <th>                     </th>              <td> </td>    \n",
       "</tr>\n",
       "</table>\n",
       "<table class=\"simpletable\">\n",
       "<tr>\n",
       "       <td></td>          <th>coef</th>     <th>std err</th>      <th>t</th>      <th>P>|t|</th>  <th>[0.025</th>    <th>0.975]</th>  \n",
       "</tr>\n",
       "<tr>\n",
       "  <th>temperature</th> <td>    0.0170</td> <td>    0.003</td> <td>    6.466</td> <td> 0.000</td> <td>    0.012</td> <td>    0.022</td>\n",
       "</tr>\n",
       "<tr>\n",
       "  <th>humidity</th>    <td>    0.0008</td> <td>    0.000</td> <td>    2.904</td> <td> 0.004</td> <td>    0.000</td> <td>    0.001</td>\n",
       "</tr>\n",
       "<tr>\n",
       "  <th>ph</th>          <td>    0.8082</td> <td>    0.046</td> <td>   17.629</td> <td> 0.000</td> <td>    0.718</td> <td>    0.898</td>\n",
       "</tr>\n",
       "<tr>\n",
       "  <th>rainfall</th>    <td>-5.947e-06</td> <td> 5.19e-05</td> <td>   -0.115</td> <td> 0.909</td> <td>   -0.000</td> <td> 9.57e-05</td>\n",
       "</tr>\n",
       "</table>\n",
       "<table class=\"simpletable\">\n",
       "<tr>\n",
       "  <th>Omnibus:</th>       <td>281.433</td> <th>  Durbin-Watson:     </th> <td>   0.187</td>\n",
       "</tr>\n",
       "<tr>\n",
       "  <th>Prob(Omnibus):</th> <td> 0.000</td>  <th>  Jarque-Bera (JB):  </th> <td> 396.648</td>\n",
       "</tr>\n",
       "<tr>\n",
       "  <th>Skew:</th>          <td> 0.987</td>  <th>  Prob(JB):          </th> <td>7.40e-87</td>\n",
       "</tr>\n",
       "<tr>\n",
       "  <th>Kurtosis:</th>      <td> 3.658</td>  <th>  Cond. No.          </th> <td>1.23e+03</td>\n",
       "</tr>\n",
       "</table><br/><br/>Notes:<br/>[1] R² is computed without centering (uncentered) since the model does not contain a constant.<br/>[2] Standard Errors assume that the covariance matrix of the errors is correctly specified.<br/>[3] The condition number is large, 1.23e+03. This might indicate that there are<br/>strong multicollinearity or other numerical problems."
      ],
      "text/latex": [
       "\\begin{center}\n",
       "\\begin{tabular}{lclc}\n",
       "\\toprule\n",
       "\\textbf{Dep. Variable:}    &        P         & \\textbf{  R-squared (uncentered):}      &     0.668   \\\\\n",
       "\\textbf{Model:}            &       OLS        & \\textbf{  Adj. R-squared (uncentered):} &     0.667   \\\\\n",
       "\\textbf{Method:}           &  Least Squares   & \\textbf{  F-statistic:       }          &     1104.   \\\\\n",
       "\\textbf{Date:}             & Thu, 23 Nov 2023 & \\textbf{  Prob (F-statistic):}          &     0.00    \\\\\n",
       "\\textbf{Time:}             &     19:42:18     & \\textbf{  Log-Likelihood:    }          &   -11015.   \\\\\n",
       "\\textbf{No. Observations:} &        2200      & \\textbf{  AIC:               }          & 2.204e+04   \\\\\n",
       "\\textbf{Df Residuals:}     &        2196      & \\textbf{  BIC:               }          & 2.206e+04   \\\\\n",
       "\\textbf{Df Model:}         &           4      & \\textbf{                     }          &             \\\\\n",
       "\\textbf{Covariance Type:}  &    nonrobust     & \\textbf{                     }          &             \\\\\n",
       "\\bottomrule\n",
       "\\end{tabular}\n",
       "\\begin{tabular}{lcccccc}\n",
       "                     & \\textbf{coef} & \\textbf{std err} & \\textbf{t} & \\textbf{P$> |$t$|$} & \\textbf{[0.025} & \\textbf{0.975]}  \\\\\n",
       "\\midrule\n",
       "\\textbf{temperature} &       0.0170  &        0.003     &     6.466  &         0.000        &        0.012    &        0.022     \\\\\n",
       "\\textbf{humidity}    &       0.0008  &        0.000     &     2.904  &         0.004        &        0.000    &        0.001     \\\\\n",
       "\\textbf{ph}          &       0.8082  &        0.046     &    17.629  &         0.000        &        0.718    &        0.898     \\\\\n",
       "\\textbf{rainfall}    &   -5.947e-06  &     5.19e-05     &    -0.115  &         0.909        &       -0.000    &     9.57e-05     \\\\\n",
       "\\bottomrule\n",
       "\\end{tabular}\n",
       "\\begin{tabular}{lclc}\n",
       "\\textbf{Omnibus:}       & 281.433 & \\textbf{  Durbin-Watson:     } &    0.187  \\\\\n",
       "\\textbf{Prob(Omnibus):} &   0.000 & \\textbf{  Jarque-Bera (JB):  } &  396.648  \\\\\n",
       "\\textbf{Skew:}          &   0.987 & \\textbf{  Prob(JB):          } & 7.40e-87  \\\\\n",
       "\\textbf{Kurtosis:}      &   3.658 & \\textbf{  Cond. No.          } & 1.23e+03  \\\\\n",
       "\\bottomrule\n",
       "\\end{tabular}\n",
       "%\\caption{OLS Regression Results}\n",
       "\\end{center}\n",
       "\n",
       "Notes: \\newline\n",
       " [1] R² is computed without centering (uncentered) since the model does not contain a constant. \\newline\n",
       " [2] Standard Errors assume that the covariance matrix of the errors is correctly specified. \\newline\n",
       " [3] The condition number is large, 1.23e+03. This might indicate that there are \\newline\n",
       " strong multicollinearity or other numerical problems."
      ],
      "text/plain": [
       "<class 'statsmodels.iolib.summary.Summary'>\n",
       "\"\"\"\n",
       "                                 OLS Regression Results                                \n",
       "=======================================================================================\n",
       "Dep. Variable:                      P   R-squared (uncentered):                   0.668\n",
       "Model:                            OLS   Adj. R-squared (uncentered):              0.667\n",
       "Method:                 Least Squares   F-statistic:                              1104.\n",
       "Date:                Thu, 23 Nov 2023   Prob (F-statistic):                        0.00\n",
       "Time:                        19:42:18   Log-Likelihood:                         -11015.\n",
       "No. Observations:                2200   AIC:                                  2.204e+04\n",
       "Df Residuals:                    2196   BIC:                                  2.206e+04\n",
       "Df Model:                           4                                                  \n",
       "Covariance Type:            nonrobust                                                  \n",
       "===============================================================================\n",
       "                  coef    std err          t      P>|t|      [0.025      0.975]\n",
       "-------------------------------------------------------------------------------\n",
       "temperature     0.0170      0.003      6.466      0.000       0.012       0.022\n",
       "humidity        0.0008      0.000      2.904      0.004       0.000       0.001\n",
       "ph              0.8082      0.046     17.629      0.000       0.718       0.898\n",
       "rainfall    -5.947e-06   5.19e-05     -0.115      0.909      -0.000    9.57e-05\n",
       "==============================================================================\n",
       "Omnibus:                      281.433   Durbin-Watson:                   0.187\n",
       "Prob(Omnibus):                  0.000   Jarque-Bera (JB):              396.648\n",
       "Skew:                           0.987   Prob(JB):                     7.40e-87\n",
       "Kurtosis:                       3.658   Cond. No.                     1.23e+03\n",
       "==============================================================================\n",
       "\n",
       "Notes:\n",
       "[1] R² is computed without centering (uncentered) since the model does not contain a constant.\n",
       "[2] Standard Errors assume that the covariance matrix of the errors is correctly specified.\n",
       "[3] The condition number is large, 1.23e+03. This might indicate that there are\n",
       "strong multicollinearity or other numerical problems.\n",
       "\"\"\""
      ]
     },
     "execution_count": 31,
     "metadata": {},
     "output_type": "execute_result"
    }
   ],
   "source": [
    "results_base_P.summary()"
   ]
  },
  {
   "cell_type": "code",
   "execution_count": 32,
   "metadata": {},
   "outputs": [
    {
     "data": {
      "text/html": [
       "<table class=\"simpletable\">\n",
       "<caption>OLS Regression Results</caption>\n",
       "<tr>\n",
       "  <th>Dep. Variable:</th>            <td>K</td>        <th>  R-squared (uncentered):</th>      <td>   0.491</td> \n",
       "</tr>\n",
       "<tr>\n",
       "  <th>Model:</th>                   <td>OLS</td>       <th>  Adj. R-squared (uncentered):</th> <td>   0.490</td> \n",
       "</tr>\n",
       "<tr>\n",
       "  <th>Method:</th>             <td>Least Squares</td>  <th>  F-statistic:       </th>          <td>   529.3</td> \n",
       "</tr>\n",
       "<tr>\n",
       "  <th>Date:</th>             <td>Thu, 23 Nov 2023</td> <th>  Prob (F-statistic):</th>          <td>7.17e-320</td>\n",
       "</tr>\n",
       "<tr>\n",
       "  <th>Time:</th>                 <td>19:42:18</td>     <th>  Log-Likelihood:    </th>          <td> -11722.</td> \n",
       "</tr>\n",
       "<tr>\n",
       "  <th>No. Observations:</th>      <td>  2200</td>      <th>  AIC:               </th>          <td>2.345e+04</td>\n",
       "</tr>\n",
       "<tr>\n",
       "  <th>Df Residuals:</th>          <td>  2196</td>      <th>  BIC:               </th>          <td>2.347e+04</td>\n",
       "</tr>\n",
       "<tr>\n",
       "  <th>Df Model:</th>              <td>     4</td>      <th>                     </th>              <td> </td>    \n",
       "</tr>\n",
       "<tr>\n",
       "  <th>Covariance Type:</th>      <td>nonrobust</td>    <th>                     </th>              <td> </td>    \n",
       "</tr>\n",
       "</table>\n",
       "<table class=\"simpletable\">\n",
       "<tr>\n",
       "       <td></td>          <th>coef</th>     <th>std err</th>      <th>t</th>      <th>P>|t|</th>  <th>[0.025</th>    <th>0.975]</th>  \n",
       "</tr>\n",
       "<tr>\n",
       "  <th>temperature</th> <td>   -0.0060</td> <td>    0.004</td> <td>   -1.654</td> <td> 0.098</td> <td>   -0.013</td> <td>    0.001</td>\n",
       "</tr>\n",
       "<tr>\n",
       "  <th>humidity</th>    <td>    0.0069</td> <td>    0.000</td> <td>   18.119</td> <td> 0.000</td> <td>    0.006</td> <td>    0.008</td>\n",
       "</tr>\n",
       "<tr>\n",
       "  <th>ph</th>          <td>    0.3275</td> <td>    0.063</td> <td>    5.180</td> <td> 0.000</td> <td>    0.204</td> <td>    0.452</td>\n",
       "</tr>\n",
       "<tr>\n",
       "  <th>rainfall</th>    <td>   -0.0002</td> <td> 7.15e-05</td> <td>   -3.392</td> <td> 0.001</td> <td>   -0.000</td> <td>   -0.000</td>\n",
       "</tr>\n",
       "</table>\n",
       "<table class=\"simpletable\">\n",
       "<tr>\n",
       "  <th>Omnibus:</th>       <td>753.922</td> <th>  Durbin-Watson:     </th> <td>   0.047</td>\n",
       "</tr>\n",
       "<tr>\n",
       "  <th>Prob(Omnibus):</th> <td> 0.000</td>  <th>  Jarque-Bera (JB):  </th> <td>1992.751</td>\n",
       "</tr>\n",
       "<tr>\n",
       "  <th>Skew:</th>          <td> 1.864</td>  <th>  Prob(JB):          </th> <td>    0.00</td>\n",
       "</tr>\n",
       "<tr>\n",
       "  <th>Kurtosis:</th>      <td> 5.799</td>  <th>  Cond. No.          </th> <td>1.23e+03</td>\n",
       "</tr>\n",
       "</table><br/><br/>Notes:<br/>[1] R² is computed without centering (uncentered) since the model does not contain a constant.<br/>[2] Standard Errors assume that the covariance matrix of the errors is correctly specified.<br/>[3] The condition number is large, 1.23e+03. This might indicate that there are<br/>strong multicollinearity or other numerical problems."
      ],
      "text/latex": [
       "\\begin{center}\n",
       "\\begin{tabular}{lclc}\n",
       "\\toprule\n",
       "\\textbf{Dep. Variable:}    &        K         & \\textbf{  R-squared (uncentered):}      &     0.491   \\\\\n",
       "\\textbf{Model:}            &       OLS        & \\textbf{  Adj. R-squared (uncentered):} &     0.490   \\\\\n",
       "\\textbf{Method:}           &  Least Squares   & \\textbf{  F-statistic:       }          &     529.3   \\\\\n",
       "\\textbf{Date:}             & Thu, 23 Nov 2023 & \\textbf{  Prob (F-statistic):}          & 7.17e-320   \\\\\n",
       "\\textbf{Time:}             &     19:42:18     & \\textbf{  Log-Likelihood:    }          &   -11722.   \\\\\n",
       "\\textbf{No. Observations:} &        2200      & \\textbf{  AIC:               }          & 2.345e+04   \\\\\n",
       "\\textbf{Df Residuals:}     &        2196      & \\textbf{  BIC:               }          & 2.347e+04   \\\\\n",
       "\\textbf{Df Model:}         &           4      & \\textbf{                     }          &             \\\\\n",
       "\\textbf{Covariance Type:}  &    nonrobust     & \\textbf{                     }          &             \\\\\n",
       "\\bottomrule\n",
       "\\end{tabular}\n",
       "\\begin{tabular}{lcccccc}\n",
       "                     & \\textbf{coef} & \\textbf{std err} & \\textbf{t} & \\textbf{P$> |$t$|$} & \\textbf{[0.025} & \\textbf{0.975]}  \\\\\n",
       "\\midrule\n",
       "\\textbf{temperature} &      -0.0060  &        0.004     &    -1.654  &         0.098        &       -0.013    &        0.001     \\\\\n",
       "\\textbf{humidity}    &       0.0069  &        0.000     &    18.119  &         0.000        &        0.006    &        0.008     \\\\\n",
       "\\textbf{ph}          &       0.3275  &        0.063     &     5.180  &         0.000        &        0.204    &        0.452     \\\\\n",
       "\\textbf{rainfall}    &      -0.0002  &     7.15e-05     &    -3.392  &         0.001        &       -0.000    &       -0.000     \\\\\n",
       "\\bottomrule\n",
       "\\end{tabular}\n",
       "\\begin{tabular}{lclc}\n",
       "\\textbf{Omnibus:}       & 753.922 & \\textbf{  Durbin-Watson:     } &    0.047  \\\\\n",
       "\\textbf{Prob(Omnibus):} &   0.000 & \\textbf{  Jarque-Bera (JB):  } & 1992.751  \\\\\n",
       "\\textbf{Skew:}          &   1.864 & \\textbf{  Prob(JB):          } &     0.00  \\\\\n",
       "\\textbf{Kurtosis:}      &   5.799 & \\textbf{  Cond. No.          } & 1.23e+03  \\\\\n",
       "\\bottomrule\n",
       "\\end{tabular}\n",
       "%\\caption{OLS Regression Results}\n",
       "\\end{center}\n",
       "\n",
       "Notes: \\newline\n",
       " [1] R² is computed without centering (uncentered) since the model does not contain a constant. \\newline\n",
       " [2] Standard Errors assume that the covariance matrix of the errors is correctly specified. \\newline\n",
       " [3] The condition number is large, 1.23e+03. This might indicate that there are \\newline\n",
       " strong multicollinearity or other numerical problems."
      ],
      "text/plain": [
       "<class 'statsmodels.iolib.summary.Summary'>\n",
       "\"\"\"\n",
       "                                 OLS Regression Results                                \n",
       "=======================================================================================\n",
       "Dep. Variable:                      K   R-squared (uncentered):                   0.491\n",
       "Model:                            OLS   Adj. R-squared (uncentered):              0.490\n",
       "Method:                 Least Squares   F-statistic:                              529.3\n",
       "Date:                Thu, 23 Nov 2023   Prob (F-statistic):                   7.17e-320\n",
       "Time:                        19:42:18   Log-Likelihood:                         -11722.\n",
       "No. Observations:                2200   AIC:                                  2.345e+04\n",
       "Df Residuals:                    2196   BIC:                                  2.347e+04\n",
       "Df Model:                           4                                                  \n",
       "Covariance Type:            nonrobust                                                  \n",
       "===============================================================================\n",
       "                  coef    std err          t      P>|t|      [0.025      0.975]\n",
       "-------------------------------------------------------------------------------\n",
       "temperature    -0.0060      0.004     -1.654      0.098      -0.013       0.001\n",
       "humidity        0.0069      0.000     18.119      0.000       0.006       0.008\n",
       "ph              0.3275      0.063      5.180      0.000       0.204       0.452\n",
       "rainfall       -0.0002   7.15e-05     -3.392      0.001      -0.000      -0.000\n",
       "==============================================================================\n",
       "Omnibus:                      753.922   Durbin-Watson:                   0.047\n",
       "Prob(Omnibus):                  0.000   Jarque-Bera (JB):             1992.751\n",
       "Skew:                           1.864   Prob(JB):                         0.00\n",
       "Kurtosis:                       5.799   Cond. No.                     1.23e+03\n",
       "==============================================================================\n",
       "\n",
       "Notes:\n",
       "[1] R² is computed without centering (uncentered) since the model does not contain a constant.\n",
       "[2] Standard Errors assume that the covariance matrix of the errors is correctly specified.\n",
       "[3] The condition number is large, 1.23e+03. This might indicate that there are\n",
       "strong multicollinearity or other numerical problems.\n",
       "\"\"\""
      ]
     },
     "execution_count": 32,
     "metadata": {},
     "output_type": "execute_result"
    }
   ],
   "source": [
    "results_base_K.summary()"
   ]
  },
  {
   "cell_type": "markdown",
   "metadata": {},
   "source": [
    "#### Scalling Data"
   ]
  },
  {
   "cell_type": "code",
   "execution_count": 33,
   "metadata": {},
   "outputs": [],
   "source": [
    "cols_descriptive = [\"temperature\", \"humidity\", \"ph\", \"rainfall\"]\n",
    "\n",
    "scaller = MinMaxScaler(feature_range=(0, 1)).fit(X)\n",
    "X_scaled = scaller.transform(X)\n",
    "\n",
    "y_N = df_sqr.loc[:, \"N\"]\n",
    "y_P = df_sqr.loc[:, \"P\"]\n",
    "y_K = df_sqr.loc[:, \"K\"]"
   ]
  },
  {
   "cell_type": "code",
   "execution_count": 34,
   "metadata": {},
   "outputs": [],
   "source": [
    "model_analysis_base_N = sm.OLS(y_N, X_scaled)\n",
    "model_analysis_base_P = sm.OLS(y_P, X_scaled)\n",
    "model_analysis_base_K = sm.OLS(y_K, X_scaled)\n",
    "\n",
    "results_base_N = model_analysis_base_N.fit()\n",
    "results_base_P = model_analysis_base_P.fit()\n",
    "results_base_K = model_analysis_base_K.fit()"
   ]
  },
  {
   "cell_type": "code",
   "execution_count": 35,
   "metadata": {},
   "outputs": [
    {
     "data": {
      "text/html": [
       "<table class=\"simpletable\">\n",
       "<caption>OLS Regression Results</caption>\n",
       "<tr>\n",
       "  <th>Dep. Variable:</th>            <td>N</td>        <th>  R-squared (uncentered):</th>      <td>   0.667</td> \n",
       "</tr>\n",
       "<tr>\n",
       "  <th>Model:</th>                   <td>OLS</td>       <th>  Adj. R-squared (uncentered):</th> <td>   0.667</td> \n",
       "</tr>\n",
       "<tr>\n",
       "  <th>Method:</th>             <td>Least Squares</td>  <th>  F-statistic:       </th>          <td>   1101.</td> \n",
       "</tr>\n",
       "<tr>\n",
       "  <th>Date:</th>             <td>Thu, 23 Nov 2023</td> <th>  Prob (F-statistic):</th>           <td>  0.00</td>  \n",
       "</tr>\n",
       "<tr>\n",
       "  <th>Time:</th>                 <td>19:42:18</td>     <th>  Log-Likelihood:    </th>          <td> -11012.</td> \n",
       "</tr>\n",
       "<tr>\n",
       "  <th>No. Observations:</th>      <td>  2200</td>      <th>  AIC:               </th>          <td>2.203e+04</td>\n",
       "</tr>\n",
       "<tr>\n",
       "  <th>Df Residuals:</th>          <td>  2196</td>      <th>  BIC:               </th>          <td>2.205e+04</td>\n",
       "</tr>\n",
       "<tr>\n",
       "  <th>Df Model:</th>              <td>     4</td>      <th>                     </th>              <td> </td>    \n",
       "</tr>\n",
       "<tr>\n",
       "  <th>Covariance Type:</th>      <td>nonrobust</td>    <th>                     </th>              <td> </td>    \n",
       "</tr>\n",
       "</table>\n",
       "<table class=\"simpletable\">\n",
       "<tr>\n",
       "   <td></td>     <th>coef</th>     <th>std err</th>      <th>t</th>      <th>P>|t|</th>  <th>[0.025</th>    <th>0.975]</th>  \n",
       "</tr>\n",
       "<tr>\n",
       "  <th>x1</th> <td>    7.7065</td> <td>    4.660</td> <td>    1.654</td> <td> 0.098</td> <td>   -1.431</td> <td>   16.844</td>\n",
       "</tr>\n",
       "<tr>\n",
       "  <th>x2</th> <td>   30.0270</td> <td>    2.909</td> <td>   10.321</td> <td> 0.000</td> <td>   24.322</td> <td>   35.732</td>\n",
       "</tr>\n",
       "<tr>\n",
       "  <th>x3</th> <td>   47.8510</td> <td>    4.627</td> <td>   10.341</td> <td> 0.000</td> <td>   38.776</td> <td>   56.926</td>\n",
       "</tr>\n",
       "<tr>\n",
       "  <th>x4</th> <td>   14.2567</td> <td>    3.744</td> <td>    3.807</td> <td> 0.000</td> <td>    6.914</td> <td>   21.600</td>\n",
       "</tr>\n",
       "</table>\n",
       "<table class=\"simpletable\">\n",
       "<tr>\n",
       "  <th>Omnibus:</th>       <td>503.810</td> <th>  Durbin-Watson:     </th> <td>   0.265</td>\n",
       "</tr>\n",
       "<tr>\n",
       "  <th>Prob(Omnibus):</th> <td> 0.000</td>  <th>  Jarque-Bera (JB):  </th> <td> 144.038</td>\n",
       "</tr>\n",
       "<tr>\n",
       "  <th>Skew:</th>          <td> 0.388</td>  <th>  Prob(JB):          </th> <td>5.28e-32</td>\n",
       "</tr>\n",
       "<tr>\n",
       "  <th>Kurtosis:</th>      <td> 2.015</td>  <th>  Cond. No.          </th> <td>    7.60</td>\n",
       "</tr>\n",
       "</table><br/><br/>Notes:<br/>[1] R² is computed without centering (uncentered) since the model does not contain a constant.<br/>[2] Standard Errors assume that the covariance matrix of the errors is correctly specified."
      ],
      "text/latex": [
       "\\begin{center}\n",
       "\\begin{tabular}{lclc}\n",
       "\\toprule\n",
       "\\textbf{Dep. Variable:}    &        N         & \\textbf{  R-squared (uncentered):}      &     0.667   \\\\\n",
       "\\textbf{Model:}            &       OLS        & \\textbf{  Adj. R-squared (uncentered):} &     0.667   \\\\\n",
       "\\textbf{Method:}           &  Least Squares   & \\textbf{  F-statistic:       }          &     1101.   \\\\\n",
       "\\textbf{Date:}             & Thu, 23 Nov 2023 & \\textbf{  Prob (F-statistic):}          &     0.00    \\\\\n",
       "\\textbf{Time:}             &     19:42:18     & \\textbf{  Log-Likelihood:    }          &   -11012.   \\\\\n",
       "\\textbf{No. Observations:} &        2200      & \\textbf{  AIC:               }          & 2.203e+04   \\\\\n",
       "\\textbf{Df Residuals:}     &        2196      & \\textbf{  BIC:               }          & 2.205e+04   \\\\\n",
       "\\textbf{Df Model:}         &           4      & \\textbf{                     }          &             \\\\\n",
       "\\textbf{Covariance Type:}  &    nonrobust     & \\textbf{                     }          &             \\\\\n",
       "\\bottomrule\n",
       "\\end{tabular}\n",
       "\\begin{tabular}{lcccccc}\n",
       "            & \\textbf{coef} & \\textbf{std err} & \\textbf{t} & \\textbf{P$> |$t$|$} & \\textbf{[0.025} & \\textbf{0.975]}  \\\\\n",
       "\\midrule\n",
       "\\textbf{x1} &       7.7065  &        4.660     &     1.654  &         0.098        &       -1.431    &       16.844     \\\\\n",
       "\\textbf{x2} &      30.0270  &        2.909     &    10.321  &         0.000        &       24.322    &       35.732     \\\\\n",
       "\\textbf{x3} &      47.8510  &        4.627     &    10.341  &         0.000        &       38.776    &       56.926     \\\\\n",
       "\\textbf{x4} &      14.2567  &        3.744     &     3.807  &         0.000        &        6.914    &       21.600     \\\\\n",
       "\\bottomrule\n",
       "\\end{tabular}\n",
       "\\begin{tabular}{lclc}\n",
       "\\textbf{Omnibus:}       & 503.810 & \\textbf{  Durbin-Watson:     } &    0.265  \\\\\n",
       "\\textbf{Prob(Omnibus):} &   0.000 & \\textbf{  Jarque-Bera (JB):  } &  144.038  \\\\\n",
       "\\textbf{Skew:}          &   0.388 & \\textbf{  Prob(JB):          } & 5.28e-32  \\\\\n",
       "\\textbf{Kurtosis:}      &   2.015 & \\textbf{  Cond. No.          } &     7.60  \\\\\n",
       "\\bottomrule\n",
       "\\end{tabular}\n",
       "%\\caption{OLS Regression Results}\n",
       "\\end{center}\n",
       "\n",
       "Notes: \\newline\n",
       " [1] R² is computed without centering (uncentered) since the model does not contain a constant. \\newline\n",
       " [2] Standard Errors assume that the covariance matrix of the errors is correctly specified."
      ],
      "text/plain": [
       "<class 'statsmodels.iolib.summary.Summary'>\n",
       "\"\"\"\n",
       "                                 OLS Regression Results                                \n",
       "=======================================================================================\n",
       "Dep. Variable:                      N   R-squared (uncentered):                   0.667\n",
       "Model:                            OLS   Adj. R-squared (uncentered):              0.667\n",
       "Method:                 Least Squares   F-statistic:                              1101.\n",
       "Date:                Thu, 23 Nov 2023   Prob (F-statistic):                        0.00\n",
       "Time:                        19:42:18   Log-Likelihood:                         -11012.\n",
       "No. Observations:                2200   AIC:                                  2.203e+04\n",
       "Df Residuals:                    2196   BIC:                                  2.205e+04\n",
       "Df Model:                           4                                                  \n",
       "Covariance Type:            nonrobust                                                  \n",
       "==============================================================================\n",
       "                 coef    std err          t      P>|t|      [0.025      0.975]\n",
       "------------------------------------------------------------------------------\n",
       "x1             7.7065      4.660      1.654      0.098      -1.431      16.844\n",
       "x2            30.0270      2.909     10.321      0.000      24.322      35.732\n",
       "x3            47.8510      4.627     10.341      0.000      38.776      56.926\n",
       "x4            14.2567      3.744      3.807      0.000       6.914      21.600\n",
       "==============================================================================\n",
       "Omnibus:                      503.810   Durbin-Watson:                   0.265\n",
       "Prob(Omnibus):                  0.000   Jarque-Bera (JB):              144.038\n",
       "Skew:                           0.388   Prob(JB):                     5.28e-32\n",
       "Kurtosis:                       2.015   Cond. No.                         7.60\n",
       "==============================================================================\n",
       "\n",
       "Notes:\n",
       "[1] R² is computed without centering (uncentered) since the model does not contain a constant.\n",
       "[2] Standard Errors assume that the covariance matrix of the errors is correctly specified.\n",
       "\"\"\""
      ]
     },
     "execution_count": 35,
     "metadata": {},
     "output_type": "execute_result"
    }
   ],
   "source": [
    "results_base_N.summary()"
   ]
  },
  {
   "cell_type": "code",
   "execution_count": 36,
   "metadata": {},
   "outputs": [
    {
     "data": {
      "text/html": [
       "<table class=\"simpletable\">\n",
       "<caption>OLS Regression Results</caption>\n",
       "<tr>\n",
       "  <th>Dep. Variable:</th>            <td>P</td>        <th>  R-squared (uncentered):</th>      <td>   0.670</td> \n",
       "</tr>\n",
       "<tr>\n",
       "  <th>Model:</th>                   <td>OLS</td>       <th>  Adj. R-squared (uncentered):</th> <td>   0.669</td> \n",
       "</tr>\n",
       "<tr>\n",
       "  <th>Method:</th>             <td>Least Squares</td>  <th>  F-statistic:       </th>          <td>   1112.</td> \n",
       "</tr>\n",
       "<tr>\n",
       "  <th>Date:</th>             <td>Thu, 23 Nov 2023</td> <th>  Prob (F-statistic):</th>           <td>  0.00</td>  \n",
       "</tr>\n",
       "<tr>\n",
       "  <th>Time:</th>                 <td>19:42:18</td>     <th>  Log-Likelihood:    </th>          <td> -11009.</td> \n",
       "</tr>\n",
       "<tr>\n",
       "  <th>No. Observations:</th>      <td>  2200</td>      <th>  AIC:               </th>          <td>2.203e+04</td>\n",
       "</tr>\n",
       "<tr>\n",
       "  <th>Df Residuals:</th>          <td>  2196</td>      <th>  BIC:               </th>          <td>2.205e+04</td>\n",
       "</tr>\n",
       "<tr>\n",
       "  <th>Df Model:</th>              <td>     4</td>      <th>                     </th>              <td> </td>    \n",
       "</tr>\n",
       "<tr>\n",
       "  <th>Covariance Type:</th>      <td>nonrobust</td>    <th>                     </th>              <td> </td>    \n",
       "</tr>\n",
       "</table>\n",
       "<table class=\"simpletable\">\n",
       "<tr>\n",
       "   <td></td>     <th>coef</th>     <th>std err</th>      <th>t</th>      <th>P>|t|</th>  <th>[0.025</th>    <th>0.975]</th>  \n",
       "</tr>\n",
       "<tr>\n",
       "  <th>x1</th> <td>   33.1977</td> <td>    4.654</td> <td>    7.133</td> <td> 0.000</td> <td>   24.070</td> <td>   42.325</td>\n",
       "</tr>\n",
       "<tr>\n",
       "  <th>x2</th> <td>    7.9238</td> <td>    2.906</td> <td>    2.727</td> <td> 0.006</td> <td>    2.225</td> <td>   13.623</td>\n",
       "</tr>\n",
       "<tr>\n",
       "  <th>x3</th> <td>   54.3737</td> <td>    4.622</td> <td>   11.763</td> <td> 0.000</td> <td>   45.309</td> <td>   63.438</td>\n",
       "</tr>\n",
       "<tr>\n",
       "  <th>x4</th> <td>   14.1103</td> <td>    3.740</td> <td>    3.772</td> <td> 0.000</td> <td>    6.775</td> <td>   21.445</td>\n",
       "</tr>\n",
       "</table>\n",
       "<table class=\"simpletable\">\n",
       "<tr>\n",
       "  <th>Omnibus:</th>       <td>296.340</td> <th>  Durbin-Watson:     </th> <td>   0.168</td>\n",
       "</tr>\n",
       "<tr>\n",
       "  <th>Prob(Omnibus):</th> <td> 0.000</td>  <th>  Jarque-Bera (JB):  </th> <td> 425.413</td>\n",
       "</tr>\n",
       "<tr>\n",
       "  <th>Skew:</th>          <td> 1.017</td>  <th>  Prob(JB):          </th> <td>4.20e-93</td>\n",
       "</tr>\n",
       "<tr>\n",
       "  <th>Kurtosis:</th>      <td> 3.708</td>  <th>  Cond. No.          </th> <td>    7.60</td>\n",
       "</tr>\n",
       "</table><br/><br/>Notes:<br/>[1] R² is computed without centering (uncentered) since the model does not contain a constant.<br/>[2] Standard Errors assume that the covariance matrix of the errors is correctly specified."
      ],
      "text/latex": [
       "\\begin{center}\n",
       "\\begin{tabular}{lclc}\n",
       "\\toprule\n",
       "\\textbf{Dep. Variable:}    &        P         & \\textbf{  R-squared (uncentered):}      &     0.670   \\\\\n",
       "\\textbf{Model:}            &       OLS        & \\textbf{  Adj. R-squared (uncentered):} &     0.669   \\\\\n",
       "\\textbf{Method:}           &  Least Squares   & \\textbf{  F-statistic:       }          &     1112.   \\\\\n",
       "\\textbf{Date:}             & Thu, 23 Nov 2023 & \\textbf{  Prob (F-statistic):}          &     0.00    \\\\\n",
       "\\textbf{Time:}             &     19:42:18     & \\textbf{  Log-Likelihood:    }          &   -11009.   \\\\\n",
       "\\textbf{No. Observations:} &        2200      & \\textbf{  AIC:               }          & 2.203e+04   \\\\\n",
       "\\textbf{Df Residuals:}     &        2196      & \\textbf{  BIC:               }          & 2.205e+04   \\\\\n",
       "\\textbf{Df Model:}         &           4      & \\textbf{                     }          &             \\\\\n",
       "\\textbf{Covariance Type:}  &    nonrobust     & \\textbf{                     }          &             \\\\\n",
       "\\bottomrule\n",
       "\\end{tabular}\n",
       "\\begin{tabular}{lcccccc}\n",
       "            & \\textbf{coef} & \\textbf{std err} & \\textbf{t} & \\textbf{P$> |$t$|$} & \\textbf{[0.025} & \\textbf{0.975]}  \\\\\n",
       "\\midrule\n",
       "\\textbf{x1} &      33.1977  &        4.654     &     7.133  &         0.000        &       24.070    &       42.325     \\\\\n",
       "\\textbf{x2} &       7.9238  &        2.906     &     2.727  &         0.006        &        2.225    &       13.623     \\\\\n",
       "\\textbf{x3} &      54.3737  &        4.622     &    11.763  &         0.000        &       45.309    &       63.438     \\\\\n",
       "\\textbf{x4} &      14.1103  &        3.740     &     3.772  &         0.000        &        6.775    &       21.445     \\\\\n",
       "\\bottomrule\n",
       "\\end{tabular}\n",
       "\\begin{tabular}{lclc}\n",
       "\\textbf{Omnibus:}       & 296.340 & \\textbf{  Durbin-Watson:     } &    0.168  \\\\\n",
       "\\textbf{Prob(Omnibus):} &   0.000 & \\textbf{  Jarque-Bera (JB):  } &  425.413  \\\\\n",
       "\\textbf{Skew:}          &   1.017 & \\textbf{  Prob(JB):          } & 4.20e-93  \\\\\n",
       "\\textbf{Kurtosis:}      &   3.708 & \\textbf{  Cond. No.          } &     7.60  \\\\\n",
       "\\bottomrule\n",
       "\\end{tabular}\n",
       "%\\caption{OLS Regression Results}\n",
       "\\end{center}\n",
       "\n",
       "Notes: \\newline\n",
       " [1] R² is computed without centering (uncentered) since the model does not contain a constant. \\newline\n",
       " [2] Standard Errors assume that the covariance matrix of the errors is correctly specified."
      ],
      "text/plain": [
       "<class 'statsmodels.iolib.summary.Summary'>\n",
       "\"\"\"\n",
       "                                 OLS Regression Results                                \n",
       "=======================================================================================\n",
       "Dep. Variable:                      P   R-squared (uncentered):                   0.670\n",
       "Model:                            OLS   Adj. R-squared (uncentered):              0.669\n",
       "Method:                 Least Squares   F-statistic:                              1112.\n",
       "Date:                Thu, 23 Nov 2023   Prob (F-statistic):                        0.00\n",
       "Time:                        19:42:18   Log-Likelihood:                         -11009.\n",
       "No. Observations:                2200   AIC:                                  2.203e+04\n",
       "Df Residuals:                    2196   BIC:                                  2.205e+04\n",
       "Df Model:                           4                                                  \n",
       "Covariance Type:            nonrobust                                                  \n",
       "==============================================================================\n",
       "                 coef    std err          t      P>|t|      [0.025      0.975]\n",
       "------------------------------------------------------------------------------\n",
       "x1            33.1977      4.654      7.133      0.000      24.070      42.325\n",
       "x2             7.9238      2.906      2.727      0.006       2.225      13.623\n",
       "x3            54.3737      4.622     11.763      0.000      45.309      63.438\n",
       "x4            14.1103      3.740      3.772      0.000       6.775      21.445\n",
       "==============================================================================\n",
       "Omnibus:                      296.340   Durbin-Watson:                   0.168\n",
       "Prob(Omnibus):                  0.000   Jarque-Bera (JB):              425.413\n",
       "Skew:                           1.017   Prob(JB):                     4.20e-93\n",
       "Kurtosis:                       3.708   Cond. No.                         7.60\n",
       "==============================================================================\n",
       "\n",
       "Notes:\n",
       "[1] R² is computed without centering (uncentered) since the model does not contain a constant.\n",
       "[2] Standard Errors assume that the covariance matrix of the errors is correctly specified.\n",
       "\"\"\""
      ]
     },
     "execution_count": 36,
     "metadata": {},
     "output_type": "execute_result"
    }
   ],
   "source": [
    "results_base_P.summary()"
   ]
  },
  {
   "cell_type": "code",
   "execution_count": 37,
   "metadata": {},
   "outputs": [
    {
     "data": {
      "text/html": [
       "<table class=\"simpletable\">\n",
       "<caption>OLS Regression Results</caption>\n",
       "<tr>\n",
       "  <th>Dep. Variable:</th>            <td>K</td>        <th>  R-squared (uncentered):</th>      <td>   0.482</td> \n",
       "</tr>\n",
       "<tr>\n",
       "  <th>Model:</th>                   <td>OLS</td>       <th>  Adj. R-squared (uncentered):</th> <td>   0.481</td> \n",
       "</tr>\n",
       "<tr>\n",
       "  <th>Method:</th>             <td>Least Squares</td>  <th>  F-statistic:       </th>          <td>   510.1</td> \n",
       "</tr>\n",
       "<tr>\n",
       "  <th>Date:</th>             <td>Thu, 23 Nov 2023</td> <th>  Prob (F-statistic):</th>          <td>2.54e-311</td>\n",
       "</tr>\n",
       "<tr>\n",
       "  <th>Time:</th>                 <td>19:42:18</td>     <th>  Log-Likelihood:    </th>          <td> -11742.</td> \n",
       "</tr>\n",
       "<tr>\n",
       "  <th>No. Observations:</th>      <td>  2200</td>      <th>  AIC:               </th>          <td>2.349e+04</td>\n",
       "</tr>\n",
       "<tr>\n",
       "  <th>Df Residuals:</th>          <td>  2196</td>      <th>  BIC:               </th>          <td>2.351e+04</td>\n",
       "</tr>\n",
       "<tr>\n",
       "  <th>Df Model:</th>              <td>     4</td>      <th>                     </th>              <td> </td>    \n",
       "</tr>\n",
       "<tr>\n",
       "  <th>Covariance Type:</th>      <td>nonrobust</td>    <th>                     </th>              <td> </td>    \n",
       "</tr>\n",
       "</table>\n",
       "<table class=\"simpletable\">\n",
       "<tr>\n",
       "   <td></td>     <th>coef</th>     <th>std err</th>      <th>t</th>      <th>P>|t|</th>  <th>[0.025</th>    <th>0.975]</th>  \n",
       "</tr>\n",
       "<tr>\n",
       "  <th>x1</th> <td>  -16.3615</td> <td>    6.493</td> <td>   -2.520</td> <td> 0.012</td> <td>  -29.095</td> <td>   -3.628</td>\n",
       "</tr>\n",
       "<tr>\n",
       "  <th>x2</th> <td>   66.8088</td> <td>    4.054</td> <td>   16.479</td> <td> 0.000</td> <td>   58.858</td> <td>   74.759</td>\n",
       "</tr>\n",
       "<tr>\n",
       "  <th>x3</th> <td>   18.5471</td> <td>    6.448</td> <td>    2.876</td> <td> 0.004</td> <td>    5.901</td> <td>   31.193</td>\n",
       "</tr>\n",
       "<tr>\n",
       "  <th>x4</th> <td>    0.3011</td> <td>    5.218</td> <td>    0.058</td> <td> 0.954</td> <td>   -9.932</td> <td>   10.534</td>\n",
       "</tr>\n",
       "</table>\n",
       "<table class=\"simpletable\">\n",
       "<tr>\n",
       "  <th>Omnibus:</th>       <td>786.423</td> <th>  Durbin-Watson:     </th> <td>   0.041</td>\n",
       "</tr>\n",
       "<tr>\n",
       "  <th>Prob(Omnibus):</th> <td> 0.000</td>  <th>  Jarque-Bera (JB):  </th> <td>2130.183</td>\n",
       "</tr>\n",
       "<tr>\n",
       "  <th>Skew:</th>          <td> 1.943</td>  <th>  Prob(JB):          </th> <td>    0.00</td>\n",
       "</tr>\n",
       "<tr>\n",
       "  <th>Kurtosis:</th>      <td> 5.853</td>  <th>  Cond. No.          </th> <td>    7.60</td>\n",
       "</tr>\n",
       "</table><br/><br/>Notes:<br/>[1] R² is computed without centering (uncentered) since the model does not contain a constant.<br/>[2] Standard Errors assume that the covariance matrix of the errors is correctly specified."
      ],
      "text/latex": [
       "\\begin{center}\n",
       "\\begin{tabular}{lclc}\n",
       "\\toprule\n",
       "\\textbf{Dep. Variable:}    &        K         & \\textbf{  R-squared (uncentered):}      &     0.482   \\\\\n",
       "\\textbf{Model:}            &       OLS        & \\textbf{  Adj. R-squared (uncentered):} &     0.481   \\\\\n",
       "\\textbf{Method:}           &  Least Squares   & \\textbf{  F-statistic:       }          &     510.1   \\\\\n",
       "\\textbf{Date:}             & Thu, 23 Nov 2023 & \\textbf{  Prob (F-statistic):}          & 2.54e-311   \\\\\n",
       "\\textbf{Time:}             &     19:42:18     & \\textbf{  Log-Likelihood:    }          &   -11742.   \\\\\n",
       "\\textbf{No. Observations:} &        2200      & \\textbf{  AIC:               }          & 2.349e+04   \\\\\n",
       "\\textbf{Df Residuals:}     &        2196      & \\textbf{  BIC:               }          & 2.351e+04   \\\\\n",
       "\\textbf{Df Model:}         &           4      & \\textbf{                     }          &             \\\\\n",
       "\\textbf{Covariance Type:}  &    nonrobust     & \\textbf{                     }          &             \\\\\n",
       "\\bottomrule\n",
       "\\end{tabular}\n",
       "\\begin{tabular}{lcccccc}\n",
       "            & \\textbf{coef} & \\textbf{std err} & \\textbf{t} & \\textbf{P$> |$t$|$} & \\textbf{[0.025} & \\textbf{0.975]}  \\\\\n",
       "\\midrule\n",
       "\\textbf{x1} &     -16.3615  &        6.493     &    -2.520  &         0.012        &      -29.095    &       -3.628     \\\\\n",
       "\\textbf{x2} &      66.8088  &        4.054     &    16.479  &         0.000        &       58.858    &       74.759     \\\\\n",
       "\\textbf{x3} &      18.5471  &        6.448     &     2.876  &         0.004        &        5.901    &       31.193     \\\\\n",
       "\\textbf{x4} &       0.3011  &        5.218     &     0.058  &         0.954        &       -9.932    &       10.534     \\\\\n",
       "\\bottomrule\n",
       "\\end{tabular}\n",
       "\\begin{tabular}{lclc}\n",
       "\\textbf{Omnibus:}       & 786.423 & \\textbf{  Durbin-Watson:     } &    0.041  \\\\\n",
       "\\textbf{Prob(Omnibus):} &   0.000 & \\textbf{  Jarque-Bera (JB):  } & 2130.183  \\\\\n",
       "\\textbf{Skew:}          &   1.943 & \\textbf{  Prob(JB):          } &     0.00  \\\\\n",
       "\\textbf{Kurtosis:}      &   5.853 & \\textbf{  Cond. No.          } &     7.60  \\\\\n",
       "\\bottomrule\n",
       "\\end{tabular}\n",
       "%\\caption{OLS Regression Results}\n",
       "\\end{center}\n",
       "\n",
       "Notes: \\newline\n",
       " [1] R² is computed without centering (uncentered) since the model does not contain a constant. \\newline\n",
       " [2] Standard Errors assume that the covariance matrix of the errors is correctly specified."
      ],
      "text/plain": [
       "<class 'statsmodels.iolib.summary.Summary'>\n",
       "\"\"\"\n",
       "                                 OLS Regression Results                                \n",
       "=======================================================================================\n",
       "Dep. Variable:                      K   R-squared (uncentered):                   0.482\n",
       "Model:                            OLS   Adj. R-squared (uncentered):              0.481\n",
       "Method:                 Least Squares   F-statistic:                              510.1\n",
       "Date:                Thu, 23 Nov 2023   Prob (F-statistic):                   2.54e-311\n",
       "Time:                        19:42:18   Log-Likelihood:                         -11742.\n",
       "No. Observations:                2200   AIC:                                  2.349e+04\n",
       "Df Residuals:                    2196   BIC:                                  2.351e+04\n",
       "Df Model:                           4                                                  \n",
       "Covariance Type:            nonrobust                                                  \n",
       "==============================================================================\n",
       "                 coef    std err          t      P>|t|      [0.025      0.975]\n",
       "------------------------------------------------------------------------------\n",
       "x1           -16.3615      6.493     -2.520      0.012     -29.095      -3.628\n",
       "x2            66.8088      4.054     16.479      0.000      58.858      74.759\n",
       "x3            18.5471      6.448      2.876      0.004       5.901      31.193\n",
       "x4             0.3011      5.218      0.058      0.954      -9.932      10.534\n",
       "==============================================================================\n",
       "Omnibus:                      786.423   Durbin-Watson:                   0.041\n",
       "Prob(Omnibus):                  0.000   Jarque-Bera (JB):             2130.183\n",
       "Skew:                           1.943   Prob(JB):                         0.00\n",
       "Kurtosis:                       5.853   Cond. No.                         7.60\n",
       "==============================================================================\n",
       "\n",
       "Notes:\n",
       "[1] R² is computed without centering (uncentered) since the model does not contain a constant.\n",
       "[2] Standard Errors assume that the covariance matrix of the errors is correctly specified.\n",
       "\"\"\""
      ]
     },
     "execution_count": 37,
     "metadata": {},
     "output_type": "execute_result"
    }
   ],
   "source": [
    "results_base_K.summary()"
   ]
  },
  {
   "cell_type": "markdown",
   "metadata": {},
   "source": [
    "### New Strategy"
   ]
  },
  {
   "cell_type": "markdown",
   "metadata": {},
   "source": [
    " ***** Explaining the new strategy *****\n",
    "\n",
    "The new strategy is based on making a prediction of one term N and then, the N predicted,\n",
    "becames a descriptive variable of P, and the P becames a descriptive of K.\\\n",
    "The idea here is to evaluate which target will become descriptive of the other."
   ]
  },
  {
   "cell_type": "code",
   "execution_count": 38,
   "metadata": {},
   "outputs": [
    {
     "data": {
      "image/png": "[encoded data removed]",
      "text/plain": [
       "<Figure size 640x480 with 3 Axes>"
      ]
     },
     "metadata": {},
     "output_type": "display_data"
    }
   ],
   "source": [
    "fig, axes = plt.subplots(3)\n",
    "axes[0].scatter(x=df_log[\"N\"], y=df_log[\"P\"])\n",
    "axes[1].scatter(x=df_log[\"N\"], y=df_log[\"K\"])\n",
    "axes[2].scatter(x=df_log[\"P\"], y=df_log[\"K\"])\n",
    "plt.show()"
   ]
  },
  {
   "cell_type": "markdown",
   "metadata": {},
   "source": [
    "#### Evaluating N"
   ]
  },
  {
   "cell_type": "code",
   "execution_count": 39,
   "metadata": {},
   "outputs": [],
   "source": [
    "cols_descriptive = [\"P\", \"temperature\", \"humidity\", \"ph\", \"rainfall\"]\n",
    "\n",
    "X = df_log.loc[:, cols_descriptive]\n",
    "y = df_log.loc[:, \"N\"]\n",
    "\n",
    "model_analysis_base_N = sm.OLS(y, X)\n",
    "\n",
    "results_base_N = model_analysis_base_N.fit()"
   ]
  },
  {
   "cell_type": "code",
   "execution_count": 40,
   "metadata": {},
   "outputs": [
    {
     "data": {
      "text/html": [
       "<table class=\"simpletable\">\n",
       "<caption>OLS Regression Results</caption>\n",
       "<tr>\n",
       "  <th>Dep. Variable:</th>            <td>N</td>        <th>  R-squared (uncentered):</th>      <td>   0.684</td> \n",
       "</tr>\n",
       "<tr>\n",
       "  <th>Model:</th>                   <td>OLS</td>       <th>  Adj. R-squared (uncentered):</th> <td>   0.684</td> \n",
       "</tr>\n",
       "<tr>\n",
       "  <th>Method:</th>             <td>Least Squares</td>  <th>  F-statistic:       </th>          <td>   952.3</td> \n",
       "</tr>\n",
       "<tr>\n",
       "  <th>Date:</th>             <td>Thu, 23 Nov 2023</td> <th>  Prob (F-statistic):</th>           <td>  0.00</td>  \n",
       "</tr>\n",
       "<tr>\n",
       "  <th>Time:</th>                 <td>19:42:18</td>     <th>  Log-Likelihood:    </th>          <td> -10953.</td> \n",
       "</tr>\n",
       "<tr>\n",
       "  <th>No. Observations:</th>      <td>  2200</td>      <th>  AIC:               </th>          <td>2.192e+04</td>\n",
       "</tr>\n",
       "<tr>\n",
       "  <th>Df Residuals:</th>          <td>  2195</td>      <th>  BIC:               </th>          <td>2.195e+04</td>\n",
       "</tr>\n",
       "<tr>\n",
       "  <th>Df Model:</th>              <td>     5</td>      <th>                     </th>              <td> </td>    \n",
       "</tr>\n",
       "<tr>\n",
       "  <th>Covariance Type:</th>      <td>nonrobust</td>    <th>                     </th>              <td> </td>    \n",
       "</tr>\n",
       "</table>\n",
       "<table class=\"simpletable\">\n",
       "<tr>\n",
       "       <td></td>          <th>coef</th>     <th>std err</th>      <th>t</th>      <th>P>|t|</th>  <th>[0.025</th>    <th>0.975]</th>  \n",
       "</tr>\n",
       "<tr>\n",
       "  <th>P</th>           <td>   -0.2343</td> <td>    0.023</td> <td>  -10.400</td> <td> 0.000</td> <td>   -0.279</td> <td>   -0.190</td>\n",
       "</tr>\n",
       "<tr>\n",
       "  <th>temperature</th> <td>   -6.7298</td> <td>    3.037</td> <td>   -2.216</td> <td> 0.027</td> <td>  -12.685</td> <td>   -0.774</td>\n",
       "</tr>\n",
       "<tr>\n",
       "  <th>humidity</th>    <td>   14.3856</td> <td>    1.691</td> <td>    8.506</td> <td> 0.000</td> <td>   11.069</td> <td>   17.702</td>\n",
       "</tr>\n",
       "<tr>\n",
       "  <th>ph</th>          <td>   17.9616</td> <td>    4.659</td> <td>    3.855</td> <td> 0.000</td> <td>    8.824</td> <td>   27.099</td>\n",
       "</tr>\n",
       "<tr>\n",
       "  <th>rainfall</th>    <td>   -1.9778</td> <td>    1.238</td> <td>   -1.597</td> <td> 0.110</td> <td>   -4.406</td> <td>    0.451</td>\n",
       "</tr>\n",
       "</table>\n",
       "<table class=\"simpletable\">\n",
       "<tr>\n",
       "  <th>Omnibus:</th>       <td>346.184</td> <th>  Durbin-Watson:     </th> <td>   0.255</td>\n",
       "</tr>\n",
       "<tr>\n",
       "  <th>Prob(Omnibus):</th> <td> 0.000</td>  <th>  Jarque-Bera (JB):  </th> <td> 102.233</td>\n",
       "</tr>\n",
       "<tr>\n",
       "  <th>Skew:</th>          <td> 0.261</td>  <th>  Prob(JB):          </th> <td>6.32e-23</td>\n",
       "</tr>\n",
       "<tr>\n",
       "  <th>Kurtosis:</th>      <td> 2.082</td>  <th>  Cond. No.          </th> <td>    427.</td>\n",
       "</tr>\n",
       "</table><br/><br/>Notes:<br/>[1] R² is computed without centering (uncentered) since the model does not contain a constant.<br/>[2] Standard Errors assume that the covariance matrix of the errors is correctly specified."
      ],
      "text/latex": [
       "\\begin{center}\n",
       "\\begin{tabular}{lclc}\n",
       "\\toprule\n",
       "\\textbf{Dep. Variable:}    &        N         & \\textbf{  R-squared (uncentered):}      &     0.684   \\\\\n",
       "\\textbf{Model:}            &       OLS        & \\textbf{  Adj. R-squared (uncentered):} &     0.684   \\\\\n",
       "\\textbf{Method:}           &  Least Squares   & \\textbf{  F-statistic:       }          &     952.3   \\\\\n",
       "\\textbf{Date:}             & Thu, 23 Nov 2023 & \\textbf{  Prob (F-statistic):}          &     0.00    \\\\\n",
       "\\textbf{Time:}             &     19:42:18     & \\textbf{  Log-Likelihood:    }          &   -10953.   \\\\\n",
       "\\textbf{No. Observations:} &        2200      & \\textbf{  AIC:               }          & 2.192e+04   \\\\\n",
       "\\textbf{Df Residuals:}     &        2195      & \\textbf{  BIC:               }          & 2.195e+04   \\\\\n",
       "\\textbf{Df Model:}         &           5      & \\textbf{                     }          &             \\\\\n",
       "\\textbf{Covariance Type:}  &    nonrobust     & \\textbf{                     }          &             \\\\\n",
       "\\bottomrule\n",
       "\\end{tabular}\n",
       "\\begin{tabular}{lcccccc}\n",
       "                     & \\textbf{coef} & \\textbf{std err} & \\textbf{t} & \\textbf{P$> |$t$|$} & \\textbf{[0.025} & \\textbf{0.975]}  \\\\\n",
       "\\midrule\n",
       "\\textbf{P}           &      -0.2343  &        0.023     &   -10.400  &         0.000        &       -0.279    &       -0.190     \\\\\n",
       "\\textbf{temperature} &      -6.7298  &        3.037     &    -2.216  &         0.027        &      -12.685    &       -0.774     \\\\\n",
       "\\textbf{humidity}    &      14.3856  &        1.691     &     8.506  &         0.000        &       11.069    &       17.702     \\\\\n",
       "\\textbf{ph}          &      17.9616  &        4.659     &     3.855  &         0.000        &        8.824    &       27.099     \\\\\n",
       "\\textbf{rainfall}    &      -1.9778  &        1.238     &    -1.597  &         0.110        &       -4.406    &        0.451     \\\\\n",
       "\\bottomrule\n",
       "\\end{tabular}\n",
       "\\begin{tabular}{lclc}\n",
       "\\textbf{Omnibus:}       & 346.184 & \\textbf{  Durbin-Watson:     } &    0.255  \\\\\n",
       "\\textbf{Prob(Omnibus):} &   0.000 & \\textbf{  Jarque-Bera (JB):  } &  102.233  \\\\\n",
       "\\textbf{Skew:}          &   0.261 & \\textbf{  Prob(JB):          } & 6.32e-23  \\\\\n",
       "\\textbf{Kurtosis:}      &   2.082 & \\textbf{  Cond. No.          } &     427.  \\\\\n",
       "\\bottomrule\n",
       "\\end{tabular}\n",
       "%\\caption{OLS Regression Results}\n",
       "\\end{center}\n",
       "\n",
       "Notes: \\newline\n",
       " [1] R² is computed without centering (uncentered) since the model does not contain a constant. \\newline\n",
       " [2] Standard Errors assume that the covariance matrix of the errors is correctly specified."
      ],
      "text/plain": [
       "<class 'statsmodels.iolib.summary.Summary'>\n",
       "\"\"\"\n",
       "                                 OLS Regression Results                                \n",
       "=======================================================================================\n",
       "Dep. Variable:                      N   R-squared (uncentered):                   0.684\n",
       "Model:                            OLS   Adj. R-squared (uncentered):              0.684\n",
       "Method:                 Least Squares   F-statistic:                              952.3\n",
       "Date:                Thu, 23 Nov 2023   Prob (F-statistic):                        0.00\n",
       "Time:                        19:42:18   Log-Likelihood:                         -10953.\n",
       "No. Observations:                2200   AIC:                                  2.192e+04\n",
       "Df Residuals:                    2195   BIC:                                  2.195e+04\n",
       "Df Model:                           5                                                  \n",
       "Covariance Type:            nonrobust                                                  \n",
       "===============================================================================\n",
       "                  coef    std err          t      P>|t|      [0.025      0.975]\n",
       "-------------------------------------------------------------------------------\n",
       "P              -0.2343      0.023    -10.400      0.000      -0.279      -0.190\n",
       "temperature    -6.7298      3.037     -2.216      0.027     -12.685      -0.774\n",
       "humidity       14.3856      1.691      8.506      0.000      11.069      17.702\n",
       "ph             17.9616      4.659      3.855      0.000       8.824      27.099\n",
       "rainfall       -1.9778      1.238     -1.597      0.110      -4.406       0.451\n",
       "==============================================================================\n",
       "Omnibus:                      346.184   Durbin-Watson:                   0.255\n",
       "Prob(Omnibus):                  0.000   Jarque-Bera (JB):              102.233\n",
       "Skew:                           0.261   Prob(JB):                     6.32e-23\n",
       "Kurtosis:                       2.082   Cond. No.                         427.\n",
       "==============================================================================\n",
       "\n",
       "Notes:\n",
       "[1] R² is computed without centering (uncentered) since the model does not contain a constant.\n",
       "[2] Standard Errors assume that the covariance matrix of the errors is correctly specified.\n",
       "\"\"\""
      ]
     },
     "execution_count": 40,
     "metadata": {},
     "output_type": "execute_result"
    }
   ],
   "source": [
    "results_base_N.summary()"
   ]
  },
  {
   "cell_type": "markdown",
   "metadata": {},
   "source": [
    "Clearly the prediction of N is well represented by all other variables and also P.\\\n",
    "In this case, K didn't have a good representation on the prediction"
   ]
  },
  {
   "cell_type": "markdown",
   "metadata": {},
   "source": [
    "#### Evaluating P"
   ]
  },
  {
   "cell_type": "code",
   "execution_count": 41,
   "metadata": {},
   "outputs": [
    {
     "data": {
      "text/html": [
       "<table class=\"simpletable\">\n",
       "<caption>OLS Regression Results</caption>\n",
       "<tr>\n",
       "  <th>Dep. Variable:</th>            <td>P</td>        <th>  R-squared (uncentered):</th>      <td>   0.718</td> \n",
       "</tr>\n",
       "<tr>\n",
       "  <th>Model:</th>                   <td>OLS</td>       <th>  Adj. R-squared (uncentered):</th> <td>   0.718</td> \n",
       "</tr>\n",
       "<tr>\n",
       "  <th>Method:</th>             <td>Least Squares</td>  <th>  F-statistic:       </th>          <td>   1399.</td> \n",
       "</tr>\n",
       "<tr>\n",
       "  <th>Date:</th>             <td>Thu, 23 Nov 2023</td> <th>  Prob (F-statistic):</th>           <td>  0.00</td>  \n",
       "</tr>\n",
       "<tr>\n",
       "  <th>Time:</th>                 <td>19:42:18</td>     <th>  Log-Likelihood:    </th>          <td> -10834.</td> \n",
       "</tr>\n",
       "<tr>\n",
       "  <th>No. Observations:</th>      <td>  2200</td>      <th>  AIC:               </th>          <td>2.168e+04</td>\n",
       "</tr>\n",
       "<tr>\n",
       "  <th>Df Residuals:</th>          <td>  2196</td>      <th>  BIC:               </th>          <td>2.170e+04</td>\n",
       "</tr>\n",
       "<tr>\n",
       "  <th>Df Model:</th>              <td>     4</td>      <th>                     </th>              <td> </td>    \n",
       "</tr>\n",
       "<tr>\n",
       "  <th>Covariance Type:</th>      <td>nonrobust</td>    <th>                     </th>              <td> </td>    \n",
       "</tr>\n",
       "</table>\n",
       "<table class=\"simpletable\">\n",
       "<tr>\n",
       "       <td></td>          <th>coef</th>     <th>std err</th>      <th>t</th>      <th>P>|t|</th>  <th>[0.025</th>    <th>0.975]</th>  \n",
       "</tr>\n",
       "<tr>\n",
       "  <th>temperature</th> <td>    3.6564</td> <td>    2.875</td> <td>    1.272</td> <td> 0.204</td> <td>   -1.981</td> <td>    9.294</td>\n",
       "</tr>\n",
       "<tr>\n",
       "  <th>humidity</th>    <td>   -2.4152</td> <td>    1.601</td> <td>   -1.509</td> <td> 0.131</td> <td>   -5.554</td> <td>    0.724</td>\n",
       "</tr>\n",
       "<tr>\n",
       "  <th>ph</th>          <td>   10.8995</td> <td>    4.406</td> <td>    2.474</td> <td> 0.013</td> <td>    2.259</td> <td>   19.540</td>\n",
       "</tr>\n",
       "<tr>\n",
       "  <th>rainfall</th>    <td>    6.9129</td> <td>    1.163</td> <td>    5.943</td> <td> 0.000</td> <td>    4.632</td> <td>    9.194</td>\n",
       "</tr>\n",
       "</table>\n",
       "<table class=\"simpletable\">\n",
       "<tr>\n",
       "  <th>Omnibus:</th>       <td>344.752</td> <th>  Durbin-Watson:     </th> <td>   0.128</td> \n",
       "</tr>\n",
       "<tr>\n",
       "  <th>Prob(Omnibus):</th> <td> 0.000</td>  <th>  Jarque-Bera (JB):  </th> <td> 533.228</td> \n",
       "</tr>\n",
       "<tr>\n",
       "  <th>Skew:</th>          <td> 1.092</td>  <th>  Prob(JB):          </th> <td>1.63e-116</td>\n",
       "</tr>\n",
       "<tr>\n",
       "  <th>Kurtosis:</th>      <td> 4.025</td>  <th>  Cond. No.          </th> <td>    48.8</td> \n",
       "</tr>\n",
       "</table><br/><br/>Notes:<br/>[1] R² is computed without centering (uncentered) since the model does not contain a constant.<br/>[2] Standard Errors assume that the covariance matrix of the errors is correctly specified."
      ],
      "text/latex": [
       "\\begin{center}\n",
       "\\begin{tabular}{lclc}\n",
       "\\toprule\n",
       "\\textbf{Dep. Variable:}    &        P         & \\textbf{  R-squared (uncentered):}      &     0.718   \\\\\n",
       "\\textbf{Model:}            &       OLS        & \\textbf{  Adj. R-squared (uncentered):} &     0.718   \\\\\n",
       "\\textbf{Method:}           &  Least Squares   & \\textbf{  F-statistic:       }          &     1399.   \\\\\n",
       "\\textbf{Date:}             & Thu, 23 Nov 2023 & \\textbf{  Prob (F-statistic):}          &     0.00    \\\\\n",
       "\\textbf{Time:}             &     19:42:18     & \\textbf{  Log-Likelihood:    }          &   -10834.   \\\\\n",
       "\\textbf{No. Observations:} &        2200      & \\textbf{  AIC:               }          & 2.168e+04   \\\\\n",
       "\\textbf{Df Residuals:}     &        2196      & \\textbf{  BIC:               }          & 2.170e+04   \\\\\n",
       "\\textbf{Df Model:}         &           4      & \\textbf{                     }          &             \\\\\n",
       "\\textbf{Covariance Type:}  &    nonrobust     & \\textbf{                     }          &             \\\\\n",
       "\\bottomrule\n",
       "\\end{tabular}\n",
       "\\begin{tabular}{lcccccc}\n",
       "                     & \\textbf{coef} & \\textbf{std err} & \\textbf{t} & \\textbf{P$> |$t$|$} & \\textbf{[0.025} & \\textbf{0.975]}  \\\\\n",
       "\\midrule\n",
       "\\textbf{temperature} &       3.6564  &        2.875     &     1.272  &         0.204        &       -1.981    &        9.294     \\\\\n",
       "\\textbf{humidity}    &      -2.4152  &        1.601     &    -1.509  &         0.131        &       -5.554    &        0.724     \\\\\n",
       "\\textbf{ph}          &      10.8995  &        4.406     &     2.474  &         0.013        &        2.259    &       19.540     \\\\\n",
       "\\textbf{rainfall}    &       6.9129  &        1.163     &     5.943  &         0.000        &        4.632    &        9.194     \\\\\n",
       "\\bottomrule\n",
       "\\end{tabular}\n",
       "\\begin{tabular}{lclc}\n",
       "\\textbf{Omnibus:}       & 344.752 & \\textbf{  Durbin-Watson:     } &     0.128  \\\\\n",
       "\\textbf{Prob(Omnibus):} &   0.000 & \\textbf{  Jarque-Bera (JB):  } &   533.228  \\\\\n",
       "\\textbf{Skew:}          &   1.092 & \\textbf{  Prob(JB):          } & 1.63e-116  \\\\\n",
       "\\textbf{Kurtosis:}      &   4.025 & \\textbf{  Cond. No.          } &      48.8  \\\\\n",
       "\\bottomrule\n",
       "\\end{tabular}\n",
       "%\\caption{OLS Regression Results}\n",
       "\\end{center}\n",
       "\n",
       "Notes: \\newline\n",
       " [1] R² is computed without centering (uncentered) since the model does not contain a constant. \\newline\n",
       " [2] Standard Errors assume that the covariance matrix of the errors is correctly specified."
      ],
      "text/plain": [
       "<class 'statsmodels.iolib.summary.Summary'>\n",
       "\"\"\"\n",
       "                                 OLS Regression Results                                \n",
       "=======================================================================================\n",
       "Dep. Variable:                      P   R-squared (uncentered):                   0.718\n",
       "Model:                            OLS   Adj. R-squared (uncentered):              0.718\n",
       "Method:                 Least Squares   F-statistic:                              1399.\n",
       "Date:                Thu, 23 Nov 2023   Prob (F-statistic):                        0.00\n",
       "Time:                        19:42:18   Log-Likelihood:                         -10834.\n",
       "No. Observations:                2200   AIC:                                  2.168e+04\n",
       "Df Residuals:                    2196   BIC:                                  2.170e+04\n",
       "Df Model:                           4                                                  \n",
       "Covariance Type:            nonrobust                                                  \n",
       "===============================================================================\n",
       "                  coef    std err          t      P>|t|      [0.025      0.975]\n",
       "-------------------------------------------------------------------------------\n",
       "temperature     3.6564      2.875      1.272      0.204      -1.981       9.294\n",
       "humidity       -2.4152      1.601     -1.509      0.131      -5.554       0.724\n",
       "ph             10.8995      4.406      2.474      0.013       2.259      19.540\n",
       "rainfall        6.9129      1.163      5.943      0.000       4.632       9.194\n",
       "==============================================================================\n",
       "Omnibus:                      344.752   Durbin-Watson:                   0.128\n",
       "Prob(Omnibus):                  0.000   Jarque-Bera (JB):              533.228\n",
       "Skew:                           1.092   Prob(JB):                    1.63e-116\n",
       "Kurtosis:                       4.025   Cond. No.                         48.8\n",
       "==============================================================================\n",
       "\n",
       "Notes:\n",
       "[1] R² is computed without centering (uncentered) since the model does not contain a constant.\n",
       "[2] Standard Errors assume that the covariance matrix of the errors is correctly specified.\n",
       "\"\"\""
      ]
     },
     "execution_count": 41,
     "metadata": {},
     "output_type": "execute_result"
    }
   ],
   "source": [
    "cols_descriptive = [\"temperature\", \"humidity\", \"ph\", \"rainfall\"]\n",
    "\n",
    "X = df_log.loc[:, cols_descriptive]\n",
    "y = df_log.loc[:, \"P\"]\n",
    "\n",
    "model_analysis_base_P = sm.OLS(y, X)\n",
    "\n",
    "results_base_P = model_analysis_base_P.fit()\n",
    "\n",
    "results_base_P.summary()"
   ]
  },
  {
   "cell_type": "markdown",
   "metadata": {},
   "source": [
    "N's coefient is very low, eventhough it had a small P-value.\\\n",
    "In this case, as N depends on P already, I'll takie N from the prediction of P, to avoid circular reference"
   ]
  },
  {
   "cell_type": "markdown",
   "metadata": {},
   "source": [
    "Taking N out of the model didn't have great impact on model's performance."
   ]
  },
  {
   "cell_type": "markdown",
   "metadata": {},
   "source": [
    "#### Evaluating K"
   ]
  },
  {
   "cell_type": "code",
   "execution_count": 42,
   "metadata": {},
   "outputs": [
    {
     "data": {
      "text/html": [
       "<table class=\"simpletable\">\n",
       "<caption>OLS Regression Results</caption>\n",
       "<tr>\n",
       "  <th>Dep. Variable:</th>            <td>K</td>        <th>  R-squared (uncentered):</th>      <td>   0.795</td> \n",
       "</tr>\n",
       "<tr>\n",
       "  <th>Model:</th>                   <td>OLS</td>       <th>  Adj. R-squared (uncentered):</th> <td>   0.795</td> \n",
       "</tr>\n",
       "<tr>\n",
       "  <th>Method:</th>             <td>Least Squares</td>  <th>  F-statistic:       </th>          <td>   1707.</td> \n",
       "</tr>\n",
       "<tr>\n",
       "  <th>Date:</th>             <td>Thu, 23 Nov 2023</td> <th>  Prob (F-statistic):</th>           <td>  0.00</td>  \n",
       "</tr>\n",
       "<tr>\n",
       "  <th>Time:</th>                 <td>19:42:18</td>     <th>  Log-Likelihood:    </th>          <td> -10719.</td> \n",
       "</tr>\n",
       "<tr>\n",
       "  <th>No. Observations:</th>      <td>  2200</td>      <th>  AIC:               </th>          <td>2.145e+04</td>\n",
       "</tr>\n",
       "<tr>\n",
       "  <th>Df Residuals:</th>          <td>  2195</td>      <th>  BIC:               </th>          <td>2.148e+04</td>\n",
       "</tr>\n",
       "<tr>\n",
       "  <th>Df Model:</th>              <td>     5</td>      <th>                     </th>              <td> </td>    \n",
       "</tr>\n",
       "<tr>\n",
       "  <th>Covariance Type:</th>      <td>nonrobust</td>    <th>                     </th>              <td> </td>    \n",
       "</tr>\n",
       "</table>\n",
       "<table class=\"simpletable\">\n",
       "<tr>\n",
       "       <td></td>          <th>coef</th>     <th>std err</th>      <th>t</th>      <th>P>|t|</th>  <th>[0.025</th>    <th>0.975]</th>  \n",
       "</tr>\n",
       "<tr>\n",
       "  <th>P</th>           <td>    1.1478</td> <td>    0.020</td> <td>   56.675</td> <td> 0.000</td> <td>    1.108</td> <td>    1.188</td>\n",
       "</tr>\n",
       "<tr>\n",
       "  <th>temperature</th> <td>  -30.1034</td> <td>    2.729</td> <td>  -11.029</td> <td> 0.000</td> <td>  -35.456</td> <td>  -24.751</td>\n",
       "</tr>\n",
       "<tr>\n",
       "  <th>humidity</th>    <td>   29.3831</td> <td>    1.520</td> <td>   19.332</td> <td> 0.000</td> <td>   26.402</td> <td>   32.364</td>\n",
       "</tr>\n",
       "<tr>\n",
       "  <th>ph</th>          <td>  -14.8270</td> <td>    4.188</td> <td>   -3.541</td> <td> 0.000</td> <td>  -23.039</td> <td>   -6.615</td>\n",
       "</tr>\n",
       "<tr>\n",
       "  <th>rainfall</th>    <td>   -2.6135</td> <td>    1.113</td> <td>   -2.348</td> <td> 0.019</td> <td>   -4.796</td> <td>   -0.431</td>\n",
       "</tr>\n",
       "</table>\n",
       "<table class=\"simpletable\">\n",
       "<tr>\n",
       "  <th>Omnibus:</th>       <td>373.036</td> <th>  Durbin-Watson:     </th> <td>   0.233</td>\n",
       "</tr>\n",
       "<tr>\n",
       "  <th>Prob(Omnibus):</th> <td> 0.000</td>  <th>  Jarque-Bera (JB):  </th> <td>  95.822</td>\n",
       "</tr>\n",
       "<tr>\n",
       "  <th>Skew:</th>          <td> 0.202</td>  <th>  Prob(JB):          </th> <td>1.56e-21</td>\n",
       "</tr>\n",
       "<tr>\n",
       "  <th>Kurtosis:</th>      <td> 2.061</td>  <th>  Cond. No.          </th> <td>    427.</td>\n",
       "</tr>\n",
       "</table><br/><br/>Notes:<br/>[1] R² is computed without centering (uncentered) since the model does not contain a constant.<br/>[2] Standard Errors assume that the covariance matrix of the errors is correctly specified."
      ],
      "text/latex": [
       "\\begin{center}\n",
       "\\begin{tabular}{lclc}\n",
       "\\toprule\n",
       "\\textbf{Dep. Variable:}    &        K         & \\textbf{  R-squared (uncentered):}      &     0.795   \\\\\n",
       "\\textbf{Model:}            &       OLS        & \\textbf{  Adj. R-squared (uncentered):} &     0.795   \\\\\n",
       "\\textbf{Method:}           &  Least Squares   & \\textbf{  F-statistic:       }          &     1707.   \\\\\n",
       "\\textbf{Date:}             & Thu, 23 Nov 2023 & \\textbf{  Prob (F-statistic):}          &     0.00    \\\\\n",
       "\\textbf{Time:}             &     19:42:18     & \\textbf{  Log-Likelihood:    }          &   -10719.   \\\\\n",
       "\\textbf{No. Observations:} &        2200      & \\textbf{  AIC:               }          & 2.145e+04   \\\\\n",
       "\\textbf{Df Residuals:}     &        2195      & \\textbf{  BIC:               }          & 2.148e+04   \\\\\n",
       "\\textbf{Df Model:}         &           5      & \\textbf{                     }          &             \\\\\n",
       "\\textbf{Covariance Type:}  &    nonrobust     & \\textbf{                     }          &             \\\\\n",
       "\\bottomrule\n",
       "\\end{tabular}\n",
       "\\begin{tabular}{lcccccc}\n",
       "                     & \\textbf{coef} & \\textbf{std err} & \\textbf{t} & \\textbf{P$> |$t$|$} & \\textbf{[0.025} & \\textbf{0.975]}  \\\\\n",
       "\\midrule\n",
       "\\textbf{P}           &       1.1478  &        0.020     &    56.675  &         0.000        &        1.108    &        1.188     \\\\\n",
       "\\textbf{temperature} &     -30.1034  &        2.729     &   -11.029  &         0.000        &      -35.456    &      -24.751     \\\\\n",
       "\\textbf{humidity}    &      29.3831  &        1.520     &    19.332  &         0.000        &       26.402    &       32.364     \\\\\n",
       "\\textbf{ph}          &     -14.8270  &        4.188     &    -3.541  &         0.000        &      -23.039    &       -6.615     \\\\\n",
       "\\textbf{rainfall}    &      -2.6135  &        1.113     &    -2.348  &         0.019        &       -4.796    &       -0.431     \\\\\n",
       "\\bottomrule\n",
       "\\end{tabular}\n",
       "\\begin{tabular}{lclc}\n",
       "\\textbf{Omnibus:}       & 373.036 & \\textbf{  Durbin-Watson:     } &    0.233  \\\\\n",
       "\\textbf{Prob(Omnibus):} &   0.000 & \\textbf{  Jarque-Bera (JB):  } &   95.822  \\\\\n",
       "\\textbf{Skew:}          &   0.202 & \\textbf{  Prob(JB):          } & 1.56e-21  \\\\\n",
       "\\textbf{Kurtosis:}      &   2.061 & \\textbf{  Cond. No.          } &     427.  \\\\\n",
       "\\bottomrule\n",
       "\\end{tabular}\n",
       "%\\caption{OLS Regression Results}\n",
       "\\end{center}\n",
       "\n",
       "Notes: \\newline\n",
       " [1] R² is computed without centering (uncentered) since the model does not contain a constant. \\newline\n",
       " [2] Standard Errors assume that the covariance matrix of the errors is correctly specified."
      ],
      "text/plain": [
       "<class 'statsmodels.iolib.summary.Summary'>\n",
       "\"\"\"\n",
       "                                 OLS Regression Results                                \n",
       "=======================================================================================\n",
       "Dep. Variable:                      K   R-squared (uncentered):                   0.795\n",
       "Model:                            OLS   Adj. R-squared (uncentered):              0.795\n",
       "Method:                 Least Squares   F-statistic:                              1707.\n",
       "Date:                Thu, 23 Nov 2023   Prob (F-statistic):                        0.00\n",
       "Time:                        19:42:18   Log-Likelihood:                         -10719.\n",
       "No. Observations:                2200   AIC:                                  2.145e+04\n",
       "Df Residuals:                    2195   BIC:                                  2.148e+04\n",
       "Df Model:                           5                                                  \n",
       "Covariance Type:            nonrobust                                                  \n",
       "===============================================================================\n",
       "                  coef    std err          t      P>|t|      [0.025      0.975]\n",
       "-------------------------------------------------------------------------------\n",
       "P               1.1478      0.020     56.675      0.000       1.108       1.188\n",
       "temperature   -30.1034      2.729    -11.029      0.000     -35.456     -24.751\n",
       "humidity       29.3831      1.520     19.332      0.000      26.402      32.364\n",
       "ph            -14.8270      4.188     -3.541      0.000     -23.039      -6.615\n",
       "rainfall       -2.6135      1.113     -2.348      0.019      -4.796      -0.431\n",
       "==============================================================================\n",
       "Omnibus:                      373.036   Durbin-Watson:                   0.233\n",
       "Prob(Omnibus):                  0.000   Jarque-Bera (JB):               95.822\n",
       "Skew:                           0.202   Prob(JB):                     1.56e-21\n",
       "Kurtosis:                       2.061   Cond. No.                         427.\n",
       "==============================================================================\n",
       "\n",
       "Notes:\n",
       "[1] R² is computed without centering (uncentered) since the model does not contain a constant.\n",
       "[2] Standard Errors assume that the covariance matrix of the errors is correctly specified.\n",
       "\"\"\""
      ]
     },
     "execution_count": 42,
     "metadata": {},
     "output_type": "execute_result"
    }
   ],
   "source": [
    "cols_descriptive = [\"P\", \"temperature\", \"humidity\", \"ph\", \"rainfall\"]\n",
    "\n",
    "X = df_log.loc[:, cols_descriptive]\n",
    "y = df_log.loc[:, \"K\"]\n",
    "\n",
    "model_analysis_base_P = sm.OLS(y, X)\n",
    "\n",
    "results_base_P = model_analysis_base_P.fit()\n",
    "\n",
    "results_base_P.summary()"
   ]
  },
  {
   "cell_type": "markdown",
   "metadata": {},
   "source": [
    "The representativeness of N for predicting K, was not good. So we can take it out of the model"
   ]
  },
  {
   "cell_type": "markdown",
   "metadata": {},
   "source": [
    "### Conclusion of Evaluation"
   ]
  },
  {
   "cell_type": "markdown",
   "metadata": {},
   "source": [
    "For this model, the first target to be predicet will be P (Phosphate), which will predict both other variables (K (Potassium), N (Nitrate)) "
   ]
  },
  {
   "cell_type": "markdown",
   "metadata": {},
   "source": [
    "## Creating Models - P"
   ]
  },
  {
   "cell_type": "markdown",
   "metadata": {},
   "source": [
    "### Separating Data for P"
   ]
  },
  {
   "cell_type": "code",
   "execution_count": 43,
   "metadata": {},
   "outputs": [],
   "source": [
    "cols_descriptive = [\"temperature\", \"humidity\", \"ph\", \"rainfall\"]\n",
    "\n",
    "X_p = df_log.loc[:, cols_descriptive]\n",
    "y_p = df_log.loc[:, \"P\"]\n",
    "\n",
    "X_train, X_test, y_train, y_test = train_test_split(X_p, y_p, test_size=0.2)"
   ]
  },
  {
   "cell_type": "markdown",
   "metadata": {},
   "source": [
    "### Linear Regression"
   ]
  },
  {
   "cell_type": "code",
   "execution_count": 44,
   "metadata": {},
   "outputs": [
    {
     "name": "stdout",
     "output_type": "stream",
     "text": [
      "0.05193111369377279\n",
      "0.0520308548272147\n"
     ]
    }
   ],
   "source": [
    "model_lr_P_v01 = LinearRegression()\n",
    "model_lr_P_v01.fit(X_train, y_train)\n",
    "\n",
    "result_lr_P_v01_train = model_lr_P_v01.predict(X_train)\n",
    "result_lr_P_v01_test = model_lr_P_v01.predict(X_test)\n",
    "\n",
    "print(r2_score(y_train, result_lr_P_v01_train))\n",
    "print(r2_score(y_test, result_lr_P_v01_test))"
   ]
  },
  {
   "cell_type": "code",
   "execution_count": 45,
   "metadata": {},
   "outputs": [
    {
     "name": "stdout",
     "output_type": "stream",
     "text": [
      "-0.019981875629026202\n",
      "-0.01929021382990137\n"
     ]
    }
   ],
   "source": [
    "model_lr_P_v02 = sm.OLS(y_p, X_p)\n",
    "model_lr_P_v02 = model_lr_P_v02.fit()\n",
    "\n",
    "result_lr_P_v02_train = model_lr_P_v02.predict(X_train)\n",
    "result_lr_P_v02_test = model_lr_P_v02.predict(X_test)\n",
    "\n",
    "print(r2_score(y_train, result_lr_P_v02_train))\n",
    "print(r2_score(y_test, result_lr_P_v02_test))"
   ]
  },
  {
   "cell_type": "markdown",
   "metadata": {},
   "source": [
    "On the assumption that the model is not linear, we didn't have a good performance with linear models.\\\n",
    "Let's continue with non Linear models"
   ]
  },
  {
   "cell_type": "markdown",
   "metadata": {},
   "source": [
    "### Decision Tree Regression"
   ]
  },
  {
   "cell_type": "code",
   "execution_count": 46,
   "metadata": {},
   "outputs": [
    {
     "name": "stdout",
     "output_type": "stream",
     "text": [
      "Training Performance: 1.0\n",
      "Test Performance: 0.6633648916244606\n"
     ]
    }
   ],
   "source": [
    "model_dtr_P_v01 = DecisionTreeRegressor()\n",
    "model_dtr_P_v01.fit(X_train, y_train)\n",
    "\n",
    "result_dtr_P_v01_train = model_dtr_P_v01.predict(X_train)\n",
    "result_dtr_P_v01_test = model_dtr_P_v01.predict(X_test)\n",
    "\n",
    "r2_treino = r2_score(y_train, result_dtr_P_v01_train)\n",
    "r2_teste = r2_score(y_test, result_dtr_P_v01_test)\n",
    "\n",
    "print(f\"Training Performance: {r2_treino}\")\n",
    "print(f\"Test Performance: {r2_teste}\")"
   ]
  },
  {
   "cell_type": "code",
   "execution_count": 47,
   "metadata": {},
   "outputs": [
    {
     "name": "stdout",
     "output_type": "stream",
     "text": [
      "Training Performance: 0.6781729273515815\n",
      "Test Performance: 0.5860001840527869\n"
     ]
    }
   ],
   "source": [
    "model_dtr_P_v02 = DecisionTreeRegressor(max_depth=5)\n",
    "model_dtr_P_v02.fit(X_train, y_train)\n",
    "\n",
    "result_dtr_P_v02_train = model_dtr_P_v02.predict(X_train)\n",
    "result_dtr_P_v02_test = model_dtr_P_v02.predict(X_test)\n",
    "\n",
    "r2_treino = r2_score(y_train, result_dtr_P_v02_train)\n",
    "r2_teste = r2_score(y_test, result_dtr_P_v02_test)\n",
    "\n",
    "print(f\"Training Performance: {r2_treino}\")\n",
    "print(f\"Test Performance: {r2_teste}\")"
   ]
  },
  {
   "cell_type": "code",
   "execution_count": 48,
   "metadata": {},
   "outputs": [
    {
     "name": "stdout",
     "output_type": "stream",
     "text": [
      "Training Performance: 0.9961302405387803\n",
      "Test Performance: 0.5814120879877609\n"
     ]
    }
   ],
   "source": [
    "model_dtr_P_v03 = DecisionTreeRegressor(max_depth=15)\n",
    "model_dtr_P_v03.fit(X_train, y_train)\n",
    "\n",
    "result_dtr_P_v03_train = model_dtr_P_v03.predict(X_train)\n",
    "result_dtr_P_v03_test = model_dtr_P_v03.predict(X_test)\n",
    "\n",
    "r2_treino = r2_score(y_train, result_dtr_P_v03_train)\n",
    "r2_teste = r2_score(y_test, result_dtr_P_v03_test)\n",
    "\n",
    "print(f\"Training Performance: {r2_treino}\")\n",
    "print(f\"Test Performance: {r2_teste}\")"
   ]
  },
  {
   "cell_type": "code",
   "execution_count": 49,
   "metadata": {},
   "outputs": [
    {
     "name": "stdout",
     "output_type": "stream",
     "text": [
      "Training Performance: 0.9311337022075608\n",
      "Test Performance: 0.691088606585446\n"
     ]
    }
   ],
   "source": [
    "model_dtr_P_v04 = DecisionTreeRegressor(max_depth=15, min_samples_leaf=3) # The min samples leaf default is 2. I'll increase it to 3 and see what happens\n",
    "model_dtr_P_v04.fit(X_train, y_train)\n",
    "\n",
    "result_dtr_P_v04_train = model_dtr_P_v04.predict(X_train)\n",
    "result_dtr_P_v04_test = model_dtr_P_v04.predict(X_test)\n",
    "\n",
    "r2_treino = r2_score(y_train, result_dtr_P_v04_train)\n",
    "r2_teste = r2_score(y_test, result_dtr_P_v04_test)\n",
    "\n",
    "print(f\"Training Performance: {r2_treino}\")\n",
    "print(f\"Test Performance: {r2_teste}\")\n",
    "\n",
    "# great achieviment increasing min_samples_leaf"
   ]
  },
  {
   "cell_type": "code",
   "execution_count": 50,
   "metadata": {},
   "outputs": [
    {
     "name": "stdout",
     "output_type": "stream",
     "text": [
      "Training Performance: 0.848762493274168\n",
      "Test Performance: 0.7040270301026272\n"
     ]
    }
   ],
   "source": [
    "model_dtr_P_v05 = DecisionTreeRegressor(max_depth=15, min_samples_leaf=10)\n",
    "model_dtr_P_v05.fit(X_train, y_train)\n",
    "\n",
    "result_dtr_P_v05_train = model_dtr_P_v05.predict(X_train)\n",
    "result_dtr_P_v05_test = model_dtr_P_v05.predict(X_test)\n",
    "\n",
    "r2_treino = r2_score(y_train, result_dtr_P_v05_train)\n",
    "r2_teste = r2_score(y_test, result_dtr_P_v05_test)\n",
    "\n",
    "print(f\"Training Performance: {r2_treino}\")\n",
    "print(f\"Test Performance: {r2_teste}\")"
   ]
  },
  {
   "cell_type": "markdown",
   "metadata": {},
   "source": [
    "Best model was Version 5"
   ]
  },
  {
   "cell_type": "markdown",
   "metadata": {},
   "source": [
    "### Random Forest Regressor"
   ]
  },
  {
   "cell_type": "code",
   "execution_count": 51,
   "metadata": {},
   "outputs": [
    {
     "name": "stdout",
     "output_type": "stream",
     "text": [
      "Training Performance: 0.9715765718741266\n",
      "Test Performance: 0.7815390352651127\n"
     ]
    }
   ],
   "source": [
    "model_rfr_P_v01 = RandomForestRegressor()\n",
    "model_rfr_P_v01.fit(X_train, y_train)\n",
    "\n",
    "result_rfr_P_v01_train = model_rfr_P_v01.predict(X_train)\n",
    "result_rfr_P_v01_test = model_rfr_P_v01.predict(X_test)\n",
    "\n",
    "r2_treino = r2_score(y_train, result_rfr_P_v01_train)\n",
    "r2_teste = r2_score(y_test, result_rfr_P_v01_test)\n",
    "\n",
    "print(f\"Training Performance: {r2_treino}\")\n",
    "print(f\"Test Performance: {r2_teste}\")"
   ]
  },
  {
   "cell_type": "code",
   "execution_count": 52,
   "metadata": {},
   "outputs": [
    {
     "name": "stdout",
     "output_type": "stream",
     "text": [
      "Training Performance: 0.9707671102181851\n",
      "Test Performance: 0.7732796409187399\n"
     ]
    }
   ],
   "source": [
    "model_rfr_P_v02 = RandomForestRegressor(n_estimators=80)\n",
    "# with 80 estimator, the model runs faster, and doesn't lose much performance\n",
    "model_rfr_P_v02.fit(X_train, y_train)\n",
    "\n",
    "result_rfr_P_v02_train = model_rfr_P_v02.predict(X_train)\n",
    "result_rfr_P_v02_test = model_rfr_P_v02.predict(X_test)\n",
    "\n",
    "r2_treino = r2_score(y_train, result_rfr_P_v02_train)\n",
    "r2_teste = r2_score(y_test, result_rfr_P_v02_test)\n",
    "\n",
    "print(f\"Training Performance: {r2_treino}\")\n",
    "print(f\"Test Performance: {r2_teste}\")"
   ]
  },
  {
   "cell_type": "code",
   "execution_count": 53,
   "metadata": {},
   "outputs": [
    {
     "name": "stdout",
     "output_type": "stream",
     "text": [
      "Training Performance: 0.9717962036936536\n",
      "Test Performance: 0.7787856145004733\n"
     ]
    }
   ],
   "source": [
    "model_rfr_P_v03 = RandomForestRegressor(n_estimators=80, max_depth=30)\n",
    "# with 80 estimator, the model runs faster, and doesn't lose much performance\n",
    "model_rfr_P_v03.fit(X_train, y_train)\n",
    "\n",
    "result_rfr_P_v03_train = model_rfr_P_v03.predict(X_train)\n",
    "result_rfr_P_v03_test = model_rfr_P_v03.predict(X_test)\n",
    "\n",
    "r2_treino = r2_score(y_train, result_rfr_P_v03_train)\n",
    "r2_teste = r2_score(y_test, result_rfr_P_v03_test)\n",
    "\n",
    "print(f\"Training Performance: {r2_treino}\")\n",
    "print(f\"Test Performance: {r2_teste}\")"
   ]
  },
  {
   "cell_type": "code",
   "execution_count": 54,
   "metadata": {},
   "outputs": [
    {
     "name": "stdout",
     "output_type": "stream",
     "text": [
      "Training Performance: 0.969788243219736\n",
      "Test Performance: 0.7721446177825487\n"
     ]
    }
   ],
   "source": [
    "model_rfr_P_v04 = RandomForestRegressor(n_estimators=80, max_depth=50)\n",
    "# with 80 estimator, the model runs faster, and doesn't lose much performance\n",
    "model_rfr_P_v04.fit(X_train, y_train)\n",
    "\n",
    "result_rfr_P_v04_train = model_rfr_P_v04.predict(X_train)\n",
    "result_rfr_P_v04_test = model_rfr_P_v04.predict(X_test)\n",
    "\n",
    "r2_treino = r2_score(y_train, result_rfr_P_v04_train)\n",
    "r2_teste = r2_score(y_test, result_rfr_P_v04_test)\n",
    "\n",
    "print(f\"Training Performance: {r2_treino}\")\n",
    "print(f\"Test Performance: {r2_teste}\")"
   ]
  },
  {
   "cell_type": "code",
   "execution_count": 55,
   "metadata": {},
   "outputs": [
    {
     "name": "stdout",
     "output_type": "stream",
     "text": [
      "Training Performance: 0.8394227522270925\n",
      "Test Performance: 0.726390777509359\n"
     ]
    }
   ],
   "source": [
    "model_rfr_P_v05 = RandomForestRegressor(n_estimators=80, max_depth=50, min_samples_leaf=10)\n",
    "# with 80 estimator, the model runs faster, and doesn't lose much performance\n",
    "model_rfr_P_v05.fit(X_train, y_train)\n",
    "\n",
    "result_rfr_P_v05_train = model_rfr_P_v05.predict(X_train)\n",
    "result_rfr_P_v05_test = model_rfr_P_v05.predict(X_test)\n",
    "\n",
    "r2_treino = r2_score(y_train, result_rfr_P_v05_train)\n",
    "r2_teste = r2_score(y_test, result_rfr_P_v05_test)\n",
    "\n",
    "print(f\"Training Performance: {r2_treino}\")\n",
    "print(f\"Test Performance: {r2_teste}\")"
   ]
  },
  {
   "cell_type": "markdown",
   "metadata": {},
   "source": [
    "Best model was Version 01"
   ]
  },
  {
   "cell_type": "markdown",
   "metadata": {},
   "source": [
    "### XGBoost Regressor"
   ]
  },
  {
   "cell_type": "code",
   "execution_count": 56,
   "metadata": {},
   "outputs": [
    {
     "name": "stdout",
     "output_type": "stream",
     "text": [
      "Training Performance: 0.9916177936110798\n",
      "Test Performance: 0.7750676351781864\n"
     ]
    }
   ],
   "source": [
    "model_xgb_P_v01 = xgb.XGBRegressor()\n",
    "model_xgb_P_v01.fit(X_train, y_train)\n",
    "\n",
    "result_xgb_P_v01_train = model_xgb_P_v01.predict(X_train)\n",
    "result_xgb_P_v01_test = model_xgb_P_v01.predict(X_test)\n",
    "\n",
    "r2_treino = r2_score(y_train, result_xgb_P_v01_train)\n",
    "r2_teste = r2_score(y_test, result_xgb_P_v01_test)\n",
    "\n",
    "print(f\"Training Performance: {r2_treino}\")\n",
    "print(f\"Test Performance: {r2_teste}\")"
   ]
  },
  {
   "cell_type": "code",
   "execution_count": 57,
   "metadata": {},
   "outputs": [
    {
     "name": "stdout",
     "output_type": "stream",
     "text": [
      "Training Performance: 0.9702888648369842\n",
      "Test Performance: 0.7784838605211666\n"
     ]
    }
   ],
   "source": [
    "model_xgb_P_v02 = xgb.XGBRegressor(n_estimators=80, max_depth=5)\n",
    "model_xgb_P_v02.fit(X_train, y_train)\n",
    "\n",
    "result_xgb_P_v02_train = model_xgb_P_v02.predict(X_train)\n",
    "result_xgb_P_v02_test = model_xgb_P_v02.predict(X_test)\n",
    "\n",
    "r2_treino = r2_score(y_train, result_xgb_P_v02_train)\n",
    "r2_teste = r2_score(y_test, result_xgb_P_v02_test)\n",
    "\n",
    "print(f\"Training Performance: {r2_treino}\")\n",
    "print(f\"Test Performance: {r2_teste}\")"
   ]
  },
  {
   "cell_type": "code",
   "execution_count": 58,
   "metadata": {},
   "outputs": [
    {
     "name": "stdout",
     "output_type": "stream",
     "text": [
      "Training Performance: 0.9702888648369842\n",
      "Test Performance: 0.7784838605211666\n"
     ]
    }
   ],
   "source": [
    "model_xgb_P_v03 = xgb.XGBRegressor(n_estimators=80, max_depth=5, n_jobs=1000)\n",
    "model_xgb_P_v03.fit(X_train, y_train)\n",
    "\n",
    "result_xgb_P_v03_train = model_xgb_P_v03.predict(X_train)\n",
    "result_xgb_P_v03_test = model_xgb_P_v03.predict(X_test)\n",
    "\n",
    "r2_treino = r2_score(y_train, result_xgb_P_v03_train)\n",
    "r2_teste = r2_score(y_test, result_xgb_P_v03_test)\n",
    "\n",
    "print(f\"Training Performance: {r2_treino}\")\n",
    "print(f\"Test Performance: {r2_teste}\")"
   ]
  },
  {
   "cell_type": "markdown",
   "metadata": {},
   "source": [
    "Best model was Version 1"
   ]
  },
  {
   "cell_type": "markdown",
   "metadata": {},
   "source": [
    "### Conclusion for P"
   ]
  },
  {
   "cell_type": "markdown",
   "metadata": {},
   "source": [
    "The conclusion for P models is that we cannot use linear models to predict this factor.\\\n",
    "In this case I tried other non linear methods and achieved a good performance of prediction.\\\n",
    "\n",
    "For P, I'll continue with the RandomForestRegressor, because it was the best regressor in test"
   ]
  },
  {
   "cell_type": "markdown",
   "metadata": {},
   "source": [
    "## Creating Models - N"
   ]
  },
  {
   "cell_type": "markdown",
   "metadata": {},
   "source": [
    "#### Separating data for N"
   ]
  },
  {
   "cell_type": "code",
   "execution_count": 59,
   "metadata": {},
   "outputs": [],
   "source": [
    "cols_descriptive = [\"P\", \"temperature\", \"humidity\", \"ph\", \"rainfall\"]\n",
    "\n",
    "X_n = df_log.loc[:, cols_descriptive]\n",
    "y_n = df_log.loc[:, \"N\"]\n",
    "\n",
    "X_train, X_test, y_train, y_test = train_test_split(X_n, y_n, test_size=0.2)"
   ]
  },
  {
   "cell_type": "markdown",
   "metadata": {},
   "source": [
    "As long as we know these data are not linearly distribuited, there is no need to create linear models for testing.\\\n",
    "In this case, I'll simply jump this part of testing linear models, different from the previous component \"P\""
   ]
  },
  {
   "cell_type": "markdown",
   "metadata": {},
   "source": [
    "#### Decision Tree Regression"
   ]
  },
  {
   "cell_type": "code",
   "execution_count": 60,
   "metadata": {},
   "outputs": [
    {
     "name": "stdout",
     "output_type": "stream",
     "text": [
      "Training Performance: 1.0\n",
      "Test Performance: 0.7362268777460905\n"
     ]
    }
   ],
   "source": [
    "model_dtr_N_v01 = DecisionTreeRegressor()\n",
    "model_dtr_N_v01.fit(X_train, y_train)\n",
    "\n",
    "result_dtr_N_v01_train = model_dtr_N_v01.predict(X_train)\n",
    "result_dtr_N_v01_test = model_dtr_N_v01.predict(X_test)\n",
    "\n",
    "r2_treino = r2_score(y_train, result_dtr_N_v01_train)\n",
    "r2_teste = r2_score(y_test, result_dtr_N_v01_test)\n",
    "\n",
    "print(f\"Training Performance: {r2_treino}\")\n",
    "print(f\"Test Performance: {r2_teste}\")"
   ]
  },
  {
   "cell_type": "code",
   "execution_count": 61,
   "metadata": {},
   "outputs": [],
   "source": [
    "# Creating GridSearch model\n",
    "params_dtr = {\n",
    "    \"criterion\":[\"squared_error\", \"friedman_mse\", \"absolute_error\", \"poisson\"],\n",
    "    \"splitter\":[\"best\", \"random\"],\n",
    "    \"max_depth\":[2, 3, 4, 5, 6, 7, 8, 9, 10, 12, 14, 16, 18, 20],\n",
    "    \"min_samples_split\":[2, 3, 4, 5],\n",
    "    \"min_samples_leaf\":[1, 2, 3, 4]\n",
    "}"
   ]
  },
  {
   "cell_type": "code",
   "execution_count": 62,
   "metadata": {},
   "outputs": [
    {
     "data": {
      "text/html": [
       "<style>#sk-container-id-1 {color: black;background-color: white;}#sk-container-id-1 pre{padding: 0;}#sk-container-id-1 div.sk-toggleable {background-color: white;}#sk-container-id-1 label.sk-toggleable__label {cursor: pointer;display: block;width: 100%;margin-bottom: 0;padding: 0.3em;box-sizing: border-box;text-align: center;}#sk-container-id-1 label.sk-toggleable__label-arrow:before {content: \"▸\";float: left;margin-right: 0.25em;color: #696969;}#sk-container-id-1 label.sk-toggleable__label-arrow:hover:before {color: black;}#sk-container-id-1 div.sk-estimator:hover label.sk-toggleable__label-arrow:before {color: black;}#sk-container-id-1 div.sk-toggleable__content {max-height: 0;max-width: 0;overflow: hidden;text-align: left;background-color: #f0f8ff;}#sk-container-id-1 div.sk-toggleable__content pre {margin: 0.2em;color: black;border-radius: 0.25em;background-color: #f0f8ff;}#sk-container-id-1 input.sk-toggleable__control:checked~div.sk-toggleable__content {max-height: 200px;max-width: 100%;overflow: auto;}#sk-container-id-1 input.sk-toggleable__control:checked~label.sk-toggleable__label-arrow:before {content: \"▾\";}#sk-container-id-1 div.sk-estimator input.sk-toggleable__control:checked~label.sk-toggleable__label {background-color: #d4ebff;}#sk-container-id-1 div.sk-label input.sk-toggleable__control:checked~label.sk-toggleable__label {background-color: #d4ebff;}#sk-container-id-1 input.sk-hidden--visually {border: 0;clip: rect(1px 1px 1px 1px);clip: rect(1px, 1px, 1px, 1px);height: 1px;margin: -1px;overflow: hidden;padding: 0;position: absolute;width: 1px;}#sk-container-id-1 div.sk-estimator {font-family: monospace;background-color: #f0f8ff;border: 1px dotted black;border-radius: 0.25em;box-sizing: border-box;margin-bottom: 0.5em;}#sk-container-id-1 div.sk-estimator:hover {background-color: #d4ebff;}#sk-container-id-1 div.sk-parallel-item::after {content: \"\";width: 100%;border-bottom: 1px solid gray;flex-grow: 1;}#sk-container-id-1 div.sk-label:hover label.sk-toggleable__label {background-color: #d4ebff;}#sk-container-id-1 div.sk-serial::before {content: \"\";position: absolute;border-left: 1px solid gray;box-sizing: border-box;top: 0;bottom: 0;left: 50%;z-index: 0;}#sk-container-id-1 div.sk-serial {display: flex;flex-direction: column;align-items: center;background-color: white;padding-right: 0.2em;padding-left: 0.2em;position: relative;}#sk-container-id-1 div.sk-item {position: relative;z-index: 1;}#sk-container-id-1 div.sk-parallel {display: flex;align-items: stretch;justify-content: center;background-color: white;position: relative;}#sk-container-id-1 div.sk-item::before, #sk-container-id-1 div.sk-parallel-item::before {content: \"\";position: absolute;border-left: 1px solid gray;box-sizing: border-box;top: 0;bottom: 0;left: 50%;z-index: -1;}#sk-container-id-1 div.sk-parallel-item {display: flex;flex-direction: column;z-index: 1;position: relative;background-color: white;}#sk-container-id-1 div.sk-parallel-item:first-child::after {align-self: flex-end;width: 50%;}#sk-container-id-1 div.sk-parallel-item:last-child::after {align-self: flex-start;width: 50%;}#sk-container-id-1 div.sk-parallel-item:only-child::after {width: 0;}#sk-container-id-1 div.sk-dashed-wrapped {border: 1px dashed gray;margin: 0 0.4em 0.5em 0.4em;box-sizing: border-box;padding-bottom: 0.4em;background-color: white;}#sk-container-id-1 div.sk-label label {font-family: monospace;font-weight: bold;display: inline-block;line-height: 1.2em;}#sk-container-id-1 div.sk-label-container {text-align: center;}#sk-container-id-1 div.sk-container {/* jupyter's `normalize.less` sets `[hidden] { display: none; }` but bootstrap.min.css set `[hidden] { display: none !important; }` so we also need the `!important` here to be able to override the default hidden behavior on the sphinx rendered scikit-learn.org. See: https://github.com/scikit-learn/scikit-learn/issues/21755 */display: inline-block !important;position: relative;}#sk-container-id-1 div.sk-text-repr-fallback {display: none;}</style><div id=\"sk-container-id-1\" class=\"sk-top-container\"><div class=\"sk-text-repr-fallback\"><pre>GridSearchCV(estimator=DecisionTreeRegressor(),\n",
       "             param_grid={&#x27;criterion&#x27;: [&#x27;squared_error&#x27;, &#x27;friedman_mse&#x27;,\n",
       "                                       &#x27;absolute_error&#x27;, &#x27;poisson&#x27;],\n",
       "                         &#x27;max_depth&#x27;: [2, 3, 4, 5, 6, 7, 8, 9, 10, 12, 14, 16,\n",
       "                                       18, 20],\n",
       "                         &#x27;min_samples_leaf&#x27;: [1, 2, 3, 4],\n",
       "                         &#x27;min_samples_split&#x27;: [2, 3, 4, 5],\n",
       "                         &#x27;splitter&#x27;: [&#x27;best&#x27;, &#x27;random&#x27;]})</pre><b>In a Jupyter environment, please rerun this cell to show the HTML representation or trust the notebook. <br />On GitHub, the HTML representation is unable to render, please try loading this page with nbviewer.org.</b></div><div class=\"sk-container\" hidden><div class=\"sk-item sk-dashed-wrapped\"><div class=\"sk-label-container\"><div class=\"sk-label sk-toggleable\"><input class=\"sk-toggleable__control sk-hidden--visually\" id=\"sk-estimator-id-1\" type=\"checkbox\" ><label for=\"sk-estimator-id-1\" class=\"sk-toggleable__label sk-toggleable__label-arrow\">GridSearchCV</label><div class=\"sk-toggleable__content\"><pre>GridSearchCV(estimator=DecisionTreeRegressor(),\n",
       "             param_grid={&#x27;criterion&#x27;: [&#x27;squared_error&#x27;, &#x27;friedman_mse&#x27;,\n",
       "                                       &#x27;absolute_error&#x27;, &#x27;poisson&#x27;],\n",
       "                         &#x27;max_depth&#x27;: [2, 3, 4, 5, 6, 7, 8, 9, 10, 12, 14, 16,\n",
       "                                       18, 20],\n",
       "                         &#x27;min_samples_leaf&#x27;: [1, 2, 3, 4],\n",
       "                         &#x27;min_samples_split&#x27;: [2, 3, 4, 5],\n",
       "                         &#x27;splitter&#x27;: [&#x27;best&#x27;, &#x27;random&#x27;]})</pre></div></div></div><div class=\"sk-parallel\"><div class=\"sk-parallel-item\"><div class=\"sk-item\"><div class=\"sk-label-container\"><div class=\"sk-label sk-toggleable\"><input class=\"sk-toggleable__control sk-hidden--visually\" id=\"sk-estimator-id-2\" type=\"checkbox\" ><label for=\"sk-estimator-id-2\" class=\"sk-toggleable__label sk-toggleable__label-arrow\">estimator: DecisionTreeRegressor</label><div class=\"sk-toggleable__content\"><pre>DecisionTreeRegressor()</pre></div></div></div><div class=\"sk-serial\"><div class=\"sk-item\"><div class=\"sk-estimator sk-toggleable\"><input class=\"sk-toggleable__control sk-hidden--visually\" id=\"sk-estimator-id-3\" type=\"checkbox\" ><label for=\"sk-estimator-id-3\" class=\"sk-toggleable__label sk-toggleable__label-arrow\">DecisionTreeRegressor</label><div class=\"sk-toggleable__content\"><pre>DecisionTreeRegressor()</pre></div></div></div></div></div></div></div></div></div></div>"
      ],
      "text/plain": [
       "GridSearchCV(estimator=DecisionTreeRegressor(),\n",
       "             param_grid={'criterion': ['squared_error', 'friedman_mse',\n",
       "                                       'absolute_error', 'poisson'],\n",
       "                         'max_depth': [2, 3, 4, 5, 6, 7, 8, 9, 10, 12, 14, 16,\n",
       "                                       18, 20],\n",
       "                         'min_samples_leaf': [1, 2, 3, 4],\n",
       "                         'min_samples_split': [2, 3, 4, 5],\n",
       "                         'splitter': ['best', 'random']})"
      ]
     },
     "execution_count": 62,
     "metadata": {},
     "output_type": "execute_result"
    }
   ],
   "source": [
    "model_dtr_N_grid = GridSearchCV(estimator=DecisionTreeRegressor(), param_grid=params_dtr)\n",
    "model_dtr_N_grid.fit(X_train, y_train)"
   ]
  },
  {
   "cell_type": "code",
   "execution_count": 63,
   "metadata": {},
   "outputs": [
    {
     "name": "stdout",
     "output_type": "stream",
     "text": [
      "Best Params: {'criterion': 'squared_error', 'max_depth': 9, 'min_samples_leaf': 1, 'min_samples_split': 4, 'splitter': 'best'}\n",
      "Best score: 0.8099765535102431\n"
     ]
    }
   ],
   "source": [
    "print(f\"Best Params: {model_dtr_N_grid.best_params_}\")\n",
    "print(f\"Best score: {model_dtr_N_grid.best_score_}\")"
   ]
  },
  {
   "cell_type": "code",
   "execution_count": 64,
   "metadata": {},
   "outputs": [
    {
     "name": "stdout",
     "output_type": "stream",
     "text": [
      "Training Performance: 0.9111573806794181\n",
      "Test Performance: 0.8243689976465699\n"
     ]
    }
   ],
   "source": [
    "model_dtr_N = DecisionTreeRegressor(\n",
    "    criterion=\"poisson\",\n",
    "    max_depth=8,\n",
    "    min_samples_split=3,\n",
    "    min_samples_leaf=1,\n",
    "    splitter=\"best\"\n",
    ")\n",
    "model_dtr_N.fit(X_train, y_train)\n",
    "\n",
    "result_dtr_N_train = model_dtr_N.predict(X_train)\n",
    "result_dtr_N_test = model_dtr_N.predict(X_test)\n",
    "\n",
    "r2_treino = r2_score(y_train, result_dtr_N_train)\n",
    "r2_teste = r2_score(y_test, result_dtr_N_test)\n",
    "\n",
    "print(f\"Training Performance: {r2_treino}\")\n",
    "print(f\"Test Performance: {r2_teste}\")"
   ]
  },
  {
   "cell_type": "markdown",
   "metadata": {},
   "source": [
    "#### Random Forest Regressor"
   ]
  },
  {
   "cell_type": "code",
   "execution_count": 137,
   "metadata": {},
   "outputs": [],
   "source": [
    "# Creating GridSearch model\n",
    "params_rfr= {\n",
    "    \"n_estimators\":[80, 100, 120],\n",
    "    \"criterion\":[\"squared_error\", \"absolute_error\", \"poisson\"],\n",
    "    \"max_depth\":[2, 3, 4, 5],\n",
    "    \"min_samples_split\":[2, 3, 4],\n",
    "    \"min_samples_leaf\":[1, 2, 3]\n",
    "}"
   ]
  },
  {
   "cell_type": "code",
   "execution_count": 138,
   "metadata": {},
   "outputs": [
    {
     "data": {
      "text/html": [
       "<style>#sk-container-id-6 {color: black;background-color: white;}#sk-container-id-6 pre{padding: 0;}#sk-container-id-6 div.sk-toggleable {background-color: white;}#sk-container-id-6 label.sk-toggleable__label {cursor: pointer;display: block;width: 100%;margin-bottom: 0;padding: 0.3em;box-sizing: border-box;text-align: center;}#sk-container-id-6 label.sk-toggleable__label-arrow:before {content: \"▸\";float: left;margin-right: 0.25em;color: #696969;}#sk-container-id-6 label.sk-toggleable__label-arrow:hover:before {color: black;}#sk-container-id-6 div.sk-estimator:hover label.sk-toggleable__label-arrow:before {color: black;}#sk-container-id-6 div.sk-toggleable__content {max-height: 0;max-width: 0;overflow: hidden;text-align: left;background-color: #f0f8ff;}#sk-container-id-6 div.sk-toggleable__content pre {margin: 0.2em;color: black;border-radius: 0.25em;background-color: #f0f8ff;}#sk-container-id-6 input.sk-toggleable__control:checked~div.sk-toggleable__content {max-height: 200px;max-width: 100%;overflow: auto;}#sk-container-id-6 input.sk-toggleable__control:checked~label.sk-toggleable__label-arrow:before {content: \"▾\";}#sk-container-id-6 div.sk-estimator input.sk-toggleable__control:checked~label.sk-toggleable__label {background-color: #d4ebff;}#sk-container-id-6 div.sk-label input.sk-toggleable__control:checked~label.sk-toggleable__label {background-color: #d4ebff;}#sk-container-id-6 input.sk-hidden--visually {border: 0;clip: rect(1px 1px 1px 1px);clip: rect(1px, 1px, 1px, 1px);height: 1px;margin: -1px;overflow: hidden;padding: 0;position: absolute;width: 1px;}#sk-container-id-6 div.sk-estimator {font-family: monospace;background-color: #f0f8ff;border: 1px dotted black;border-radius: 0.25em;box-sizing: border-box;margin-bottom: 0.5em;}#sk-container-id-6 div.sk-estimator:hover {background-color: #d4ebff;}#sk-container-id-6 div.sk-parallel-item::after {content: \"\";width: 100%;border-bottom: 1px solid gray;flex-grow: 1;}#sk-container-id-6 div.sk-label:hover label.sk-toggleable__label {background-color: #d4ebff;}#sk-container-id-6 div.sk-serial::before {content: \"\";position: absolute;border-left: 1px solid gray;box-sizing: border-box;top: 0;bottom: 0;left: 50%;z-index: 0;}#sk-container-id-6 div.sk-serial {display: flex;flex-direction: column;align-items: center;background-color: white;padding-right: 0.2em;padding-left: 0.2em;position: relative;}#sk-container-id-6 div.sk-item {position: relative;z-index: 1;}#sk-container-id-6 div.sk-parallel {display: flex;align-items: stretch;justify-content: center;background-color: white;position: relative;}#sk-container-id-6 div.sk-item::before, #sk-container-id-6 div.sk-parallel-item::before {content: \"\";position: absolute;border-left: 1px solid gray;box-sizing: border-box;top: 0;bottom: 0;left: 50%;z-index: -1;}#sk-container-id-6 div.sk-parallel-item {display: flex;flex-direction: column;z-index: 1;position: relative;background-color: white;}#sk-container-id-6 div.sk-parallel-item:first-child::after {align-self: flex-end;width: 50%;}#sk-container-id-6 div.sk-parallel-item:last-child::after {align-self: flex-start;width: 50%;}#sk-container-id-6 div.sk-parallel-item:only-child::after {width: 0;}#sk-container-id-6 div.sk-dashed-wrapped {border: 1px dashed gray;margin: 0 0.4em 0.5em 0.4em;box-sizing: border-box;padding-bottom: 0.4em;background-color: white;}#sk-container-id-6 div.sk-label label {font-family: monospace;font-weight: bold;display: inline-block;line-height: 1.2em;}#sk-container-id-6 div.sk-label-container {text-align: center;}#sk-container-id-6 div.sk-container {/* jupyter's `normalize.less` sets `[hidden] { display: none; }` but bootstrap.min.css set `[hidden] { display: none !important; }` so we also need the `!important` here to be able to override the default hidden behavior on the sphinx rendered scikit-learn.org. See: https://github.com/scikit-learn/scikit-learn/issues/21755 */display: inline-block !important;position: relative;}#sk-container-id-6 div.sk-text-repr-fallback {display: none;}</style><div id=\"sk-container-id-6\" class=\"sk-top-container\"><div class=\"sk-text-repr-fallback\"><pre>GridSearchCV(estimator=RandomForestRegressor(),\n",
       "             param_grid={&#x27;criterion&#x27;: [&#x27;squared_error&#x27;, &#x27;absolute_error&#x27;,\n",
       "                                       &#x27;poisson&#x27;],\n",
       "                         &#x27;max_depth&#x27;: [2, 3, 4, 5],\n",
       "                         &#x27;min_samples_leaf&#x27;: [1, 2, 3],\n",
       "                         &#x27;min_samples_split&#x27;: [2, 3, 4],\n",
       "                         &#x27;n_estimators&#x27;: [80, 100, 120]})</pre><b>In a Jupyter environment, please rerun this cell to show the HTML representation or trust the notebook. <br />On GitHub, the HTML representation is unable to render, please try loading this page with nbviewer.org.</b></div><div class=\"sk-container\" hidden><div class=\"sk-item sk-dashed-wrapped\"><div class=\"sk-label-container\"><div class=\"sk-label sk-toggleable\"><input class=\"sk-toggleable__control sk-hidden--visually\" id=\"sk-estimator-id-10\" type=\"checkbox\" ><label for=\"sk-estimator-id-10\" class=\"sk-toggleable__label sk-toggleable__label-arrow\">GridSearchCV</label><div class=\"sk-toggleable__content\"><pre>GridSearchCV(estimator=RandomForestRegressor(),\n",
       "             param_grid={&#x27;criterion&#x27;: [&#x27;squared_error&#x27;, &#x27;absolute_error&#x27;,\n",
       "                                       &#x27;poisson&#x27;],\n",
       "                         &#x27;max_depth&#x27;: [2, 3, 4, 5],\n",
       "                         &#x27;min_samples_leaf&#x27;: [1, 2, 3],\n",
       "                         &#x27;min_samples_split&#x27;: [2, 3, 4],\n",
       "                         &#x27;n_estimators&#x27;: [80, 100, 120]})</pre></div></div></div><div class=\"sk-parallel\"><div class=\"sk-parallel-item\"><div class=\"sk-item\"><div class=\"sk-label-container\"><div class=\"sk-label sk-toggleable\"><input class=\"sk-toggleable__control sk-hidden--visually\" id=\"sk-estimator-id-11\" type=\"checkbox\" ><label for=\"sk-estimator-id-11\" class=\"sk-toggleable__label sk-toggleable__label-arrow\">estimator: RandomForestRegressor</label><div class=\"sk-toggleable__content\"><pre>RandomForestRegressor()</pre></div></div></div><div class=\"sk-serial\"><div class=\"sk-item\"><div class=\"sk-estimator sk-toggleable\"><input class=\"sk-toggleable__control sk-hidden--visually\" id=\"sk-estimator-id-12\" type=\"checkbox\" ><label for=\"sk-estimator-id-12\" class=\"sk-toggleable__label sk-toggleable__label-arrow\">RandomForestRegressor</label><div class=\"sk-toggleable__content\"><pre>RandomForestRegressor()</pre></div></div></div></div></div></div></div></div></div></div>"
      ],
      "text/plain": [
       "GridSearchCV(estimator=RandomForestRegressor(),\n",
       "             param_grid={'criterion': ['squared_error', 'absolute_error',\n",
       "                                       'poisson'],\n",
       "                         'max_depth': [2, 3, 4, 5],\n",
       "                         'min_samples_leaf': [1, 2, 3],\n",
       "                         'min_samples_split': [2, 3, 4],\n",
       "                         'n_estimators': [80, 100, 120]})"
      ]
     },
     "execution_count": 138,
     "metadata": {},
     "output_type": "execute_result"
    }
   ],
   "source": [
    "# model_rfr_N_grid = GridSearchCV(estimator=RandomForestRegressor(), param_grid=params_rfr)\n",
    "# model_rfr_N_grid.fit(X_train, y_train)"
   ]
  },
  {
   "cell_type": "code",
   "execution_count": 139,
   "metadata": {},
   "outputs": [
    {
     "name": "stdout",
     "output_type": "stream",
     "text": [
      "Best Params: {'criterion': 'squared_error', 'max_depth': 5, 'min_samples_leaf': 1, 'min_samples_split': 3, 'n_estimators': 80}\n",
      "Best score: 0.716971579490249\n"
     ]
    }
   ],
   "source": [
    "# print(f\"Best Params: {model_rfr_N_grid.best_params_}\")\n",
    "# print(f\"Best score: {model_rfr_N_grid.best_score_}\")\n",
    "\n",
    "# Best Params: {'criterion': 'squared_error', 'max_depth': 5, 'min_samples_leaf': 1, 'min_samples_split': 3, 'n_estimators': 80}\n",
    "# Best score: 0.716971579490249"
   ]
  },
  {
   "cell_type": "markdown",
   "metadata": {},
   "source": [
    "The training of RandomForestRegressor with gridSearchCV took around 25 minutes.\\\n",
    "Although it has more time of training, there wasn't a higher performance than DecisionTreeRegressor"
   ]
  },
  {
   "cell_type": "markdown",
   "metadata": {},
   "source": [
    "#### XGBoost Regressor"
   ]
  },
  {
   "cell_type": "code",
   "execution_count": 68,
   "metadata": {},
   "outputs": [],
   "source": [
    "param_xgb = {\n",
    "    'n_estimators': [100, 200, 300],\n",
    "    'learning_rate': [0.01, 0.1, 0.2],\n",
    "    'max_depth': [3, 4, 5]\n",
    "}"
   ]
  },
  {
   "cell_type": "code",
   "execution_count": 70,
   "metadata": {},
   "outputs": [
    {
     "data": {
      "text/html": [
       "<style>#sk-container-id-2 {color: black;background-color: white;}#sk-container-id-2 pre{padding: 0;}#sk-container-id-2 div.sk-toggleable {background-color: white;}#sk-container-id-2 label.sk-toggleable__label {cursor: pointer;display: block;width: 100%;margin-bottom: 0;padding: 0.3em;box-sizing: border-box;text-align: center;}#sk-container-id-2 label.sk-toggleable__label-arrow:before {content: \"▸\";float: left;margin-right: 0.25em;color: #696969;}#sk-container-id-2 label.sk-toggleable__label-arrow:hover:before {color: black;}#sk-container-id-2 div.sk-estimator:hover label.sk-toggleable__label-arrow:before {color: black;}#sk-container-id-2 div.sk-toggleable__content {max-height: 0;max-width: 0;overflow: hidden;text-align: left;background-color: #f0f8ff;}#sk-container-id-2 div.sk-toggleable__content pre {margin: 0.2em;color: black;border-radius: 0.25em;background-color: #f0f8ff;}#sk-container-id-2 input.sk-toggleable__control:checked~div.sk-toggleable__content {max-height: 200px;max-width: 100%;overflow: auto;}#sk-container-id-2 input.sk-toggleable__control:checked~label.sk-toggleable__label-arrow:before {content: \"▾\";}#sk-container-id-2 div.sk-estimator input.sk-toggleable__control:checked~label.sk-toggleable__label {background-color: #d4ebff;}#sk-container-id-2 div.sk-label input.sk-toggleable__control:checked~label.sk-toggleable__label {background-color: #d4ebff;}#sk-container-id-2 input.sk-hidden--visually {border: 0;clip: rect(1px 1px 1px 1px);clip: rect(1px, 1px, 1px, 1px);height: 1px;margin: -1px;overflow: hidden;padding: 0;position: absolute;width: 1px;}#sk-container-id-2 div.sk-estimator {font-family: monospace;background-color: #f0f8ff;border: 1px dotted black;border-radius: 0.25em;box-sizing: border-box;margin-bottom: 0.5em;}#sk-container-id-2 div.sk-estimator:hover {background-color: #d4ebff;}#sk-container-id-2 div.sk-parallel-item::after {content: \"\";width: 100%;border-bottom: 1px solid gray;flex-grow: 1;}#sk-container-id-2 div.sk-label:hover label.sk-toggleable__label {background-color: #d4ebff;}#sk-container-id-2 div.sk-serial::before {content: \"\";position: absolute;border-left: 1px solid gray;box-sizing: border-box;top: 0;bottom: 0;left: 50%;z-index: 0;}#sk-container-id-2 div.sk-serial {display: flex;flex-direction: column;align-items: center;background-color: white;padding-right: 0.2em;padding-left: 0.2em;position: relative;}#sk-container-id-2 div.sk-item {position: relative;z-index: 1;}#sk-container-id-2 div.sk-parallel {display: flex;align-items: stretch;justify-content: center;background-color: white;position: relative;}#sk-container-id-2 div.sk-item::before, #sk-container-id-2 div.sk-parallel-item::before {content: \"\";position: absolute;border-left: 1px solid gray;box-sizing: border-box;top: 0;bottom: 0;left: 50%;z-index: -1;}#sk-container-id-2 div.sk-parallel-item {display: flex;flex-direction: column;z-index: 1;position: relative;background-color: white;}#sk-container-id-2 div.sk-parallel-item:first-child::after {align-self: flex-end;width: 50%;}#sk-container-id-2 div.sk-parallel-item:last-child::after {align-self: flex-start;width: 50%;}#sk-container-id-2 div.sk-parallel-item:only-child::after {width: 0;}#sk-container-id-2 div.sk-dashed-wrapped {border: 1px dashed gray;margin: 0 0.4em 0.5em 0.4em;box-sizing: border-box;padding-bottom: 0.4em;background-color: white;}#sk-container-id-2 div.sk-label label {font-family: monospace;font-weight: bold;display: inline-block;line-height: 1.2em;}#sk-container-id-2 div.sk-label-container {text-align: center;}#sk-container-id-2 div.sk-container {/* jupyter's `normalize.less` sets `[hidden] { display: none; }` but bootstrap.min.css set `[hidden] { display: none !important; }` so we also need the `!important` here to be able to override the default hidden behavior on the sphinx rendered scikit-learn.org. See: https://github.com/scikit-learn/scikit-learn/issues/21755 */display: inline-block !important;position: relative;}#sk-container-id-2 div.sk-text-repr-fallback {display: none;}</style><div id=\"sk-container-id-2\" class=\"sk-top-container\"><div class=\"sk-text-repr-fallback\"><pre>GridSearchCV(estimator=XGBRegressor(base_score=None, booster=None,\n",
       "                                    callbacks=None, colsample_bylevel=None,\n",
       "                                    colsample_bynode=None,\n",
       "                                    colsample_bytree=None, device=None,\n",
       "                                    early_stopping_rounds=None,\n",
       "                                    enable_categorical=False, eval_metric=None,\n",
       "                                    feature_types=None, gamma=None,\n",
       "                                    grow_policy=None, importance_type=None,\n",
       "                                    interaction_constraints=None,\n",
       "                                    learning_rate=None, max_bin=None,\n",
       "                                    max_cat_threshold=None,\n",
       "                                    max_cat_to_onehot=None, max_delta_step=None,\n",
       "                                    max_depth=None, max_leaves=None,\n",
       "                                    min_child_weight=None, missing=nan,\n",
       "                                    monotone_constraints=None,\n",
       "                                    multi_strategy=None, n_estimators=None,\n",
       "                                    n_jobs=None, num_parallel_tree=None,\n",
       "                                    random_state=None, ...),\n",
       "             param_grid={&#x27;learning_rate&#x27;: [0.01, 0.1, 0.2],\n",
       "                         &#x27;max_depth&#x27;: [3, 4, 5],\n",
       "                         &#x27;n_estimators&#x27;: [100, 200, 300]})</pre><b>In a Jupyter environment, please rerun this cell to show the HTML representation or trust the notebook. <br />On GitHub, the HTML representation is unable to render, please try loading this page with nbviewer.org.</b></div><div class=\"sk-container\" hidden><div class=\"sk-item sk-dashed-wrapped\"><div class=\"sk-label-container\"><div class=\"sk-label sk-toggleable\"><input class=\"sk-toggleable__control sk-hidden--visually\" id=\"sk-estimator-id-4\" type=\"checkbox\" ><label for=\"sk-estimator-id-4\" class=\"sk-toggleable__label sk-toggleable__label-arrow\">GridSearchCV</label><div class=\"sk-toggleable__content\"><pre>GridSearchCV(estimator=XGBRegressor(base_score=None, booster=None,\n",
       "                                    callbacks=None, colsample_bylevel=None,\n",
       "                                    colsample_bynode=None,\n",
       "                                    colsample_bytree=None, device=None,\n",
       "                                    early_stopping_rounds=None,\n",
       "                                    enable_categorical=False, eval_metric=None,\n",
       "                                    feature_types=None, gamma=None,\n",
       "                                    grow_policy=None, importance_type=None,\n",
       "                                    interaction_constraints=None,\n",
       "                                    learning_rate=None, max_bin=None,\n",
       "                                    max_cat_threshold=None,\n",
       "                                    max_cat_to_onehot=None, max_delta_step=None,\n",
       "                                    max_depth=None, max_leaves=None,\n",
       "                                    min_child_weight=None, missing=nan,\n",
       "                                    monotone_constraints=None,\n",
       "                                    multi_strategy=None, n_estimators=None,\n",
       "                                    n_jobs=None, num_parallel_tree=None,\n",
       "                                    random_state=None, ...),\n",
       "             param_grid={&#x27;learning_rate&#x27;: [0.01, 0.1, 0.2],\n",
       "                         &#x27;max_depth&#x27;: [3, 4, 5],\n",
       "                         &#x27;n_estimators&#x27;: [100, 200, 300]})</pre></div></div></div><div class=\"sk-parallel\"><div class=\"sk-parallel-item\"><div class=\"sk-item\"><div class=\"sk-label-container\"><div class=\"sk-label sk-toggleable\"><input class=\"sk-toggleable__control sk-hidden--visually\" id=\"sk-estimator-id-5\" type=\"checkbox\" ><label for=\"sk-estimator-id-5\" class=\"sk-toggleable__label sk-toggleable__label-arrow\">estimator: XGBRegressor</label><div class=\"sk-toggleable__content\"><pre>XGBRegressor(base_score=None, booster=None, callbacks=None,\n",
       "             colsample_bylevel=None, colsample_bynode=None,\n",
       "             colsample_bytree=None, device=None, early_stopping_rounds=None,\n",
       "             enable_categorical=False, eval_metric=None, feature_types=None,\n",
       "             gamma=None, grow_policy=None, importance_type=None,\n",
       "             interaction_constraints=None, learning_rate=None, max_bin=None,\n",
       "             max_cat_threshold=None, max_cat_to_onehot=None,\n",
       "             max_delta_step=None, max_depth=None, max_leaves=None,\n",
       "             min_child_weight=None, missing=nan, monotone_constraints=None,\n",
       "             multi_strategy=None, n_estimators=None, n_jobs=None,\n",
       "             num_parallel_tree=None, random_state=None, ...)</pre></div></div></div><div class=\"sk-serial\"><div class=\"sk-item\"><div class=\"sk-estimator sk-toggleable\"><input class=\"sk-toggleable__control sk-hidden--visually\" id=\"sk-estimator-id-6\" type=\"checkbox\" ><label for=\"sk-estimator-id-6\" class=\"sk-toggleable__label sk-toggleable__label-arrow\">XGBRegressor</label><div class=\"sk-toggleable__content\"><pre>XGBRegressor(base_score=None, booster=None, callbacks=None,\n",
       "             colsample_bylevel=None, colsample_bynode=None,\n",
       "             colsample_bytree=None, device=None, early_stopping_rounds=None,\n",
       "             enable_categorical=False, eval_metric=None, feature_types=None,\n",
       "             gamma=None, grow_policy=None, importance_type=None,\n",
       "             interaction_constraints=None, learning_rate=None, max_bin=None,\n",
       "             max_cat_threshold=None, max_cat_to_onehot=None,\n",
       "             max_delta_step=None, max_depth=None, max_leaves=None,\n",
       "             min_child_weight=None, missing=nan, monotone_constraints=None,\n",
       "             multi_strategy=None, n_estimators=None, n_jobs=None,\n",
       "             num_parallel_tree=None, random_state=None, ...)</pre></div></div></div></div></div></div></div></div></div></div>"
      ],
      "text/plain": [
       "GridSearchCV(estimator=XGBRegressor(base_score=None, booster=None,\n",
       "                                    callbacks=None, colsample_bylevel=None,\n",
       "                                    colsample_bynode=None,\n",
       "                                    colsample_bytree=None, device=None,\n",
       "                                    early_stopping_rounds=None,\n",
       "                                    enable_categorical=False, eval_metric=None,\n",
       "                                    feature_types=None, gamma=None,\n",
       "                                    grow_policy=None, importance_type=None,\n",
       "                                    interaction_constraints=None,\n",
       "                                    learning_rate=None, max_bin=None,\n",
       "                                    max_cat_threshold=None,\n",
       "                                    max_cat_to_onehot=None, max_delta_step=None,\n",
       "                                    max_depth=None, max_leaves=None,\n",
       "                                    min_child_weight=None, missing=nan,\n",
       "                                    monotone_constraints=None,\n",
       "                                    multi_strategy=None, n_estimators=None,\n",
       "                                    n_jobs=None, num_parallel_tree=None,\n",
       "                                    random_state=None, ...),\n",
       "             param_grid={'learning_rate': [0.01, 0.1, 0.2],\n",
       "                         'max_depth': [3, 4, 5],\n",
       "                         'n_estimators': [100, 200, 300]})"
      ]
     },
     "execution_count": 70,
     "metadata": {},
     "output_type": "execute_result"
    }
   ],
   "source": [
    "model_xgb_N_grid = GridSearchCV(estimator=xgb.XGBRegressor(), param_grid=param_xgb)\n",
    "model_xgb_N_grid.fit(X_train, y_train)"
   ]
  },
  {
   "cell_type": "code",
   "execution_count": 71,
   "metadata": {},
   "outputs": [
    {
     "name": "stdout",
     "output_type": "stream",
     "text": [
      "Best Params: {'learning_rate': 0.1, 'max_depth': 5, 'n_estimators': 100}\n",
      "Best score: 0.8397012218498732\n"
     ]
    }
   ],
   "source": [
    "print(f\"Best Params: {model_xgb_N_grid.best_params_}\")\n",
    "print(f\"Best score: {model_xgb_N_grid.best_score_}\")"
   ]
  },
  {
   "cell_type": "code",
   "execution_count": 72,
   "metadata": {},
   "outputs": [
    {
     "name": "stdout",
     "output_type": "stream",
     "text": [
      "Training Performance: 0.9325411180443891\n",
      "Test Performance: 0.8496831568482273\n"
     ]
    }
   ],
   "source": [
    "model_xgb_N = xgb.XGBRegressor(\n",
    "    learning_rate=0.1, max_depth=5, n_estimators=100\n",
    ")\n",
    "model_xgb_N.fit(X_train, y_train)\n",
    "\n",
    "result_xgb_N_train = model_xgb_N.predict(X_train)\n",
    "result_xgb_N_test = model_xgb_N.predict(X_test)\n",
    "\n",
    "r2_treino = r2_score(y_train, result_xgb_N_train)\n",
    "r2_teste = r2_score(y_test, result_xgb_N_test)\n",
    "\n",
    "print(f\"Training Performance: {r2_treino}\")\n",
    "print(f\"Test Performance: {r2_teste}\")"
   ]
  },
  {
   "cell_type": "markdown",
   "metadata": {},
   "source": [
    "#### Conclusion for N"
   ]
  },
  {
   "cell_type": "markdown",
   "metadata": {},
   "source": [
    "For component 'N' - XGBoost Regressor had the best performance. It means these one will be a good candidate to the final model"
   ]
  },
  {
   "cell_type": "markdown",
   "metadata": {},
   "source": [
    "## Creating Models - K"
   ]
  },
  {
   "cell_type": "markdown",
   "metadata": {},
   "source": [
    "#### Separating data for K"
   ]
  },
  {
   "cell_type": "code",
   "execution_count": 73,
   "metadata": {},
   "outputs": [],
   "source": [
    "cols_descriptive = [\"N\", \"P\", \"temperature\", \"humidity\", \"ph\", \"rainfall\"]\n",
    "\n",
    "X_n = df_log.loc[:, cols_descriptive]\n",
    "y_n = df_log.loc[:, \"K\"]\n",
    "\n",
    "X_train, X_test, y_train, y_test = train_test_split(X_n, y_n, test_size=0.2)"
   ]
  },
  {
   "cell_type": "code",
   "execution_count": 75,
   "metadata": {},
   "outputs": [],
   "source": [
    "# Creating GridSearch model\n",
    "params_dtr = {\n",
    "    \"criterion\":[\"squared_error\", \"friedman_mse\", \"absolute_error\", \"poisson\"],\n",
    "    \"splitter\":[\"best\", \"random\"],\n",
    "    \"max_depth\":[2, 3, 4, 5, 6, 7, 8, 9, 10, 12, 14, 16, 18, 20],\n",
    "    \"min_samples_split\":[2, 3, 4, 5],\n",
    "    \"min_samples_leaf\":[1, 2, 3, 4]\n",
    "}"
   ]
  },
  {
   "cell_type": "code",
   "execution_count": 76,
   "metadata": {},
   "outputs": [
    {
     "data": {
      "text/html": [
       "<style>#sk-container-id-3 {color: black;background-color: white;}#sk-container-id-3 pre{padding: 0;}#sk-container-id-3 div.sk-toggleable {background-color: white;}#sk-container-id-3 label.sk-toggleable__label {cursor: pointer;display: block;width: 100%;margin-bottom: 0;padding: 0.3em;box-sizing: border-box;text-align: center;}#sk-container-id-3 label.sk-toggleable__label-arrow:before {content: \"▸\";float: left;margin-right: 0.25em;color: #696969;}#sk-container-id-3 label.sk-toggleable__label-arrow:hover:before {color: black;}#sk-container-id-3 div.sk-estimator:hover label.sk-toggleable__label-arrow:before {color: black;}#sk-container-id-3 div.sk-toggleable__content {max-height: 0;max-width: 0;overflow: hidden;text-align: left;background-color: #f0f8ff;}#sk-container-id-3 div.sk-toggleable__content pre {margin: 0.2em;color: black;border-radius: 0.25em;background-color: #f0f8ff;}#sk-container-id-3 input.sk-toggleable__control:checked~div.sk-toggleable__content {max-height: 200px;max-width: 100%;overflow: auto;}#sk-container-id-3 input.sk-toggleable__control:checked~label.sk-toggleable__label-arrow:before {content: \"▾\";}#sk-container-id-3 div.sk-estimator input.sk-toggleable__control:checked~label.sk-toggleable__label {background-color: #d4ebff;}#sk-container-id-3 div.sk-label input.sk-toggleable__control:checked~label.sk-toggleable__label {background-color: #d4ebff;}#sk-container-id-3 input.sk-hidden--visually {border: 0;clip: rect(1px 1px 1px 1px);clip: rect(1px, 1px, 1px, 1px);height: 1px;margin: -1px;overflow: hidden;padding: 0;position: absolute;width: 1px;}#sk-container-id-3 div.sk-estimator {font-family: monospace;background-color: #f0f8ff;border: 1px dotted black;border-radius: 0.25em;box-sizing: border-box;margin-bottom: 0.5em;}#sk-container-id-3 div.sk-estimator:hover {background-color: #d4ebff;}#sk-container-id-3 div.sk-parallel-item::after {content: \"\";width: 100%;border-bottom: 1px solid gray;flex-grow: 1;}#sk-container-id-3 div.sk-label:hover label.sk-toggleable__label {background-color: #d4ebff;}#sk-container-id-3 div.sk-serial::before {content: \"\";position: absolute;border-left: 1px solid gray;box-sizing: border-box;top: 0;bottom: 0;left: 50%;z-index: 0;}#sk-container-id-3 div.sk-serial {display: flex;flex-direction: column;align-items: center;background-color: white;padding-right: 0.2em;padding-left: 0.2em;position: relative;}#sk-container-id-3 div.sk-item {position: relative;z-index: 1;}#sk-container-id-3 div.sk-parallel {display: flex;align-items: stretch;justify-content: center;background-color: white;position: relative;}#sk-container-id-3 div.sk-item::before, #sk-container-id-3 div.sk-parallel-item::before {content: \"\";position: absolute;border-left: 1px solid gray;box-sizing: border-box;top: 0;bottom: 0;left: 50%;z-index: -1;}#sk-container-id-3 div.sk-parallel-item {display: flex;flex-direction: column;z-index: 1;position: relative;background-color: white;}#sk-container-id-3 div.sk-parallel-item:first-child::after {align-self: flex-end;width: 50%;}#sk-container-id-3 div.sk-parallel-item:last-child::after {align-self: flex-start;width: 50%;}#sk-container-id-3 div.sk-parallel-item:only-child::after {width: 0;}#sk-container-id-3 div.sk-dashed-wrapped {border: 1px dashed gray;margin: 0 0.4em 0.5em 0.4em;box-sizing: border-box;padding-bottom: 0.4em;background-color: white;}#sk-container-id-3 div.sk-label label {font-family: monospace;font-weight: bold;display: inline-block;line-height: 1.2em;}#sk-container-id-3 div.sk-label-container {text-align: center;}#sk-container-id-3 div.sk-container {/* jupyter's `normalize.less` sets `[hidden] { display: none; }` but bootstrap.min.css set `[hidden] { display: none !important; }` so we also need the `!important` here to be able to override the default hidden behavior on the sphinx rendered scikit-learn.org. See: https://github.com/scikit-learn/scikit-learn/issues/21755 */display: inline-block !important;position: relative;}#sk-container-id-3 div.sk-text-repr-fallback {display: none;}</style><div id=\"sk-container-id-3\" class=\"sk-top-container\"><div class=\"sk-text-repr-fallback\"><pre>GridSearchCV(estimator=DecisionTreeRegressor(),\n",
       "             param_grid={&#x27;criterion&#x27;: [&#x27;squared_error&#x27;, &#x27;friedman_mse&#x27;,\n",
       "                                       &#x27;absolute_error&#x27;, &#x27;poisson&#x27;],\n",
       "                         &#x27;max_depth&#x27;: [2, 3, 4, 5, 6, 7, 8, 9, 10, 12, 14, 16,\n",
       "                                       18, 20],\n",
       "                         &#x27;min_samples_leaf&#x27;: [1, 2, 3, 4],\n",
       "                         &#x27;min_samples_split&#x27;: [2, 3, 4, 5],\n",
       "                         &#x27;splitter&#x27;: [&#x27;best&#x27;, &#x27;random&#x27;]})</pre><b>In a Jupyter environment, please rerun this cell to show the HTML representation or trust the notebook. <br />On GitHub, the HTML representation is unable to render, please try loading this page with nbviewer.org.</b></div><div class=\"sk-container\" hidden><div class=\"sk-item sk-dashed-wrapped\"><div class=\"sk-label-container\"><div class=\"sk-label sk-toggleable\"><input class=\"sk-toggleable__control sk-hidden--visually\" id=\"sk-estimator-id-7\" type=\"checkbox\" ><label for=\"sk-estimator-id-7\" class=\"sk-toggleable__label sk-toggleable__label-arrow\">GridSearchCV</label><div class=\"sk-toggleable__content\"><pre>GridSearchCV(estimator=DecisionTreeRegressor(),\n",
       "             param_grid={&#x27;criterion&#x27;: [&#x27;squared_error&#x27;, &#x27;friedman_mse&#x27;,\n",
       "                                       &#x27;absolute_error&#x27;, &#x27;poisson&#x27;],\n",
       "                         &#x27;max_depth&#x27;: [2, 3, 4, 5, 6, 7, 8, 9, 10, 12, 14, 16,\n",
       "                                       18, 20],\n",
       "                         &#x27;min_samples_leaf&#x27;: [1, 2, 3, 4],\n",
       "                         &#x27;min_samples_split&#x27;: [2, 3, 4, 5],\n",
       "                         &#x27;splitter&#x27;: [&#x27;best&#x27;, &#x27;random&#x27;]})</pre></div></div></div><div class=\"sk-parallel\"><div class=\"sk-parallel-item\"><div class=\"sk-item\"><div class=\"sk-label-container\"><div class=\"sk-label sk-toggleable\"><input class=\"sk-toggleable__control sk-hidden--visually\" id=\"sk-estimator-id-8\" type=\"checkbox\" ><label for=\"sk-estimator-id-8\" class=\"sk-toggleable__label sk-toggleable__label-arrow\">estimator: DecisionTreeRegressor</label><div class=\"sk-toggleable__content\"><pre>DecisionTreeRegressor()</pre></div></div></div><div class=\"sk-serial\"><div class=\"sk-item\"><div class=\"sk-estimator sk-toggleable\"><input class=\"sk-toggleable__control sk-hidden--visually\" id=\"sk-estimator-id-9\" type=\"checkbox\" ><label for=\"sk-estimator-id-9\" class=\"sk-toggleable__label sk-toggleable__label-arrow\">DecisionTreeRegressor</label><div class=\"sk-toggleable__content\"><pre>DecisionTreeRegressor()</pre></div></div></div></div></div></div></div></div></div></div>"
      ],
      "text/plain": [
       "GridSearchCV(estimator=DecisionTreeRegressor(),\n",
       "             param_grid={'criterion': ['squared_error', 'friedman_mse',\n",
       "                                       'absolute_error', 'poisson'],\n",
       "                         'max_depth': [2, 3, 4, 5, 6, 7, 8, 9, 10, 12, 14, 16,\n",
       "                                       18, 20],\n",
       "                         'min_samples_leaf': [1, 2, 3, 4],\n",
       "                         'min_samples_split': [2, 3, 4, 5],\n",
       "                         'splitter': ['best', 'random']})"
      ]
     },
     "execution_count": 76,
     "metadata": {},
     "output_type": "execute_result"
    }
   ],
   "source": [
    "model_dtr_K_grid = GridSearchCV(estimator=DecisionTreeRegressor(), param_grid=params_dtr)\n",
    "model_dtr_K_grid.fit(X_train, y_train)"
   ]
  },
  {
   "cell_type": "code",
   "execution_count": 77,
   "metadata": {},
   "outputs": [
    {
     "name": "stdout",
     "output_type": "stream",
     "text": [
      "Best Params: {'criterion': 'poisson', 'max_depth': 14, 'min_samples_leaf': 1, 'min_samples_split': 4, 'splitter': 'random'}\n",
      "Best score: 0.9856338976538342\n"
     ]
    }
   ],
   "source": [
    "print(f\"Best Params: {model_dtr_K_grid.best_params_}\")\n",
    "print(f\"Best score: {model_dtr_K_grid.best_score_}\")"
   ]
  },
  {
   "cell_type": "markdown",
   "metadata": {},
   "source": [
    "#### XGBoost Regressor"
   ]
  },
  {
   "cell_type": "code",
   "execution_count": 78,
   "metadata": {},
   "outputs": [],
   "source": [
    "param_xgb = {\n",
    "    'n_estimators': [100, 200, 300],\n",
    "    'learning_rate': [0.01, 0.1, 0.2],\n",
    "    'max_depth': [3, 4, 5]\n",
    "}"
   ]
  },
  {
   "cell_type": "code",
   "execution_count": 79,
   "metadata": {},
   "outputs": [
    {
     "data": {
      "text/html": [
       "<style>#sk-container-id-4 {color: black;background-color: white;}#sk-container-id-4 pre{padding: 0;}#sk-container-id-4 div.sk-toggleable {background-color: white;}#sk-container-id-4 label.sk-toggleable__label {cursor: pointer;display: block;width: 100%;margin-bottom: 0;padding: 0.3em;box-sizing: border-box;text-align: center;}#sk-container-id-4 label.sk-toggleable__label-arrow:before {content: \"▸\";float: left;margin-right: 0.25em;color: #696969;}#sk-container-id-4 label.sk-toggleable__label-arrow:hover:before {color: black;}#sk-container-id-4 div.sk-estimator:hover label.sk-toggleable__label-arrow:before {color: black;}#sk-container-id-4 div.sk-toggleable__content {max-height: 0;max-width: 0;overflow: hidden;text-align: left;background-color: #f0f8ff;}#sk-container-id-4 div.sk-toggleable__content pre {margin: 0.2em;color: black;border-radius: 0.25em;background-color: #f0f8ff;}#sk-container-id-4 input.sk-toggleable__control:checked~div.sk-toggleable__content {max-height: 200px;max-width: 100%;overflow: auto;}#sk-container-id-4 input.sk-toggleable__control:checked~label.sk-toggleable__label-arrow:before {content: \"▾\";}#sk-container-id-4 div.sk-estimator input.sk-toggleable__control:checked~label.sk-toggleable__label {background-color: #d4ebff;}#sk-container-id-4 div.sk-label input.sk-toggleable__control:checked~label.sk-toggleable__label {background-color: #d4ebff;}#sk-container-id-4 input.sk-hidden--visually {border: 0;clip: rect(1px 1px 1px 1px);clip: rect(1px, 1px, 1px, 1px);height: 1px;margin: -1px;overflow: hidden;padding: 0;position: absolute;width: 1px;}#sk-container-id-4 div.sk-estimator {font-family: monospace;background-color: #f0f8ff;border: 1px dotted black;border-radius: 0.25em;box-sizing: border-box;margin-bottom: 0.5em;}#sk-container-id-4 div.sk-estimator:hover {background-color: #d4ebff;}#sk-container-id-4 div.sk-parallel-item::after {content: \"\";width: 100%;border-bottom: 1px solid gray;flex-grow: 1;}#sk-container-id-4 div.sk-label:hover label.sk-toggleable__label {background-color: #d4ebff;}#sk-container-id-4 div.sk-serial::before {content: \"\";position: absolute;border-left: 1px solid gray;box-sizing: border-box;top: 0;bottom: 0;left: 50%;z-index: 0;}#sk-container-id-4 div.sk-serial {display: flex;flex-direction: column;align-items: center;background-color: white;padding-right: 0.2em;padding-left: 0.2em;position: relative;}#sk-container-id-4 div.sk-item {position: relative;z-index: 1;}#sk-container-id-4 div.sk-parallel {display: flex;align-items: stretch;justify-content: center;background-color: white;position: relative;}#sk-container-id-4 div.sk-item::before, #sk-container-id-4 div.sk-parallel-item::before {content: \"\";position: absolute;border-left: 1px solid gray;box-sizing: border-box;top: 0;bottom: 0;left: 50%;z-index: -1;}#sk-container-id-4 div.sk-parallel-item {display: flex;flex-direction: column;z-index: 1;position: relative;background-color: white;}#sk-container-id-4 div.sk-parallel-item:first-child::after {align-self: flex-end;width: 50%;}#sk-container-id-4 div.sk-parallel-item:last-child::after {align-self: flex-start;width: 50%;}#sk-container-id-4 div.sk-parallel-item:only-child::after {width: 0;}#sk-container-id-4 div.sk-dashed-wrapped {border: 1px dashed gray;margin: 0 0.4em 0.5em 0.4em;box-sizing: border-box;padding-bottom: 0.4em;background-color: white;}#sk-container-id-4 div.sk-label label {font-family: monospace;font-weight: bold;display: inline-block;line-height: 1.2em;}#sk-container-id-4 div.sk-label-container {text-align: center;}#sk-container-id-4 div.sk-container {/* jupyter's `normalize.less` sets `[hidden] { display: none; }` but bootstrap.min.css set `[hidden] { display: none !important; }` so we also need the `!important` here to be able to override the default hidden behavior on the sphinx rendered scikit-learn.org. See: https://github.com/scikit-learn/scikit-learn/issues/21755 */display: inline-block !important;position: relative;}#sk-container-id-4 div.sk-text-repr-fallback {display: none;}</style><div id=\"sk-container-id-4\" class=\"sk-top-container\"><div class=\"sk-text-repr-fallback\"><pre>GridSearchCV(estimator=XGBRegressor(base_score=None, booster=None,\n",
       "                                    callbacks=None, colsample_bylevel=None,\n",
       "                                    colsample_bynode=None,\n",
       "                                    colsample_bytree=None, device=None,\n",
       "                                    early_stopping_rounds=None,\n",
       "                                    enable_categorical=False, eval_metric=None,\n",
       "                                    feature_types=None, gamma=None,\n",
       "                                    grow_policy=None, importance_type=None,\n",
       "                                    interaction_constraints=None,\n",
       "                                    learning_rate=None, max_bin=None,\n",
       "                                    max_cat_threshold=None,\n",
       "                                    max_cat_to_onehot=None, max_delta_step=None,\n",
       "                                    max_depth=None, max_leaves=None,\n",
       "                                    min_child_weight=None, missing=nan,\n",
       "                                    monotone_constraints=None,\n",
       "                                    multi_strategy=None, n_estimators=None,\n",
       "                                    n_jobs=None, num_parallel_tree=None,\n",
       "                                    random_state=None, ...),\n",
       "             param_grid={&#x27;learning_rate&#x27;: [0.01, 0.1, 0.2],\n",
       "                         &#x27;max_depth&#x27;: [3, 4, 5],\n",
       "                         &#x27;n_estimators&#x27;: [100, 200, 300]})</pre><b>In a Jupyter environment, please rerun this cell to show the HTML representation or trust the notebook. <br />On GitHub, the HTML representation is unable to render, please try loading this page with nbviewer.org.</b></div><div class=\"sk-container\" hidden><div class=\"sk-item sk-dashed-wrapped\"><div class=\"sk-label-container\"><div class=\"sk-label sk-toggleable\"><input class=\"sk-toggleable__control sk-hidden--visually\" id=\"sk-estimator-id-10\" type=\"checkbox\" ><label for=\"sk-estimator-id-10\" class=\"sk-toggleable__label sk-toggleable__label-arrow\">GridSearchCV</label><div class=\"sk-toggleable__content\"><pre>GridSearchCV(estimator=XGBRegressor(base_score=None, booster=None,\n",
       "                                    callbacks=None, colsample_bylevel=None,\n",
       "                                    colsample_bynode=None,\n",
       "                                    colsample_bytree=None, device=None,\n",
       "                                    early_stopping_rounds=None,\n",
       "                                    enable_categorical=False, eval_metric=None,\n",
       "                                    feature_types=None, gamma=None,\n",
       "                                    grow_policy=None, importance_type=None,\n",
       "                                    interaction_constraints=None,\n",
       "                                    learning_rate=None, max_bin=None,\n",
       "                                    max_cat_threshold=None,\n",
       "                                    max_cat_to_onehot=None, max_delta_step=None,\n",
       "                                    max_depth=None, max_leaves=None,\n",
       "                                    min_child_weight=None, missing=nan,\n",
       "                                    monotone_constraints=None,\n",
       "                                    multi_strategy=None, n_estimators=None,\n",
       "                                    n_jobs=None, num_parallel_tree=None,\n",
       "                                    random_state=None, ...),\n",
       "             param_grid={&#x27;learning_rate&#x27;: [0.01, 0.1, 0.2],\n",
       "                         &#x27;max_depth&#x27;: [3, 4, 5],\n",
       "                         &#x27;n_estimators&#x27;: [100, 200, 300]})</pre></div></div></div><div class=\"sk-parallel\"><div class=\"sk-parallel-item\"><div class=\"sk-item\"><div class=\"sk-label-container\"><div class=\"sk-label sk-toggleable\"><input class=\"sk-toggleable__control sk-hidden--visually\" id=\"sk-estimator-id-11\" type=\"checkbox\" ><label for=\"sk-estimator-id-11\" class=\"sk-toggleable__label sk-toggleable__label-arrow\">estimator: XGBRegressor</label><div class=\"sk-toggleable__content\"><pre>XGBRegressor(base_score=None, booster=None, callbacks=None,\n",
       "             colsample_bylevel=None, colsample_bynode=None,\n",
       "             colsample_bytree=None, device=None, early_stopping_rounds=None,\n",
       "             enable_categorical=False, eval_metric=None, feature_types=None,\n",
       "             gamma=None, grow_policy=None, importance_type=None,\n",
       "             interaction_constraints=None, learning_rate=None, max_bin=None,\n",
       "             max_cat_threshold=None, max_cat_to_onehot=None,\n",
       "             max_delta_step=None, max_depth=None, max_leaves=None,\n",
       "             min_child_weight=None, missing=nan, monotone_constraints=None,\n",
       "             multi_strategy=None, n_estimators=None, n_jobs=None,\n",
       "             num_parallel_tree=None, random_state=None, ...)</pre></div></div></div><div class=\"sk-serial\"><div class=\"sk-item\"><div class=\"sk-estimator sk-toggleable\"><input class=\"sk-toggleable__control sk-hidden--visually\" id=\"sk-estimator-id-12\" type=\"checkbox\" ><label for=\"sk-estimator-id-12\" class=\"sk-toggleable__label sk-toggleable__label-arrow\">XGBRegressor</label><div class=\"sk-toggleable__content\"><pre>XGBRegressor(base_score=None, booster=None, callbacks=None,\n",
       "             colsample_bylevel=None, colsample_bynode=None,\n",
       "             colsample_bytree=None, device=None, early_stopping_rounds=None,\n",
       "             enable_categorical=False, eval_metric=None, feature_types=None,\n",
       "             gamma=None, grow_policy=None, importance_type=None,\n",
       "             interaction_constraints=None, learning_rate=None, max_bin=None,\n",
       "             max_cat_threshold=None, max_cat_to_onehot=None,\n",
       "             max_delta_step=None, max_depth=None, max_leaves=None,\n",
       "             min_child_weight=None, missing=nan, monotone_constraints=None,\n",
       "             multi_strategy=None, n_estimators=None, n_jobs=None,\n",
       "             num_parallel_tree=None, random_state=None, ...)</pre></div></div></div></div></div></div></div></div></div></div>"
      ],
      "text/plain": [
       "GridSearchCV(estimator=XGBRegressor(base_score=None, booster=None,\n",
       "                                    callbacks=None, colsample_bylevel=None,\n",
       "                                    colsample_bynode=None,\n",
       "                                    colsample_bytree=None, device=None,\n",
       "                                    early_stopping_rounds=None,\n",
       "                                    enable_categorical=False, eval_metric=None,\n",
       "                                    feature_types=None, gamma=None,\n",
       "                                    grow_policy=None, importance_type=None,\n",
       "                                    interaction_constraints=None,\n",
       "                                    learning_rate=None, max_bin=None,\n",
       "                                    max_cat_threshold=None,\n",
       "                                    max_cat_to_onehot=None, max_delta_step=None,\n",
       "                                    max_depth=None, max_leaves=None,\n",
       "                                    min_child_weight=None, missing=nan,\n",
       "                                    monotone_constraints=None,\n",
       "                                    multi_strategy=None, n_estimators=None,\n",
       "                                    n_jobs=None, num_parallel_tree=None,\n",
       "                                    random_state=None, ...),\n",
       "             param_grid={'learning_rate': [0.01, 0.1, 0.2],\n",
       "                         'max_depth': [3, 4, 5],\n",
       "                         'n_estimators': [100, 200, 300]})"
      ]
     },
     "execution_count": 79,
     "metadata": {},
     "output_type": "execute_result"
    }
   ],
   "source": [
    "model_xgb_K_grid = GridSearchCV(estimator=xgb.XGBRegressor(), param_grid=param_xgb)\n",
    "model_xgb_K_grid.fit(X_train, y_train)"
   ]
  },
  {
   "cell_type": "code",
   "execution_count": 80,
   "metadata": {},
   "outputs": [
    {
     "name": "stdout",
     "output_type": "stream",
     "text": [
      "Best Params: {'learning_rate': 0.1, 'max_depth': 5, 'n_estimators': 200}\n",
      "Best score: 0.9893582842051696\n"
     ]
    }
   ],
   "source": [
    "print(f\"Best Params: {model_xgb_K_grid.best_params_}\")\n",
    "print(f\"Best score: {model_xgb_K_grid.best_score_}\")"
   ]
  },
  {
   "cell_type": "markdown",
   "metadata": {},
   "source": [
    "#### Conclusion for K"
   ]
  },
  {
   "cell_type": "markdown",
   "metadata": {},
   "source": [
    "XGBoost Regressor also had the best performance here. We can conclude that we're to use XGBoost for predicting K also."
   ]
  },
  {
   "cell_type": "markdown",
   "metadata": {},
   "source": [
    "## Conclusion"
   ]
  },
  {
   "cell_type": "markdown",
   "metadata": {},
   "source": [
    "For this study, I could get all impression of the prediction of components for fertilization.\\\n",
    "It was found 2 different models to make its prediction.\n",
    "P - will be predicted by DecisionTreeRegresson\\\n",
    "N, K - will be predicted by XGBoost Regressor\n",
    "\n",
    "These models used are at least for the first training, the most recommended.\\\n",
    "In the future with newer data, these models might be changed."
   ]
  }
 ],
 "metadata": {
  "kernelspec": {
   "display_name": ".venv",
   "language": "python",
   "name": "python3"
  },
  "language_info": {
   "codemirror_mode": {
    "name": "ipython",
    "version": 3
   },
   "file_extension": ".py",
   "mimetype": "text/x-python",
   "name": "python",
   "nbconvert_exporter": "python",
   "pygments_lexer": "ipython3",
   "version": "3.11.0"
  }
 },
 "nbformat": 4,
 "nbformat_minor": 2
}
